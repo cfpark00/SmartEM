{
 "cells": [
  {
   "cell_type": "code",
   "execution_count": null,
   "metadata": {},
   "outputs": [],
   "source": [
    "import autoscript_sdb_microscope_client as sdb_client\n",
    "from autoscript_sdb_microscope_client import SdbMicroscopeClient\n",
    "import autoscript_sdb_microscope_client.enumerations as sdb_enums\n",
    "import autoscript_sdb_microscope_client.sdb_microscope_client as sdb_microscope_client\n",
    "from autoscript_sdb_microscope_client.enumerations import ImagingDevice\n",
    "import autoscript_sdb_microscope_client.structures as sdb_structures\n",
    "from autoscript_sdb_microscope_client.structures import GrabFrameSettings\n",
    "BitmapPatternDefinition = sdb_microscope_client.BitmapPatternDefinition\n",
    "StreamPatternDefinition = sdb_microscope_client.StreamPatternDefinition\n",
    "from PIL import Image\n",
    "import numpy as np"
   ]
  },
  {
   "cell_type": "code",
   "execution_count": null,
   "metadata": {},
   "outputs": [],
   "source": [
    "im = Image.open(\"D:\\\\Users\\\\Lab\\\\Documents\\\\SmartEM\\\\athey\\\\SmartEM\\\\data\\\\test_94\\\\rescan\\\\location_00000\\\\location_00000_xi_0_yi_0.png\")\n",
    "np.array(im)"
   ]
  },
  {
   "cell_type": "code",
   "execution_count": null,
   "metadata": {},
   "outputs": [],
   "source": [
    "microscope = SdbMicroscopeClient()\n",
    "microscope.connect(\"192.168.0.1\")\n",
    "microscope.detector.type.value == \"CBS\"\n",
    "microscope.specimen.stage.set_default_coordinate_system(\n",
    "            sdb_enums.CoordinateSystem.RAW\n",
    "        )\n",
    "microscope.beams.electron_beam.unblank()\n",
    "microscope.imaging.set_active_view(1)\n",
    "microscope.patterning.clear_patterns()"
   ]
  },
  {
   "cell_type": "code",
   "execution_count": null,
   "metadata": {},
   "outputs": [],
   "source": [
    "print(microscope.specimen.stage.current_position)\n",
    "print(microscope.beams.electron_beam.scanning.rotation.value)"
   ]
  },
  {
   "cell_type": "code",
   "execution_count": null,
   "metadata": {},
   "outputs": [],
   "source": [
    "path = \"D:\\\\temp\\\\bmp_test.bmp\"\n",
    "image= Image.open(path)\n",
    "image.size"
   ]
  },
  {
   "cell_type": "code",
   "execution_count": null,
   "metadata": {},
   "outputs": [],
   "source": [
    "path = \"D:\\\\Users\\\\Lab\\\\Documents\\\\SmartEM\\\\athey\\\\SmartEM\\\\tempfile.bmp\"\n",
    "image= Image.open(path)\n",
    "rescan_map = np.array(image)"
   ]
  },
  {
   "cell_type": "code",
   "execution_count": null,
   "metadata": {},
   "outputs": [],
   "source": [
    "rescan_map.shape"
   ]
  },
  {
   "cell_type": "markdown",
   "metadata": {},
   "source": [
    "# BPD"
   ]
  },
  {
   "cell_type": "code",
   "execution_count": null,
   "metadata": {},
   "outputs": [],
   "source": [
    "path = \"d:\\\\Users\\\\Lab\\\\Documents\\\\SmartEM\\\\athey\\\\SmartEM\\\\tempfile.bmp\"\n",
    "path = \"d:\\\\temp\\\\bmp_test.bmp\"\n",
    "bpd = BitmapPatternDefinition.load(path)\n",
    "bpd"
   ]
  },
  {
   "cell_type": "code",
   "execution_count": null,
   "metadata": {},
   "outputs": [],
   "source": [
    "microscope.patterning.create_bitmap(\n",
    "                    0, 0, 2048*4e-9, 1768*4e-9, 800e-9, bpd\n",
    "                )"
   ]
  },
  {
   "cell_type": "markdown",
   "metadata": {},
   "source": [
    "# SPD"
   ]
  },
  {
   "cell_type": "code",
   "execution_count": null,
   "metadata": {},
   "outputs": [],
   "source": [
    "spd = StreamPatternDefinition()"
   ]
  },
  {
   "cell_type": "code",
   "execution_count": null,
   "metadata": {},
   "outputs": [],
   "source": [
    "stream = np.array([[0], [0], [800e-9], [0]]).T\n",
    "spd.points = stream \n",
    "spd.repeat_count = 1\n",
    "pattern = microscope.patterning.create_stream(0, 0, spd)"
   ]
  },
  {
   "cell_type": "code",
   "execution_count": null,
   "metadata": {},
   "outputs": [],
   "source": []
  }
 ],
 "metadata": {
  "kernelspec": {
   "display_name": "verios1_39",
   "language": "python",
   "name": "python3"
  },
  "language_info": {
   "codemirror_mode": {
    "name": "ipython",
    "version": 3
   },
   "file_extension": ".py",
   "mimetype": "text/x-python",
   "name": "python",
   "nbconvert_exporter": "python",
   "pygments_lexer": "ipython3",
   "version": "3.9.20"
  }
 },
 "nbformat": 4,
 "nbformat_minor": 2
}
