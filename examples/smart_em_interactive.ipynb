{
 "cells": [
  {
   "cell_type": "code",
   "execution_count": null,
   "metadata": {},
   "outputs": [],
   "source": [
    "#add the base SmartEM path to the python path\n",
    "import sys\n",
    "sys.path.append('..')\n",
    "\n",
    "from smartem import smartem,tools\n",
    "from smartem.online import microscope,get_rescan_maps"
   ]
  },
  {
   "cell_type": "code",
   "execution_count": null,
   "metadata": {},
   "outputs": [],
   "source": [
    "microscope_type=\"fake_data\""
   ]
  },
  {
   "cell_type": "code",
   "execution_count": null,
   "metadata": {},
   "outputs": [],
   "source": [
    "if microscope_type == \"verios\":\n",
    "    params = {\"ip\": \"192.168.0.1\"}\n",
    "    my_microscope = microscope.ThermoFisherVerios(params=params)\n",
    "elif microscope_type == \"fake\":\n",
    "    params = {\"W\": 1024, \"H\": 1024, \"dtype\": np.uint16}\n",
    "    my_microscope = microscope.FakeRandomMicroscope(params=params)\n",
    "elif microscope_type == \"fake_data\":\n",
    "    params = {\n",
    "        \"images_ns\": {\n",
    "            50: \"../examples/data/example1/loc_001_dwell_00050ns_00002_param_001_yi_1_xi_1_reg.png\",\n",
    "            100: \"../examples/data/example1/loc_001_dwell_00100ns_00004_param_001_yi_1_xi_1_reg.png\",\n",
    "            200: \"../examples/data/example1/loc_001_dwell_00200ns_00007_param_001_yi_1_xi_1_reg.png\",\n",
    "            500: \"../examples/data/example1/loc_001_dwell_00500ns_00010_param_001_yi_1_xi_1_reg.png\",\n",
    "            1200: \"../examples/data/example1/loc_001_dwell_01200ns_00014_param_001_yi_1_xi_1_reg.png\",\n",
    "        }\n",
    "    }\n",
    "    my_microscope = microscope.FakeDataMicroscope(params=params)\n",
    "else:\n",
    "    raise ValueError(\"Unknown microscope type\")"
   ]
  },
  {
   "cell_type": "code",
   "execution_count": null,
   "metadata": {},
   "outputs": [],
   "source": [
    "get_rescan_map_type=\"membrane_errors\""
   ]
  },
  {
   "cell_type": "code",
   "execution_count": null,
   "metadata": {},
   "outputs": [],
   "source": [
    "if get_rescan_map_type == \"test\":\n",
    "    params = {\"type\": \"half\", \"fraction\": 0.5}\n",
    "    get_rescan_map = get_rescan_maps.GetRescanMapTest(params=params)\n",
    "elif get_rescan_map_type == \"membrane_errors\":\n",
    "    params = {\n",
    "        \"em2mb_net\": \"/home/tommy-local/projects/smartem/SmartEM/pretrained_models/unet_50_0.00e+00.pth\",\n",
    "        \"error_net\": \"/home/tommy-local/projects/smartem/SmartEM/pretrained_models/unet_50_0.00e+00.pth\",\n",
    "        \"device\": \"cuda:1\",\n",
    "        \"pad\": 0,\n",
    "        \"rescan_p_thres\": 0.1,\n",
    "        \"rescan_ratio\":None,#add a number to force a specific rescan ratio\n",
    "        \"search_step\": 0.01,\n",
    "        #\"do_clahe\": False,\n",
    "    }\n",
    "\n",
    "    get_rescan_map = get_rescan_maps.GetRescanMapMembraneErrors(params=params)\n",
    "else:\n",
    "    raise ValueError(\"Unknown get_rescan_map method\")"
   ]
  },
  {
   "cell_type": "code",
   "execution_count": null,
   "metadata": {},
   "outputs": [],
   "source": [
    "my_smart_em = smartem.SmartEM(\n",
    "    microscope=my_microscope, get_rescan_map=get_rescan_map\n",
    ")\n",
    "\n",
    "my_smart_em.initialize()\n",
    "print(my_smart_em)"
   ]
  },
  {
   "cell_type": "code",
   "execution_count": null,
   "metadata": {},
   "outputs": [],
   "source": [
    "params = {\"fast_dwt\": 50e-9, \"slow_dwt\": 500e-9, \"plot\": True}\n",
    "output = my_smart_em.acquire(params=params)"
   ]
  },
  {
   "cell_type": "code",
   "execution_count": null,
   "metadata": {},
   "outputs": [],
   "source": [
    "my_smart_em.close()"
   ]
  },
  {
   "cell_type": "code",
   "execution_count": null,
   "metadata": {},
   "outputs": [],
   "source": []
  },
  {
   "cell_type": "code",
   "execution_count": null,
   "metadata": {},
   "outputs": [],
   "source": []
  },
  {
   "cell_type": "code",
   "execution_count": null,
   "metadata": {},
   "outputs": [],
   "source": []
  }
 ],
 "metadata": {
  "kernelspec": {
   "display_name": "venv1",
   "language": "python",
   "name": "python3"
  },
  "language_info": {
   "codemirror_mode": {
    "name": "ipython",
    "version": 3
   },
   "file_extension": ".py",
   "mimetype": "text/x-python",
   "name": "python",
   "nbconvert_exporter": "python",
   "pygments_lexer": "ipython3",
   "version": "3.10.12"
  },
  "orig_nbformat": 4
 },
 "nbformat": 4,
 "nbformat_minor": 2
}
