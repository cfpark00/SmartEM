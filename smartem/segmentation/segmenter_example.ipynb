{
 "cells": [
  {
   "cell_type": "code",
   "execution_count": null,
   "metadata": {},
   "outputs": [],
   "source": [
    "from smartem.segmentation import segmenter, utils\n",
    "from skimage import measure\n",
    "from smartem.offline.train_mb_error_detector.NNtools import UNet\n",
    "\n",
    "import h5py\n",
    "import matplotlib.pyplot as plt\n",
    "import torch\n",
    "import numpy as np\n",
    "import pyvoi\n",
    "import pandas as pd\n",
    "import seaborn as sns\n",
    "import segmentation_models_pytorch as smp"
   ]
  },
  {
   "cell_type": "markdown",
   "metadata": {},
   "source": [
    "## Set variables"
   ]
  },
  {
   "cell_type": "code",
   "execution_count": null,
   "metadata": {},
   "outputs": [],
   "source": [
    "data_path = \"/storage2/projects/smartEM/em-vis/smartem-data-test.hdf5\"\n",
    "device = torch.device(\"cuda:1\")"
   ]
  },
  {
   "cell_type": "code",
   "execution_count": null,
   "metadata": {},
   "outputs": [],
   "source": [
    "model = UNet.UNet(1,2)\n",
    "model_path = '/home/tommy-local/projects/smartem/SmartEM/pretrained_models/unet_50_1.29e-01.pth'"
   ]
  },
  {
   "cell_type": "code",
   "execution_count": null,
   "metadata": {},
   "outputs": [],
   "source": [
    "model = smp.Unet(\n",
    "    encoder_name='resnet50', \n",
    "    encoder_weights='imagenet', \n",
    "    classes=2, \n",
    "    activation='sigmoid',\n",
    ")\n",
    "\n",
    "model_path = '/home/tommy-local/projects/smartem/smartem_support/fusedem2mb/best_model_EM2MB_noslow_state.pth'"
   ]
  },
  {
   "cell_type": "markdown",
   "metadata": {},
   "source": [
    "## Make Segmenter object"
   ]
  },
  {
   "cell_type": "code",
   "execution_count": null,
   "metadata": {},
   "outputs": [],
   "source": [
    "Iseg = segmenter.Segmenter(model_path, segmenter_function = measure.label, device=device)\n",
    "Iseg.set_model(model_class=model)"
   ]
  },
  {
   "cell_type": "markdown",
   "metadata": {},
   "source": [
    "## Compute VI vs. Dwell Time"
   ]
  },
  {
   "cell_type": "code",
   "execution_count": null,
   "metadata": {},
   "outputs": [],
   "source": [
    "data_dwts = []\n",
    "data_hdt_vois = []\n",
    "data_gt_vois = []\n",
    "\n",
    "with h5py.File(data_path, \"r\") as f:\n",
    "    for reg in f.keys():\n",
    "        group = f[reg]\n",
    "\n",
    "        dwts = [int(dwt) for dwt in list(group.keys())]\n",
    "        dwts.sort()\n",
    "        slowest_dwt = dwts[-1]\n",
    "\n",
    "        mask = group[f\"{slowest_dwt}/mask\"][()]\n",
    "        gt_labels = measure.label(255 - mask)\n",
    "\n",
    "        if gt_labels.shape[0] % 32 != 0:\n",
    "            gt_labels = gt_labels[:-(gt_labels.shape[0] % 32), :]\n",
    "\n",
    "        # 1200ns\n",
    "        im = group[f\"{slowest_dwt}/im\"][()]\n",
    "        hdt_labels = Iseg.get_labels(im)\n",
    "\n",
    "\n",
    "        # all dwts\n",
    "        for dwt in group.keys():\n",
    "            im = group[f\"{dwt}/im\"][()]\n",
    "\n",
    "            labels = Iseg.get_labels(im)\n",
    "\n",
    "            voi_gt,_,_ = pyvoi.VI(gt_labels.flatten(), labels.flatten())\n",
    "            voi_hdt,_,_ = pyvoi.VI(hdt_labels.flatten(), labels.flatten())\n",
    "            data_gt_vois.append(voi_gt.item())\n",
    "            data_hdt_vois.append(voi_hdt.item())\n",
    "            data_dwts.append(int(dwt))\n",
    "\n",
    "\n",
    "\n",
    "data = {\"Dwell Time (ns)\": data_dwts, \"Variation of Information from GT (nats)\": data_gt_vois, \"Variation of Information from 1200ns (nats)\": data_hdt_vois}\n",
    "df = pd.DataFrame(data=data)"
   ]
  },
  {
   "cell_type": "code",
   "execution_count": null,
   "metadata": {},
   "outputs": [],
   "source": [
    "sns.stripplot(data=df, y=\"Variation of Information from GT (nats)\", x=\"Dwell Time (ns)\")"
   ]
  },
  {
   "cell_type": "markdown",
   "metadata": {},
   "source": [
    "## Visualize result"
   ]
  },
  {
   "cell_type": "code",
   "execution_count": null,
   "metadata": {},
   "outputs": [],
   "source": [
    "images = {}\n",
    "\n",
    "desired_dwts = [25, 50, 100, 400, 800, 1200]\n",
    "\n",
    "with h5py.File(data_path, \"r\") as f:\n",
    "    reg = list(f.keys())[2]\n",
    "    group = f[reg]\n",
    "\n",
    "    dwts = [int(dwt) for dwt in list(group.keys())]\n",
    "    dwts.sort()\n",
    "    slowest_dwt = dwts[-1]\n",
    "    \n",
    "    mask = group[f\"{slowest_dwt}/mask\"][()]\n",
    "\n",
    "    gt_labels = measure.label(255 - mask)\n",
    "    if gt_labels.shape[0] % 32 != 0:\n",
    "        gt_labels = gt_labels[:-(gt_labels.shape[0] % 32), :]\n",
    "    gt_labels_shuffled = utils.shuffle_labels(gt_labels)\n",
    "    gt_labels_masked = np.ma.masked_where(gt_labels_shuffled == 0, gt_labels_shuffled)\n",
    "\n",
    "    for dwt in desired_dwts:\n",
    "        im = group[f\"{dwt}/im\"][()]\n",
    "\n",
    "        _, mb_probs = Iseg.get_membranes(im, get_probs=True)\n",
    "        labels = Iseg.get_labels(im)\n",
    "\n",
    "        labels_shuffled = utils.shuffle_labels(labels)\n",
    "        labels_masked = np.ma.masked_where(labels_shuffled == 0, labels_shuffled)\n",
    "\n",
    "        voi,_,_ = pyvoi.VI(gt_labels.flatten(), labels.flatten())\n",
    "        title_stem = f\"{dwt}ns_VOI_{voi.item():.2f}\"\n",
    "\n",
    "        images[title_stem + \"_image\"] = im\n",
    "        images[title_stem + \"_label\"] = labels_masked\n",
    "        images[title_stem + \"_pred\"] = mb_probs\n",
    "\n",
    "\n",
    "images[\"ground_truth_image\"] = im\n",
    "images[\"ground_truth_label\"] = gt_labels_masked\n",
    "images[\"ground_truth_pred\"] = mask\n",
    "images[\"high_dwell_time_image\"] = im\n"
   ]
  },
  {
   "cell_type": "code",
   "execution_count": null,
   "metadata": {},
   "outputs": [],
   "source": [
    "utils.visualize(**images)"
   ]
  },
  {
   "cell_type": "code",
   "execution_count": null,
   "metadata": {},
   "outputs": [],
   "source": []
  }
 ],
 "metadata": {
  "kernelspec": {
   "display_name": "dasparsity",
   "language": "python",
   "name": "python3"
  },
  "language_info": {
   "codemirror_mode": {
    "name": "ipython",
    "version": 3
   },
   "file_extension": ".py",
   "mimetype": "text/x-python",
   "name": "python",
   "nbconvert_exporter": "python",
   "pygments_lexer": "ipython3",
   "version": "3.10.14"
  }
 },
 "nbformat": 4,
 "nbformat_minor": 2
}
