{
 "cells": [
  {
   "cell_type": "code",
   "execution_count": 25,
   "metadata": {},
   "outputs": [],
   "source": [
    "from smartem import smartem,tools\n",
    "from smartem.online import microscope,get_rescan_maps\n",
    "from smartem.offline.train_mb_error_detector.NNtools import UNet\n",
    "from smartem.segmentation import segmenter, utils\n",
    "import h5py\n",
    "import numpy as np\n",
    "from skimage import io, measure\n",
    "from pathlib import Path\n",
    "import matplotlib.pyplot as plt\n",
    "import pyvoi\n",
    "import seaborn as sns\n",
    "import pandas as pd"
   ]
  },
  {
   "cell_type": "code",
   "execution_count": 39,
   "metadata": {},
   "outputs": [],
   "source": [
    "hdf5_path = \"/storage2/projects/smartEM/em-vis/smartem-data-test.hdf5\"\n",
    "temp_dir = \"/storage2/projects/smartEM/em-vis/temp/\"\n",
    "\n",
    "em2mb_model = UNet.UNet(1,2)\n",
    "em2mb_path = \"../../pretrained_models/em2mb_best.pth\"\n",
    "\n",
    "fast_dwt = 50\n",
    "slow_dwt = 500"
   ]
  },
  {
   "cell_type": "code",
   "execution_count": 40,
   "metadata": {},
   "outputs": [],
   "source": [
    "Iseg = segmenter.Segmenter(em2mb_path, segmenter_function = measure.label)\n",
    "Iseg.set_model(model_class=em2mb_model)"
   ]
  },
  {
   "cell_type": "code",
   "execution_count": 41,
   "metadata": {},
   "outputs": [
    {
     "name": "stdout",
     "output_type": "stream",
     "text": [
      "Inverting the image as not using custom watershed function\n",
      "Inverting the image as not using custom watershed function\n",
      "Inverting the image as not using custom watershed function\n",
      "Inverting the image as not using custom watershed function\n",
      "Inverting the image as not using custom watershed function\n",
      "Inverting the image as not using custom watershed function\n",
      "Inverting the image as not using custom watershed function\n",
      "Inverting the image as not using custom watershed function\n",
      "Inverting the image as not using custom watershed function\n",
      "Inverting the image as not using custom watershed function\n",
      "Inverting the image as not using custom watershed function\n",
      "Inverting the image as not using custom watershed function\n",
      "Inverting the image as not using custom watershed function\n",
      "Inverting the image as not using custom watershed function\n",
      "Inverting the image as not using custom watershed function\n",
      "Inverting the image as not using custom watershed function\n",
      "Inverting the image as not using custom watershed function\n",
      "Inverting the image as not using custom watershed function\n",
      "Inverting the image as not using custom watershed function\n",
      "Inverting the image as not using custom watershed function\n",
      "Inverting the image as not using custom watershed function\n",
      "Inverting the image as not using custom watershed function\n",
      "Inverting the image as not using custom watershed function\n",
      "Inverting the image as not using custom watershed function\n",
      "Inverting the image as not using custom watershed function\n",
      "Inverting the image as not using custom watershed function\n",
      "Inverting the image as not using custom watershed function\n",
      "Inverting the image as not using custom watershed function\n",
      "Inverting the image as not using custom watershed function\n",
      "Inverting the image as not using custom watershed function\n",
      "Inverting the image as not using custom watershed function\n",
      "Inverting the image as not using custom watershed function\n",
      "Inverting the image as not using custom watershed function\n",
      "Inverting the image as not using custom watershed function\n",
      "Inverting the image as not using custom watershed function\n",
      "Inverting the image as not using custom watershed function\n"
     ]
    }
   ],
   "source": [
    "data_dwts = []\n",
    "data_hdt_vois = []\n",
    "data_gt_vois = []\n",
    "\n",
    "with h5py.File(hdf5_path, 'r') as f:\n",
    "    for reg in f.keys():\n",
    "        group = f[reg]\n",
    "        dwts = [int(dwt) for dwt in list(group.keys())]\n",
    "        dwts.sort()\n",
    "        slowest_dwt = dwts[-1]\n",
    "\n",
    "        gt_mask = group[f\"{slowest_dwt}/mask\"][()]\n",
    "        gt_labels = measure.label(255 - gt_mask)\n",
    "\n",
    "        if gt_labels.shape[0] % 32 != 0:\n",
    "            gt_labels = gt_labels[:-(gt_labels.shape[0] % 32), :]\n",
    "        #print(f\"{gt_mask.shape}, {gt_mask.dtype} {np.amin(gt_mask)}-{np.amax(gt_mask)}\")\n",
    "\n",
    "        im = group[f\"{slowest_dwt}/im\"][()]\n",
    "        hdt_labels = Iseg.get_labels(im)\n",
    "\n",
    "        image_names = {}\n",
    "\n",
    "        for dwt in dwts:\n",
    "            im = group[f\"{dwt}/im\"][()]\n",
    "\n",
    "            im_file_path = Path(temp_dir) / f\"test_{reg}_{dwt}.png\"\n",
    "            io.imsave(im_file_path, im)\n",
    "            image_names[dwt] = str(im_file_path)\n",
    "\n",
    "        params = {\"images_ns\": image_names}\n",
    "        my_microscope = microscope.FakeDataMicroscope(params=params)\n",
    "\n",
    "\n",
    "        params = {\n",
    "            \"em2mb_net\": em2mb_path,\n",
    "            \"error_net\": \"../../pretrained_models/error_best.pth\",\n",
    "            \"device\": \"auto\",\n",
    "            \"pad\": 0,\n",
    "            \"rescan_p_thres\": 0.1,\n",
    "            \"rescan_ratio\":None,#add a number to force a specific rescan ratio\n",
    "            \"search_step\": 0.01,\n",
    "            #\"do_clahe\": False,\n",
    "        }\n",
    "        get_rescan_map = get_rescan_maps.GetRescanMapMembraneErrors(params=params)\n",
    "\n",
    "        my_smart_em = smartem.SmartEM(\n",
    "            microscope=my_microscope, get_rescan_map=get_rescan_map\n",
    "        )\n",
    "\n",
    "        my_smart_em.initialize()\n",
    "        \n",
    "        params = {\"fast_dwt\": fast_dwt*1e-9, \"slow_dwt\": slow_dwt*1e-9, \"plot\": False}\n",
    "        fast_em, slow_em, rescan_map, *_ = my_smart_em.acquire(params=params)\n",
    "        merged_em = fast_em.copy()\n",
    "        merged_em[rescan_map] = slow_em[rescan_map]\n",
    "\n",
    "        labels = Iseg.get_labels(merged_em)\n",
    "     \n",
    "\n",
    "        voi_gt,_,_ = pyvoi.VI(gt_labels.flatten(), labels.flatten())\n",
    "        voi_hdt,_,_ = pyvoi.VI(hdt_labels.flatten(), labels.flatten())\n",
    "        data_gt_vois.append(voi_gt.item())\n",
    "        data_hdt_vois.append(voi_hdt.item())\n",
    "        data_dwts.append(f\"SmartEM: {fast_dwt}/{slow_dwt}ns\")\n",
    "\n",
    "data = {\"Dwell Time (ns)\": data_dwts, \"Variation of Information from GT (nats)\": data_gt_vois, \"Variation of Information from 1200ns (nats)\": data_hdt_vois}\n",
    "df = pd.DataFrame(data=data)"
   ]
  },
  {
   "cell_type": "code",
   "execution_count": 42,
   "metadata": {},
   "outputs": [
    {
     "data": {
      "text/plain": [
       "<Axes: xlabel='Dwell Time (ns)', ylabel='Variation of Information from GT (nats)'>"
      ]
     },
     "execution_count": 42,
     "metadata": {},
     "output_type": "execute_result"
    },
    {
     "data": {
      "image/png": "[encoded data removed]",
      "text/plain": [
       "<Figure size 640x480 with 1 Axes>"
      ]
     },
     "metadata": {},
     "output_type": "display_data"
    }
   ],
   "source": [
    "sns.stripplot(data=df, y=\"Variation of Information from GT (nats)\", x=\"Dwell Time (ns)\")"
   ]
  },
  {
   "cell_type": "code",
   "execution_count": null,
   "metadata": {},
   "outputs": [],
   "source": []
  }
 ],
 "metadata": {
  "kernelspec": {
   "display_name": ".venv",
   "language": "python",
   "name": "python3"
  },
  "language_info": {
   "codemirror_mode": {
    "name": "ipython",
    "version": 3
   },
   "file_extension": ".py",
   "mimetype": "text/x-python",
   "name": "python",
   "nbconvert_exporter": "python",
   "pygments_lexer": "ipython3",
   "version": "3.10.12"
  }
 },
 "nbformat": 4,
 "nbformat_minor": 2
}
