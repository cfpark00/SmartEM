{
 "cells": [
  {
   "cell_type": "markdown",
   "metadata": {},
   "source": [
    "# Define fxns"
   ]
  },
  {
   "cell_type": "code",
   "execution_count": null,
   "metadata": {},
   "outputs": [],
   "source": [
    "import torch\n",
    "from torch.utils.benchmark import Timer\n",
    "from torchvision.io.image import decode_jpeg, read_file, read_image\n",
    "from torchvision import transforms as T\n",
    "\n",
    "# pil\n",
    "from PIL import Image\n",
    "\n",
    "# cv2\n",
    "import cv2\n",
    "\n",
    "# skimage\n",
    "from skimage import io\n",
    "\n",
    "# rasterio \n",
    "import rasterio \n",
    "\n",
    "import inspect\n",
    "import glob\n",
    "import numpy as np\n",
    "import pandas as pd\n",
    "import tifffile as tiff\n",
    "import time\n"
   ]
  },
  {
   "cell_type": "code",
   "execution_count": 9,
   "metadata": {},
   "outputs": [],
   "source": [
    "convert_to_tensor = T.transforms.ToTensor()\n",
    "\n",
    "def load_image_raw(image_path):\n",
    "    \"\"\"\n",
    "    Loads an image from the specified file path and returns the binary data.\n",
    "\n",
    "    Args:\n",
    "        image_path (str): The path to the image file.\n",
    "\n",
    "    Returns:\n",
    "        bytes: The binary data of the image.\n",
    "    \"\"\"\n",
    "    f = open(image_path, 'rb')\n",
    "    bytes = f.read()\n",
    "    f.close()\n",
    "    return bytes\n",
    "\n",
    "def pil_to_numpy(im):\n",
    "    \"\"\"\n",
    "    Converts a PIL Image object to a NumPy array.\n",
    "    Source : Fast import of Pillow images to NumPy / OpenCV arrays Written by Alex Karpinsky\n",
    "\n",
    "    Args:\n",
    "        im (PIL.Image.Image): The input PIL Image object.\n",
    "\n",
    "    Returns:\n",
    "        numpy.ndarray: The NumPy array representing the image.\n",
    "    \"\"\"\n",
    "    im.load()\n",
    "\n",
    "    # Unpack data\n",
    "    e = Image._getencoder(im.mode, \"raw\", im.mode)\n",
    "    e.setimage(im.im)\n",
    "\n",
    "    # NumPy buffer for the result\n",
    "    shape, typestr = Image._conv_type_shape(im)\n",
    "    data = np.empty(shape, dtype=np.dtype(typestr))\n",
    "    mem = data.data.cast(\"B\", (data.data.nbytes,))\n",
    "\n",
    "    bufsize, s, offset = 65536, 0, 0\n",
    "    while not s:\n",
    "        l, s, d = e.encode(bufsize)\n",
    "\n",
    "        mem[offset:offset + len(d)] = d\n",
    "        offset += len(d)\n",
    "    if s < 0:\n",
    "        raise RuntimeError(\"encoder error %d in tobytes\" % s)\n",
    "    return data\n",
    "\n",
    "\n",
    "\n",
    "# Image loading functions : \n",
    "def load_image_rasterio(image_path):\n",
    "    # Open the image using rasterio and read its contents into an array\n",
    "    with rasterio.open(image_path, 'r') as dataset:\n",
    "        array = dataset.read()\n",
    "    \n",
    "    # Convert the array to a PyTorch tensor\n",
    "    tensor = torch.from_numpy(array)\n",
    "    \n",
    "    # Return the tensor\n",
    "    return tensor\n",
    "\n",
    "def load_image_nvjpegl_cpu(image_path):\n",
    "    \"\"\"\n",
    "    Loads an image from the specified file path using NVJPEG decoder on CPU and returns a PyTorch tensor.\n",
    "\n",
    "    Args:\n",
    "        image_path (str): The path to the image file.\n",
    "\n",
    "    Returns:\n",
    "        torch.Tensor: The PyTorch tensor representing the image.\n",
    "    \"\"\"\n",
    "    data = read_file(image_path)\n",
    "    tensor = decode_jpeg(data, device=\"cpu\")\n",
    "    return tensor\n",
    "\n",
    "def load_image_nvjpegl_gpu(image_path):\n",
    "    \"\"\"\n",
    "    Loads an image from the specified file path using NVJPEG decoder on GPU and returns a PyTorch tensor.\n",
    "\n",
    "    Args:\n",
    "        image_path (str): The path to the image file.\n",
    "\n",
    "    Returns:\n",
    "        torch.Tensor: The PyTorch tensor representing the image.\n",
    "    \"\"\"\n",
    "    data = read_file(image_path)\n",
    "    tensor = decode_jpeg(data, device=\"cuda:0\")\n",
    "    return tensor\n",
    "\n",
    "def load_image_pil_accelerated(image_path):\n",
    "    \"\"\"\n",
    "    Loads an image from the specified file path using PIL and returns a PyTorch tensor.\n",
    "\n",
    "    Args:\n",
    "        image_path (str): The path to the image file.\n",
    "\n",
    "    Returns:\n",
    "        torch.Tensor: The PyTorch tensor representing the image.\n",
    "    \"\"\"\n",
    "    image = Image.open(image_path)\n",
    "    array = pil_to_numpy(image)\n",
    "    tensor = torch.from_numpy(array)\n",
    "    return tensor\n",
    "\n",
    "\n",
    "def load_image_skimage(image_path):\n",
    "    \"\"\"\n",
    "    Loads an image from the specified file path using scikit-image and returns a PyTorch tensor.\n",
    "\n",
    "    Args:\n",
    "        image_path (str): The path to the image file.\n",
    "\n",
    "    Returns:\n",
    "        torch.Tensor: The PyTorch tensor representing the image.\n",
    "    \"\"\"\n",
    "    image = io.imread(image_path)\n",
    "    tensor = torch.from_numpy(image)\n",
    "    return tensor\n",
    "\n",
    "def load_image_pil(image_path):\n",
    "    \"\"\"\n",
    "    Loads an image from the specified file path using PIL and returns a PyTorch tensor.\n",
    "\n",
    "    Args:\n",
    "        image_path (str): The path to the image file.\n",
    "\n",
    "    Returns:\n",
    "        torch.Tensor: The PyTorch tensor representing the image.\n",
    "    \"\"\"\n",
    "    image = Image.open(image_path)\n",
    "    array = np.array(image)\n",
    "    tensor = torch.from_numpy(array)\n",
    "    return tensor\n",
    "\n",
    "def load_image_cv2(image_path):\n",
    "    \"\"\"\n",
    "    Loads an image from the specified file path using OpenCV (cv2) and returns a PyTorch tensor.\n",
    "\n",
    "    Args:\n",
    "        image_path (str): The path to the image file.\n",
    "\n",
    "    Returns:\n",
    "        torch.Tensor: The PyTorch tensor representing the image.\n",
    "    \"\"\"\n",
    "    image = cv2.imread(image_path)\n",
    "    array = cv2.cvtColor(image, cv2.COLOR_BGR2RGB)\n",
    "    tensor = torch.from_numpy(array)\n",
    "    return tensor\n",
    "\n",
    "def load_image_pil_to_tensor(image_path):\n",
    "    \"\"\"\n",
    "    Loads an image from the specified file path using PIL and returns a PyTorch tensor.\n",
    "\n",
    "    Args:\n",
    "        image_path (str): The path to the image file.\n",
    "\n",
    "    Returns:\n",
    "        torch.Tensor: The PyTorch tensor representing the image.\n",
    "    \"\"\"\n",
    "    image = Image.open(image_path)\n",
    "    tensor = convert_to_tensor(image)\n",
    "    return tensor\n",
    "\n",
    "def load_image_cv_to_tensor(image_path):\n",
    "    \"\"\"\n",
    "    Loads an image from the specified file path using OpenCV (cv2) and returns a PyTorch tensor.\n",
    "\n",
    "    Args:\n",
    "        image_path (str): The path to the image file.\n",
    "\n",
    "    Returns:\n",
    "        torch.Tensor: The PyTorch tensor representing the image.\n",
    "    \"\"\"\n",
    "    image = cv2.imread(image_path)\n",
    "    array = cv2.cvtColor(image, cv2.COLOR_BGR2RGB)\n",
    "    tensor = convert_to_tensor(array)\n",
    "    return tensor\n",
    "\n",
    "def load_image_pytorch(image_path):\n",
    "    tensor = read_image(image_path)\n",
    "    return tensor"
   ]
  },
  {
   "cell_type": "code",
   "execution_count": 11,
   "metadata": {},
   "outputs": [],
   "source": [
    "from rich.console import Console\n",
    "from rich.table import Table\n",
    "console = Console()\n",
    "\n",
    "def create_table_rich(num_pixels):\n",
    "    \"\"\"\n",
    "    Creates a rich table object with specific columns for displaying statistics of an image.\n",
    "\n",
    "    Args:\n",
    "        num_pixels (int): The number of pixels in the image.\n",
    "\n",
    "    Returns:\n",
    "        rich.table.Table: The rich table object.\n",
    "    \"\"\"\n",
    "    # Create a new table with a title that includes the number of pixels\n",
    "    table = Table(title=f\"Statistics Table for image with num pixels = {num_pixels}\")\n",
    "\n",
    "    # Add columns to the table with specified styles\n",
    "    table.add_column(\"Name\", justify=\"right\", style=\"cyan\", no_wrap=True)\n",
    "    table.add_column(\"First iteration (ms)\", justify=\"right\", style=\"cyan\", no_wrap=True)\n",
    "    table.add_column(\"Mean (ms)\", style=\"magenta\")\n",
    "    table.add_column(\"median (ms)\", justify=\"right\", style=\"green\")\n",
    "    table.add_column(\"Throughput (Megapixel / sec)\", justify=\"right\", style=\"green\")\n",
    "    table.add_column(\"fps (fps)\", justify=\"right\", style=\"green\")\n",
    "\n",
    "    return table\n",
    "\n",
    "def benchmark_image_loading(methods,basesetup, sizes, image_format=\"jpg\"):\n",
    "    \"\"\"\n",
    "    Benchmark the loading of images using different methods and different image sizes.\n",
    "\n",
    "    Args:\n",
    "        methods (dict): A dictionary containing the methods to benchmark.\n",
    "        basesetup (str): Base setup string for the benchmarking environment.\n",
    "        sizes (list): A list of image sizes to benchmark.\n",
    "\n",
    "    Returns:\n",
    "        pandas.DataFrame: The benchmark results in a DataFrame format.\n",
    "    \"\"\"\n",
    "    console.print(\"Creating and saving dummy images to disk :\")\n",
    "    # Creating and saving dummy images to disk\n",
    "    for size in sizes :\n",
    "        array = np.random.randint(0, 255, size=(size, size, 3), dtype=np.uint8)\n",
    "        if image_format == \"jpg\":\n",
    "            pil_image = Image.fromarray(array)\n",
    "            pil_image.save(f\"image_{size}.{image_format}\")\n",
    "        elif image_format==\"tif\":\n",
    "            tiff.imwrite(f\"image_{size}.{image_format}\", array, bigtiff=True, photometric='rgb')\n",
    "        \n",
    "    # Empty results\n",
    "    results = []\n",
    "\n",
    "    for i in sizes:\n",
    "        image_path =f\"image_{i}.{image_format}\"\n",
    "        img = Image.open(image_path)\n",
    "        height, width = img.size\n",
    "\n",
    "        num_pixels = height * width\n",
    "        num_runs = 10\n",
    "\n",
    "        console.rule(f\"Benchmark statistics : Image with shape = {img.size} and {image_format} format | N° Runs = {num_runs}  \")\n",
    "\n",
    "        globals1 = {'image_path':image_path}\n",
    "\n",
    "        table = create_table_rich(num_pixels)\n",
    "\n",
    "        for method_name, method in methods.items():\n",
    "\n",
    "            try : \n",
    "\n",
    "                start = time.time()\n",
    "                torch.cuda.synchronize() \n",
    "                method(image_path).to(device='cuda:0')\n",
    "                torch.cuda.synchronize() \n",
    "                first_load = (time.time()-start)*1000\n",
    "                stmt1 = f\"{method_name}(image_path).to(device='cuda:0')\"\n",
    "                setup = f\"{basesetup}\\n{inspect.getsource(method)}\\n{inspect.getsource(pil_to_numpy)}\\nconvert_to_tensor = T.transforms.ToTensor()\"\n",
    "\n",
    "                t = Timer(stmt=stmt1, setup=setup, globals=globals1).timeit(num_runs)\n",
    "\n",
    "                name, mean, median, throughput, fps = method_name, t.mean * 1000, t.median * 1000, num_pixels / 1e6 / t.median, 1 / t.median\n",
    "                results.append({\n",
    "                    \"name\":name,\n",
    "                    \"first_load\":first_load,\n",
    "                    \"mean\":mean,\n",
    "                    \"meadian\":median,\n",
    "                    \"throughput\":throughput,\n",
    "                    \"fps\":fps,\n",
    "                    \"num_pixels\":num_pixels,\n",
    "                })\n",
    "                table.add_row(name,f\"{first_load:.3f}\" , f\"{mean:.3f}\",  f\"{median:.3f}\", f\"{throughput:.3f}\", f\"{fps:.3f}\" )\n",
    "            except RuntimeError as e :\n",
    "                print(f\"{method_name} incompatible with {image_format}\")\n",
    "                continue\n",
    "\n",
    "        \n",
    "        console.print(table)\n",
    "    df = pd.DataFrame(results)\n",
    "    return df "
   ]
  },
  {
   "cell_type": "markdown",
   "metadata": {},
   "source": [
    "# disk read time"
   ]
  },
  {
   "cell_type": "code",
   "execution_count": 10,
   "metadata": {},
   "outputs": [
    {
     "name": "stdout",
     "output_type": "stream",
     "text": [
      "1+1 records in\n",
      "1+1 records out\n",
      "1563127 bytes (1.6 MB, 1.5 MiB) copied, 0.00160811 s, 972 MB/s\n",
      "\n",
      "real\t0m0.004s\n",
      "user\t0m0.004s\n",
      "sys\t0m0.001s\n"
     ]
    }
   ],
   "source": [
    "Image.fromarray(np.ones((10000, 10000, 3), np.uint8)).save(\"dummy.jpg\")\n",
    "!time dd if=dummy.jpg of=/dev/null bs=1M count=1000"
   ]
  },
  {
   "cell_type": "markdown",
   "metadata": {},
   "source": [
    "# Run exp"
   ]
  },
  {
   "cell_type": "code",
   "execution_count": 12,
   "metadata": {},
   "outputs": [
    {
     "data": {
      "text/html": [
       "<pre style=\"white-space:pre;overflow-x:auto;line-height:normal;font-family:Menlo,'DejaVu Sans Mono',consolas,'Courier New',monospace\">Creating and saving dummy images to disk :\n",
       "</pre>\n"
      ],
      "text/plain": [
       "Creating and saving dummy images to disk :\n"
      ]
     },
     "metadata": {},
     "output_type": "display_data"
    },
    {
     "data": {
      "text/html": [
       "<pre style=\"white-space:pre;overflow-x:auto;line-height:normal;font-family:Menlo,'DejaVu Sans Mono',consolas,'Courier New',monospace\"><span style=\"color: #00ff00; text-decoration-color: #00ff00\">────────────── </span>Benchmark statistics : Image with shape = <span style=\"font-weight: bold\">(</span><span style=\"color: #008080; text-decoration-color: #008080; font-weight: bold\">100</span>, <span style=\"color: #008080; text-decoration-color: #008080; font-weight: bold\">100</span><span style=\"font-weight: bold\">)</span> and jpg format | N° Runs = <span style=\"color: #008080; text-decoration-color: #008080; font-weight: bold\">10</span>  <span style=\"color: #00ff00; text-decoration-color: #00ff00\"> ───────────────</span>\n",
       "</pre>\n"
      ],
      "text/plain": [
       "\u001b[92m────────────── \u001b[0mBenchmark statistics : Image with shape = \u001b[1m(\u001b[0m\u001b[1;36m100\u001b[0m, \u001b[1;36m100\u001b[0m\u001b[1m)\u001b[0m and jpg format | N° Runs = \u001b[1;36m10\u001b[0m  \u001b[92m ───────────────\u001b[0m\n"
      ]
     },
     "metadata": {},
     "output_type": "display_data"
    },
    {
     "name": "stderr",
     "output_type": "stream",
     "text": [
      "/home/tommy-local/projects/smartem/.venv/lib/python3.10/site-packages/rasterio/__init__.py:304: NotGeoreferencedWarning: Dataset has no geotransform, gcps, or rpcs. The identity matrix will be returned.\n",
      "  dataset = DatasetReader(path, driver=driver, sharing=sharing, **kwargs)\n"
     ]
    },
    {
     "data": {
      "text/html": [
       "<pre style=\"white-space:pre;overflow-x:auto;line-height:normal;font-family:Menlo,'DejaVu Sans Mono',consolas,'Courier New',monospace\"><span style=\"font-style: italic\">                                Statistics Table for image with num pixels = 10000                                 </span>\n",
       "┏━━━━━━━━━━━━━━━━━━━━━━━━━━━━┳━━━━━━━━━━━━━━━━━━━━━━┳━━━━━━━━━━━┳━━━━━━━━━━━━━┳━━━━━━━━━━━━━━━━━━━━━━━┳━━━━━━━━━━━┓\n",
       "┃<span style=\"font-weight: bold\">                            </span>┃<span style=\"font-weight: bold\">                      </span>┃<span style=\"font-weight: bold\">           </span>┃<span style=\"font-weight: bold\">             </span>┃<span style=\"font-weight: bold\"> Throughput (Megapixel </span>┃<span style=\"font-weight: bold\">           </span>┃\n",
       "┃<span style=\"font-weight: bold\">                       Name </span>┃<span style=\"font-weight: bold\"> First iteration (ms) </span>┃<span style=\"font-weight: bold\"> Mean (ms) </span>┃<span style=\"font-weight: bold\"> median (ms) </span>┃<span style=\"font-weight: bold\">                / sec) </span>┃<span style=\"font-weight: bold\"> fps (fps) </span>┃\n",
       "┡━━━━━━━━━━━━━━━━━━━━━━━━━━━━╇━━━━━━━━━━━━━━━━━━━━━━╇━━━━━━━━━━━╇━━━━━━━━━━━━━╇━━━━━━━━━━━━━━━━━━━━━━━╇━━━━━━━━━━━┩\n",
       "│<span style=\"color: #008080; text-decoration-color: #008080\">     load_image_nvjpegl_cpu </span>│<span style=\"color: #008080; text-decoration-color: #008080\">               14.597 </span>│<span style=\"color: #800080; text-decoration-color: #800080\"> 0.182     </span>│<span style=\"color: #008000; text-decoration-color: #008000\">       0.182 </span>│<span style=\"color: #008000; text-decoration-color: #008000\">                54.840 </span>│<span style=\"color: #008000; text-decoration-color: #008000\">  5483.992 </span>│\n",
       "│<span style=\"color: #008080; text-decoration-color: #008080\">     load_image_nvjpegl_gpu </span>│<span style=\"color: #008080; text-decoration-color: #008080\">                3.268 </span>│<span style=\"color: #800080; text-decoration-color: #800080\"> 1.490     </span>│<span style=\"color: #008000; text-decoration-color: #008000\">       1.490 </span>│<span style=\"color: #008000; text-decoration-color: #008000\">                 6.711 </span>│<span style=\"color: #008000; text-decoration-color: #008000\">   671.076 </span>│\n",
       "│<span style=\"color: #008080; text-decoration-color: #008080\">         load_image_skimage </span>│<span style=\"color: #008080; text-decoration-color: #008080\">                1.776 </span>│<span style=\"color: #800080; text-decoration-color: #800080\"> 0.627     </span>│<span style=\"color: #008000; text-decoration-color: #008000\">       0.627 </span>│<span style=\"color: #008000; text-decoration-color: #008000\">                15.941 </span>│<span style=\"color: #008000; text-decoration-color: #008000\">  1594.078 </span>│\n",
       "│<span style=\"color: #008080; text-decoration-color: #008080\">             load_image_pil </span>│<span style=\"color: #008080; text-decoration-color: #008080\">                0.544 </span>│<span style=\"color: #800080; text-decoration-color: #800080\"> 0.307     </span>│<span style=\"color: #008000; text-decoration-color: #008000\">       0.307 </span>│<span style=\"color: #008000; text-decoration-color: #008000\">                32.593 </span>│<span style=\"color: #008000; text-decoration-color: #008000\">  3259.314 </span>│\n",
       "│<span style=\"color: #008080; text-decoration-color: #008080\"> load_image_pil_accelerated </span>│<span style=\"color: #008080; text-decoration-color: #008080\">                0.545 </span>│<span style=\"color: #800080; text-decoration-color: #800080\"> 0.296     </span>│<span style=\"color: #008000; text-decoration-color: #008000\">       0.296 </span>│<span style=\"color: #008000; text-decoration-color: #008000\">                33.755 </span>│<span style=\"color: #008000; text-decoration-color: #008000\">  3375.460 </span>│\n",
       "│<span style=\"color: #008080; text-decoration-color: #008080\">             load_image_cv2 </span>│<span style=\"color: #008080; text-decoration-color: #008080\">                0.548 </span>│<span style=\"color: #800080; text-decoration-color: #800080\"> 0.214     </span>│<span style=\"color: #008000; text-decoration-color: #008000\">       0.214 </span>│<span style=\"color: #008000; text-decoration-color: #008000\">                46.632 </span>│<span style=\"color: #008000; text-decoration-color: #008000\">  4663.152 </span>│\n",
       "│<span style=\"color: #008080; text-decoration-color: #008080\">        load_image_rasterio </span>│<span style=\"color: #008080; text-decoration-color: #008080\">                3.009 </span>│<span style=\"color: #800080; text-decoration-color: #800080\"> 1.148     </span>│<span style=\"color: #008000; text-decoration-color: #008000\">       1.148 </span>│<span style=\"color: #008000; text-decoration-color: #008000\">                 8.709 </span>│<span style=\"color: #008000; text-decoration-color: #008000\">   870.891 </span>│\n",
       "│<span style=\"color: #008080; text-decoration-color: #008080\">   load_image_pil_to_tensor </span>│<span style=\"color: #008080; text-decoration-color: #008080\">                0.784 </span>│<span style=\"color: #800080; text-decoration-color: #800080\"> 0.455     </span>│<span style=\"color: #008000; text-decoration-color: #008000\">       0.455 </span>│<span style=\"color: #008000; text-decoration-color: #008000\">                22.002 </span>│<span style=\"color: #008000; text-decoration-color: #008000\">  2200.170 </span>│\n",
       "│<span style=\"color: #008080; text-decoration-color: #008080\">    load_image_cv_to_tensor </span>│<span style=\"color: #008080; text-decoration-color: #008080\">                0.581 </span>│<span style=\"color: #800080; text-decoration-color: #800080\"> 0.362     </span>│<span style=\"color: #008000; text-decoration-color: #008000\">       0.362 </span>│<span style=\"color: #008000; text-decoration-color: #008000\">                27.651 </span>│<span style=\"color: #008000; text-decoration-color: #008000\">  2765.107 </span>│\n",
       "│<span style=\"color: #008080; text-decoration-color: #008080\">         load_image_pytorch </span>│<span style=\"color: #008080; text-decoration-color: #008080\">                0.532 </span>│<span style=\"color: #800080; text-decoration-color: #800080\"> 0.206     </span>│<span style=\"color: #008000; text-decoration-color: #008000\">       0.206 </span>│<span style=\"color: #008000; text-decoration-color: #008000\">                48.438 </span>│<span style=\"color: #008000; text-decoration-color: #008000\">  4843.757 </span>│\n",
       "└────────────────────────────┴──────────────────────┴───────────┴─────────────┴───────────────────────┴───────────┘\n",
       "</pre>\n"
      ],
      "text/plain": [
       "\u001b[3m                                Statistics Table for image with num pixels = 10000                                 \u001b[0m\n",
       "┏━━━━━━━━━━━━━━━━━━━━━━━━━━━━┳━━━━━━━━━━━━━━━━━━━━━━┳━━━━━━━━━━━┳━━━━━━━━━━━━━┳━━━━━━━━━━━━━━━━━━━━━━━┳━━━━━━━━━━━┓\n",
       "┃\u001b[1m                            \u001b[0m┃\u001b[1m                      \u001b[0m┃\u001b[1m           \u001b[0m┃\u001b[1m             \u001b[0m┃\u001b[1m \u001b[0m\u001b[1mThroughput (Megapixel\u001b[0m\u001b[1m \u001b[0m┃\u001b[1m           \u001b[0m┃\n",
       "┃\u001b[1m \u001b[0m\u001b[1m                      Name\u001b[0m\u001b[1m \u001b[0m┃\u001b[1m \u001b[0m\u001b[1mFirst iteration (ms)\u001b[0m\u001b[1m \u001b[0m┃\u001b[1m \u001b[0m\u001b[1mMean (ms)\u001b[0m\u001b[1m \u001b[0m┃\u001b[1m \u001b[0m\u001b[1mmedian (ms)\u001b[0m\u001b[1m \u001b[0m┃\u001b[1m \u001b[0m\u001b[1m               / sec)\u001b[0m\u001b[1m \u001b[0m┃\u001b[1m \u001b[0m\u001b[1mfps (fps)\u001b[0m\u001b[1m \u001b[0m┃\n",
       "┡━━━━━━━━━━━━━━━━━━━━━━━━━━━━╇━━━━━━━━━━━━━━━━━━━━━━╇━━━━━━━━━━━╇━━━━━━━━━━━━━╇━━━━━━━━━━━━━━━━━━━━━━━╇━━━━━━━━━━━┩\n",
       "│\u001b[36m \u001b[0m\u001b[36m    load_image_nvjpegl_cpu\u001b[0m\u001b[36m \u001b[0m│\u001b[36m \u001b[0m\u001b[36m              14.597\u001b[0m\u001b[36m \u001b[0m│\u001b[35m \u001b[0m\u001b[35m0.182    \u001b[0m\u001b[35m \u001b[0m│\u001b[32m \u001b[0m\u001b[32m      0.182\u001b[0m\u001b[32m \u001b[0m│\u001b[32m \u001b[0m\u001b[32m               54.840\u001b[0m\u001b[32m \u001b[0m│\u001b[32m \u001b[0m\u001b[32m 5483.992\u001b[0m\u001b[32m \u001b[0m│\n",
       "│\u001b[36m \u001b[0m\u001b[36m    load_image_nvjpegl_gpu\u001b[0m\u001b[36m \u001b[0m│\u001b[36m \u001b[0m\u001b[36m               3.268\u001b[0m\u001b[36m \u001b[0m│\u001b[35m \u001b[0m\u001b[35m1.490    \u001b[0m\u001b[35m \u001b[0m│\u001b[32m \u001b[0m\u001b[32m      1.490\u001b[0m\u001b[32m \u001b[0m│\u001b[32m \u001b[0m\u001b[32m                6.711\u001b[0m\u001b[32m \u001b[0m│\u001b[32m \u001b[0m\u001b[32m  671.076\u001b[0m\u001b[32m \u001b[0m│\n",
       "│\u001b[36m \u001b[0m\u001b[36m        load_image_skimage\u001b[0m\u001b[36m \u001b[0m│\u001b[36m \u001b[0m\u001b[36m               1.776\u001b[0m\u001b[36m \u001b[0m│\u001b[35m \u001b[0m\u001b[35m0.627    \u001b[0m\u001b[35m \u001b[0m│\u001b[32m \u001b[0m\u001b[32m      0.627\u001b[0m\u001b[32m \u001b[0m│\u001b[32m \u001b[0m\u001b[32m               15.941\u001b[0m\u001b[32m \u001b[0m│\u001b[32m \u001b[0m\u001b[32m 1594.078\u001b[0m\u001b[32m \u001b[0m│\n",
       "│\u001b[36m \u001b[0m\u001b[36m            load_image_pil\u001b[0m\u001b[36m \u001b[0m│\u001b[36m \u001b[0m\u001b[36m               0.544\u001b[0m\u001b[36m \u001b[0m│\u001b[35m \u001b[0m\u001b[35m0.307    \u001b[0m\u001b[35m \u001b[0m│\u001b[32m \u001b[0m\u001b[32m      0.307\u001b[0m\u001b[32m \u001b[0m│\u001b[32m \u001b[0m\u001b[32m               32.593\u001b[0m\u001b[32m \u001b[0m│\u001b[32m \u001b[0m\u001b[32m 3259.314\u001b[0m\u001b[32m \u001b[0m│\n",
       "│\u001b[36m \u001b[0m\u001b[36mload_image_pil_accelerated\u001b[0m\u001b[36m \u001b[0m│\u001b[36m \u001b[0m\u001b[36m               0.545\u001b[0m\u001b[36m \u001b[0m│\u001b[35m \u001b[0m\u001b[35m0.296    \u001b[0m\u001b[35m \u001b[0m│\u001b[32m \u001b[0m\u001b[32m      0.296\u001b[0m\u001b[32m \u001b[0m│\u001b[32m \u001b[0m\u001b[32m               33.755\u001b[0m\u001b[32m \u001b[0m│\u001b[32m \u001b[0m\u001b[32m 3375.460\u001b[0m\u001b[32m \u001b[0m│\n",
       "│\u001b[36m \u001b[0m\u001b[36m            load_image_cv2\u001b[0m\u001b[36m \u001b[0m│\u001b[36m \u001b[0m\u001b[36m               0.548\u001b[0m\u001b[36m \u001b[0m│\u001b[35m \u001b[0m\u001b[35m0.214    \u001b[0m\u001b[35m \u001b[0m│\u001b[32m \u001b[0m\u001b[32m      0.214\u001b[0m\u001b[32m \u001b[0m│\u001b[32m \u001b[0m\u001b[32m               46.632\u001b[0m\u001b[32m \u001b[0m│\u001b[32m \u001b[0m\u001b[32m 4663.152\u001b[0m\u001b[32m \u001b[0m│\n",
       "│\u001b[36m \u001b[0m\u001b[36m       load_image_rasterio\u001b[0m\u001b[36m \u001b[0m│\u001b[36m \u001b[0m\u001b[36m               3.009\u001b[0m\u001b[36m \u001b[0m│\u001b[35m \u001b[0m\u001b[35m1.148    \u001b[0m\u001b[35m \u001b[0m│\u001b[32m \u001b[0m\u001b[32m      1.148\u001b[0m\u001b[32m \u001b[0m│\u001b[32m \u001b[0m\u001b[32m                8.709\u001b[0m\u001b[32m \u001b[0m│\u001b[32m \u001b[0m\u001b[32m  870.891\u001b[0m\u001b[32m \u001b[0m│\n",
       "│\u001b[36m \u001b[0m\u001b[36m  load_image_pil_to_tensor\u001b[0m\u001b[36m \u001b[0m│\u001b[36m \u001b[0m\u001b[36m               0.784\u001b[0m\u001b[36m \u001b[0m│\u001b[35m \u001b[0m\u001b[35m0.455    \u001b[0m\u001b[35m \u001b[0m│\u001b[32m \u001b[0m\u001b[32m      0.455\u001b[0m\u001b[32m \u001b[0m│\u001b[32m \u001b[0m\u001b[32m               22.002\u001b[0m\u001b[32m \u001b[0m│\u001b[32m \u001b[0m\u001b[32m 2200.170\u001b[0m\u001b[32m \u001b[0m│\n",
       "│\u001b[36m \u001b[0m\u001b[36m   load_image_cv_to_tensor\u001b[0m\u001b[36m \u001b[0m│\u001b[36m \u001b[0m\u001b[36m               0.581\u001b[0m\u001b[36m \u001b[0m│\u001b[35m \u001b[0m\u001b[35m0.362    \u001b[0m\u001b[35m \u001b[0m│\u001b[32m \u001b[0m\u001b[32m      0.362\u001b[0m\u001b[32m \u001b[0m│\u001b[32m \u001b[0m\u001b[32m               27.651\u001b[0m\u001b[32m \u001b[0m│\u001b[32m \u001b[0m\u001b[32m 2765.107\u001b[0m\u001b[32m \u001b[0m│\n",
       "│\u001b[36m \u001b[0m\u001b[36m        load_image_pytorch\u001b[0m\u001b[36m \u001b[0m│\u001b[36m \u001b[0m\u001b[36m               0.532\u001b[0m\u001b[36m \u001b[0m│\u001b[35m \u001b[0m\u001b[35m0.206    \u001b[0m\u001b[35m \u001b[0m│\u001b[32m \u001b[0m\u001b[32m      0.206\u001b[0m\u001b[32m \u001b[0m│\u001b[32m \u001b[0m\u001b[32m               48.438\u001b[0m\u001b[32m \u001b[0m│\u001b[32m \u001b[0m\u001b[32m 4843.757\u001b[0m\u001b[32m \u001b[0m│\n",
       "└────────────────────────────┴──────────────────────┴───────────┴─────────────┴───────────────────────┴───────────┘\n"
      ]
     },
     "metadata": {},
     "output_type": "display_data"
    },
    {
     "data": {
      "text/html": [
       "<pre style=\"white-space:pre;overflow-x:auto;line-height:normal;font-family:Menlo,'DejaVu Sans Mono',consolas,'Courier New',monospace\"><span style=\"color: #00ff00; text-decoration-color: #00ff00\">────────────── </span>Benchmark statistics : Image with shape = <span style=\"font-weight: bold\">(</span><span style=\"color: #008080; text-decoration-color: #008080; font-weight: bold\">200</span>, <span style=\"color: #008080; text-decoration-color: #008080; font-weight: bold\">200</span><span style=\"font-weight: bold\">)</span> and jpg format | N° Runs = <span style=\"color: #008080; text-decoration-color: #008080; font-weight: bold\">10</span>  <span style=\"color: #00ff00; text-decoration-color: #00ff00\"> ───────────────</span>\n",
       "</pre>\n"
      ],
      "text/plain": [
       "\u001b[92m────────────── \u001b[0mBenchmark statistics : Image with shape = \u001b[1m(\u001b[0m\u001b[1;36m200\u001b[0m, \u001b[1;36m200\u001b[0m\u001b[1m)\u001b[0m and jpg format | N° Runs = \u001b[1;36m10\u001b[0m  \u001b[92m ───────────────\u001b[0m\n"
      ]
     },
     "metadata": {},
     "output_type": "display_data"
    },
    {
     "data": {
      "text/html": [
       "<pre style=\"white-space:pre;overflow-x:auto;line-height:normal;font-family:Menlo,'DejaVu Sans Mono',consolas,'Courier New',monospace\"><span style=\"font-style: italic\">                                Statistics Table for image with num pixels = 40000                                 </span>\n",
       "┏━━━━━━━━━━━━━━━━━━━━━━━━━━━━┳━━━━━━━━━━━━━━━━━━━━━━┳━━━━━━━━━━━┳━━━━━━━━━━━━━┳━━━━━━━━━━━━━━━━━━━━━━━┳━━━━━━━━━━━┓\n",
       "┃<span style=\"font-weight: bold\">                            </span>┃<span style=\"font-weight: bold\">                      </span>┃<span style=\"font-weight: bold\">           </span>┃<span style=\"font-weight: bold\">             </span>┃<span style=\"font-weight: bold\"> Throughput (Megapixel </span>┃<span style=\"font-weight: bold\">           </span>┃\n",
       "┃<span style=\"font-weight: bold\">                       Name </span>┃<span style=\"font-weight: bold\"> First iteration (ms) </span>┃<span style=\"font-weight: bold\"> Mean (ms) </span>┃<span style=\"font-weight: bold\"> median (ms) </span>┃<span style=\"font-weight: bold\">                / sec) </span>┃<span style=\"font-weight: bold\"> fps (fps) </span>┃\n",
       "┡━━━━━━━━━━━━━━━━━━━━━━━━━━━━╇━━━━━━━━━━━━━━━━━━━━━━╇━━━━━━━━━━━╇━━━━━━━━━━━━━╇━━━━━━━━━━━━━━━━━━━━━━━╇━━━━━━━━━━━┩\n",
       "│<span style=\"color: #008080; text-decoration-color: #008080\">     load_image_nvjpegl_cpu </span>│<span style=\"color: #008080; text-decoration-color: #008080\">                0.846 </span>│<span style=\"color: #800080; text-decoration-color: #800080\"> 0.500     </span>│<span style=\"color: #008000; text-decoration-color: #008000\">       0.500 </span>│<span style=\"color: #008000; text-decoration-color: #008000\">                79.993 </span>│<span style=\"color: #008000; text-decoration-color: #008000\">  1999.831 </span>│\n",
       "│<span style=\"color: #008080; text-decoration-color: #008080\">     load_image_nvjpegl_gpu </span>│<span style=\"color: #008080; text-decoration-color: #008080\">                3.027 </span>│<span style=\"color: #800080; text-decoration-color: #800080\"> 1.815     </span>│<span style=\"color: #008000; text-decoration-color: #008000\">       1.815 </span>│<span style=\"color: #008000; text-decoration-color: #008000\">                22.038 </span>│<span style=\"color: #008000; text-decoration-color: #008000\">   550.948 </span>│\n",
       "│<span style=\"color: #008080; text-decoration-color: #008080\">         load_image_skimage </span>│<span style=\"color: #008080; text-decoration-color: #008080\">                1.809 </span>│<span style=\"color: #800080; text-decoration-color: #800080\"> 0.983     </span>│<span style=\"color: #008000; text-decoration-color: #008000\">       0.983 </span>│<span style=\"color: #008000; text-decoration-color: #008000\">                40.707 </span>│<span style=\"color: #008000; text-decoration-color: #008000\">  1017.666 </span>│\n",
       "│<span style=\"color: #008080; text-decoration-color: #008080\">             load_image_pil </span>│<span style=\"color: #008080; text-decoration-color: #008080\">                1.000 </span>│<span style=\"color: #800080; text-decoration-color: #800080\"> 0.614     </span>│<span style=\"color: #008000; text-decoration-color: #008000\">       0.614 </span>│<span style=\"color: #008000; text-decoration-color: #008000\">                65.094 </span>│<span style=\"color: #008000; text-decoration-color: #008000\">  1627.355 </span>│\n",
       "│<span style=\"color: #008080; text-decoration-color: #008080\"> load_image_pil_accelerated </span>│<span style=\"color: #008080; text-decoration-color: #008080\">                0.988 </span>│<span style=\"color: #800080; text-decoration-color: #800080\"> 0.621     </span>│<span style=\"color: #008000; text-decoration-color: #008000\">       0.621 </span>│<span style=\"color: #008000; text-decoration-color: #008000\">                64.413 </span>│<span style=\"color: #008000; text-decoration-color: #008000\">  1610.321 </span>│\n",
       "│<span style=\"color: #008080; text-decoration-color: #008080\">             load_image_cv2 </span>│<span style=\"color: #008080; text-decoration-color: #008080\">                1.245 </span>│<span style=\"color: #800080; text-decoration-color: #800080\"> 0.737     </span>│<span style=\"color: #008000; text-decoration-color: #008000\">       0.737 </span>│<span style=\"color: #008000; text-decoration-color: #008000\">                54.305 </span>│<span style=\"color: #008000; text-decoration-color: #008000\">  1357.635 </span>│\n",
       "│<span style=\"color: #008080; text-decoration-color: #008080\">        load_image_rasterio </span>│<span style=\"color: #008080; text-decoration-color: #008080\">                3.896 </span>│<span style=\"color: #800080; text-decoration-color: #800080\"> 2.327     </span>│<span style=\"color: #008000; text-decoration-color: #008000\">       2.327 </span>│<span style=\"color: #008000; text-decoration-color: #008000\">                17.192 </span>│<span style=\"color: #008000; text-decoration-color: #008000\">   429.790 </span>│\n",
       "│<span style=\"color: #008080; text-decoration-color: #008080\">   load_image_pil_to_tensor </span>│<span style=\"color: #008080; text-decoration-color: #008080\">                2.397 </span>│<span style=\"color: #800080; text-decoration-color: #800080\"> 0.939     </span>│<span style=\"color: #008000; text-decoration-color: #008000\">       0.939 </span>│<span style=\"color: #008000; text-decoration-color: #008000\">                42.610 </span>│<span style=\"color: #008000; text-decoration-color: #008000\">  1065.245 </span>│\n",
       "│<span style=\"color: #008080; text-decoration-color: #008080\">    load_image_cv_to_tensor </span>│<span style=\"color: #008080; text-decoration-color: #008080\">                8.068 </span>│<span style=\"color: #800080; text-decoration-color: #800080\"> 1.350     </span>│<span style=\"color: #008000; text-decoration-color: #008000\">       1.350 </span>│<span style=\"color: #008000; text-decoration-color: #008000\">                29.626 </span>│<span style=\"color: #008000; text-decoration-color: #008000\">   740.660 </span>│\n",
       "│<span style=\"color: #008080; text-decoration-color: #008080\">         load_image_pytorch </span>│<span style=\"color: #008080; text-decoration-color: #008080\">                0.908 </span>│<span style=\"color: #800080; text-decoration-color: #800080\"> 0.796     </span>│<span style=\"color: #008000; text-decoration-color: #008000\">       0.796 </span>│<span style=\"color: #008000; text-decoration-color: #008000\">                50.236 </span>│<span style=\"color: #008000; text-decoration-color: #008000\">  1255.912 </span>│\n",
       "└────────────────────────────┴──────────────────────┴───────────┴─────────────┴───────────────────────┴───────────┘\n",
       "</pre>\n"
      ],
      "text/plain": [
       "\u001b[3m                                Statistics Table for image with num pixels = 40000                                 \u001b[0m\n",
       "┏━━━━━━━━━━━━━━━━━━━━━━━━━━━━┳━━━━━━━━━━━━━━━━━━━━━━┳━━━━━━━━━━━┳━━━━━━━━━━━━━┳━━━━━━━━━━━━━━━━━━━━━━━┳━━━━━━━━━━━┓\n",
       "┃\u001b[1m                            \u001b[0m┃\u001b[1m                      \u001b[0m┃\u001b[1m           \u001b[0m┃\u001b[1m             \u001b[0m┃\u001b[1m \u001b[0m\u001b[1mThroughput (Megapixel\u001b[0m\u001b[1m \u001b[0m┃\u001b[1m           \u001b[0m┃\n",
       "┃\u001b[1m \u001b[0m\u001b[1m                      Name\u001b[0m\u001b[1m \u001b[0m┃\u001b[1m \u001b[0m\u001b[1mFirst iteration (ms)\u001b[0m\u001b[1m \u001b[0m┃\u001b[1m \u001b[0m\u001b[1mMean (ms)\u001b[0m\u001b[1m \u001b[0m┃\u001b[1m \u001b[0m\u001b[1mmedian (ms)\u001b[0m\u001b[1m \u001b[0m┃\u001b[1m \u001b[0m\u001b[1m               / sec)\u001b[0m\u001b[1m \u001b[0m┃\u001b[1m \u001b[0m\u001b[1mfps (fps)\u001b[0m\u001b[1m \u001b[0m┃\n",
       "┡━━━━━━━━━━━━━━━━━━━━━━━━━━━━╇━━━━━━━━━━━━━━━━━━━━━━╇━━━━━━━━━━━╇━━━━━━━━━━━━━╇━━━━━━━━━━━━━━━━━━━━━━━╇━━━━━━━━━━━┩\n",
       "│\u001b[36m \u001b[0m\u001b[36m    load_image_nvjpegl_cpu\u001b[0m\u001b[36m \u001b[0m│\u001b[36m \u001b[0m\u001b[36m               0.846\u001b[0m\u001b[36m \u001b[0m│\u001b[35m \u001b[0m\u001b[35m0.500    \u001b[0m\u001b[35m \u001b[0m│\u001b[32m \u001b[0m\u001b[32m      0.500\u001b[0m\u001b[32m \u001b[0m│\u001b[32m \u001b[0m\u001b[32m               79.993\u001b[0m\u001b[32m \u001b[0m│\u001b[32m \u001b[0m\u001b[32m 1999.831\u001b[0m\u001b[32m \u001b[0m│\n",
       "│\u001b[36m \u001b[0m\u001b[36m    load_image_nvjpegl_gpu\u001b[0m\u001b[36m \u001b[0m│\u001b[36m \u001b[0m\u001b[36m               3.027\u001b[0m\u001b[36m \u001b[0m│\u001b[35m \u001b[0m\u001b[35m1.815    \u001b[0m\u001b[35m \u001b[0m│\u001b[32m \u001b[0m\u001b[32m      1.815\u001b[0m\u001b[32m \u001b[0m│\u001b[32m \u001b[0m\u001b[32m               22.038\u001b[0m\u001b[32m \u001b[0m│\u001b[32m \u001b[0m\u001b[32m  550.948\u001b[0m\u001b[32m \u001b[0m│\n",
       "│\u001b[36m \u001b[0m\u001b[36m        load_image_skimage\u001b[0m\u001b[36m \u001b[0m│\u001b[36m \u001b[0m\u001b[36m               1.809\u001b[0m\u001b[36m \u001b[0m│\u001b[35m \u001b[0m\u001b[35m0.983    \u001b[0m\u001b[35m \u001b[0m│\u001b[32m \u001b[0m\u001b[32m      0.983\u001b[0m\u001b[32m \u001b[0m│\u001b[32m \u001b[0m\u001b[32m               40.707\u001b[0m\u001b[32m \u001b[0m│\u001b[32m \u001b[0m\u001b[32m 1017.666\u001b[0m\u001b[32m \u001b[0m│\n",
       "│\u001b[36m \u001b[0m\u001b[36m            load_image_pil\u001b[0m\u001b[36m \u001b[0m│\u001b[36m \u001b[0m\u001b[36m               1.000\u001b[0m\u001b[36m \u001b[0m│\u001b[35m \u001b[0m\u001b[35m0.614    \u001b[0m\u001b[35m \u001b[0m│\u001b[32m \u001b[0m\u001b[32m      0.614\u001b[0m\u001b[32m \u001b[0m│\u001b[32m \u001b[0m\u001b[32m               65.094\u001b[0m\u001b[32m \u001b[0m│\u001b[32m \u001b[0m\u001b[32m 1627.355\u001b[0m\u001b[32m \u001b[0m│\n",
       "│\u001b[36m \u001b[0m\u001b[36mload_image_pil_accelerated\u001b[0m\u001b[36m \u001b[0m│\u001b[36m \u001b[0m\u001b[36m               0.988\u001b[0m\u001b[36m \u001b[0m│\u001b[35m \u001b[0m\u001b[35m0.621    \u001b[0m\u001b[35m \u001b[0m│\u001b[32m \u001b[0m\u001b[32m      0.621\u001b[0m\u001b[32m \u001b[0m│\u001b[32m \u001b[0m\u001b[32m               64.413\u001b[0m\u001b[32m \u001b[0m│\u001b[32m \u001b[0m\u001b[32m 1610.321\u001b[0m\u001b[32m \u001b[0m│\n",
       "│\u001b[36m \u001b[0m\u001b[36m            load_image_cv2\u001b[0m\u001b[36m \u001b[0m│\u001b[36m \u001b[0m\u001b[36m               1.245\u001b[0m\u001b[36m \u001b[0m│\u001b[35m \u001b[0m\u001b[35m0.737    \u001b[0m\u001b[35m \u001b[0m│\u001b[32m \u001b[0m\u001b[32m      0.737\u001b[0m\u001b[32m \u001b[0m│\u001b[32m \u001b[0m\u001b[32m               54.305\u001b[0m\u001b[32m \u001b[0m│\u001b[32m \u001b[0m\u001b[32m 1357.635\u001b[0m\u001b[32m \u001b[0m│\n",
       "│\u001b[36m \u001b[0m\u001b[36m       load_image_rasterio\u001b[0m\u001b[36m \u001b[0m│\u001b[36m \u001b[0m\u001b[36m               3.896\u001b[0m\u001b[36m \u001b[0m│\u001b[35m \u001b[0m\u001b[35m2.327    \u001b[0m\u001b[35m \u001b[0m│\u001b[32m \u001b[0m\u001b[32m      2.327\u001b[0m\u001b[32m \u001b[0m│\u001b[32m \u001b[0m\u001b[32m               17.192\u001b[0m\u001b[32m \u001b[0m│\u001b[32m \u001b[0m\u001b[32m  429.790\u001b[0m\u001b[32m \u001b[0m│\n",
       "│\u001b[36m \u001b[0m\u001b[36m  load_image_pil_to_tensor\u001b[0m\u001b[36m \u001b[0m│\u001b[36m \u001b[0m\u001b[36m               2.397\u001b[0m\u001b[36m \u001b[0m│\u001b[35m \u001b[0m\u001b[35m0.939    \u001b[0m\u001b[35m \u001b[0m│\u001b[32m \u001b[0m\u001b[32m      0.939\u001b[0m\u001b[32m \u001b[0m│\u001b[32m \u001b[0m\u001b[32m               42.610\u001b[0m\u001b[32m \u001b[0m│\u001b[32m \u001b[0m\u001b[32m 1065.245\u001b[0m\u001b[32m \u001b[0m│\n",
       "│\u001b[36m \u001b[0m\u001b[36m   load_image_cv_to_tensor\u001b[0m\u001b[36m \u001b[0m│\u001b[36m \u001b[0m\u001b[36m               8.068\u001b[0m\u001b[36m \u001b[0m│\u001b[35m \u001b[0m\u001b[35m1.350    \u001b[0m\u001b[35m \u001b[0m│\u001b[32m \u001b[0m\u001b[32m      1.350\u001b[0m\u001b[32m \u001b[0m│\u001b[32m \u001b[0m\u001b[32m               29.626\u001b[0m\u001b[32m \u001b[0m│\u001b[32m \u001b[0m\u001b[32m  740.660\u001b[0m\u001b[32m \u001b[0m│\n",
       "│\u001b[36m \u001b[0m\u001b[36m        load_image_pytorch\u001b[0m\u001b[36m \u001b[0m│\u001b[36m \u001b[0m\u001b[36m               0.908\u001b[0m\u001b[36m \u001b[0m│\u001b[35m \u001b[0m\u001b[35m0.796    \u001b[0m\u001b[35m \u001b[0m│\u001b[32m \u001b[0m\u001b[32m      0.796\u001b[0m\u001b[32m \u001b[0m│\u001b[32m \u001b[0m\u001b[32m               50.236\u001b[0m\u001b[32m \u001b[0m│\u001b[32m \u001b[0m\u001b[32m 1255.912\u001b[0m\u001b[32m \u001b[0m│\n",
       "└────────────────────────────┴──────────────────────┴───────────┴─────────────┴───────────────────────┴───────────┘\n"
      ]
     },
     "metadata": {},
     "output_type": "display_data"
    },
    {
     "data": {
      "text/html": [
       "<pre style=\"white-space:pre;overflow-x:auto;line-height:normal;font-family:Menlo,'DejaVu Sans Mono',consolas,'Courier New',monospace\"><span style=\"color: #00ff00; text-decoration-color: #00ff00\">────────────── </span>Benchmark statistics : Image with shape = <span style=\"font-weight: bold\">(</span><span style=\"color: #008080; text-decoration-color: #008080; font-weight: bold\">300</span>, <span style=\"color: #008080; text-decoration-color: #008080; font-weight: bold\">300</span><span style=\"font-weight: bold\">)</span> and jpg format | N° Runs = <span style=\"color: #008080; text-decoration-color: #008080; font-weight: bold\">10</span>  <span style=\"color: #00ff00; text-decoration-color: #00ff00\"> ───────────────</span>\n",
       "</pre>\n"
      ],
      "text/plain": [
       "\u001b[92m────────────── \u001b[0mBenchmark statistics : Image with shape = \u001b[1m(\u001b[0m\u001b[1;36m300\u001b[0m, \u001b[1;36m300\u001b[0m\u001b[1m)\u001b[0m and jpg format | N° Runs = \u001b[1;36m10\u001b[0m  \u001b[92m ───────────────\u001b[0m\n"
      ]
     },
     "metadata": {},
     "output_type": "display_data"
    },
    {
     "data": {
      "text/html": [
       "<pre style=\"white-space:pre;overflow-x:auto;line-height:normal;font-family:Menlo,'DejaVu Sans Mono',consolas,'Courier New',monospace\"><span style=\"font-style: italic\">                                Statistics Table for image with num pixels = 90000                                 </span>\n",
       "┏━━━━━━━━━━━━━━━━━━━━━━━━━━━━┳━━━━━━━━━━━━━━━━━━━━━━┳━━━━━━━━━━━┳━━━━━━━━━━━━━┳━━━━━━━━━━━━━━━━━━━━━━━┳━━━━━━━━━━━┓\n",
       "┃<span style=\"font-weight: bold\">                            </span>┃<span style=\"font-weight: bold\">                      </span>┃<span style=\"font-weight: bold\">           </span>┃<span style=\"font-weight: bold\">             </span>┃<span style=\"font-weight: bold\"> Throughput (Megapixel </span>┃<span style=\"font-weight: bold\">           </span>┃\n",
       "┃<span style=\"font-weight: bold\">                       Name </span>┃<span style=\"font-weight: bold\"> First iteration (ms) </span>┃<span style=\"font-weight: bold\"> Mean (ms) </span>┃<span style=\"font-weight: bold\"> median (ms) </span>┃<span style=\"font-weight: bold\">                / sec) </span>┃<span style=\"font-weight: bold\"> fps (fps) </span>┃\n",
       "┡━━━━━━━━━━━━━━━━━━━━━━━━━━━━╇━━━━━━━━━━━━━━━━━━━━━━╇━━━━━━━━━━━╇━━━━━━━━━━━━━╇━━━━━━━━━━━━━━━━━━━━━━━╇━━━━━━━━━━━┩\n",
       "│<span style=\"color: #008080; text-decoration-color: #008080\">     load_image_nvjpegl_cpu </span>│<span style=\"color: #008080; text-decoration-color: #008080\">                1.867 </span>│<span style=\"color: #800080; text-decoration-color: #800080\"> 1.442     </span>│<span style=\"color: #008000; text-decoration-color: #008000\">       1.442 </span>│<span style=\"color: #008000; text-decoration-color: #008000\">                62.434 </span>│<span style=\"color: #008000; text-decoration-color: #008000\">   693.716 </span>│\n",
       "│<span style=\"color: #008080; text-decoration-color: #008080\">     load_image_nvjpegl_gpu </span>│<span style=\"color: #008080; text-decoration-color: #008080\">                3.653 </span>│<span style=\"color: #800080; text-decoration-color: #800080\"> 2.798     </span>│<span style=\"color: #008000; text-decoration-color: #008000\">       2.798 </span>│<span style=\"color: #008000; text-decoration-color: #008000\">                32.160 </span>│<span style=\"color: #008000; text-decoration-color: #008000\">   357.338 </span>│\n",
       "│<span style=\"color: #008080; text-decoration-color: #008080\">         load_image_skimage </span>│<span style=\"color: #008080; text-decoration-color: #008080\">                2.755 </span>│<span style=\"color: #800080; text-decoration-color: #800080\"> 2.276     </span>│<span style=\"color: #008000; text-decoration-color: #008000\">       2.276 </span>│<span style=\"color: #008000; text-decoration-color: #008000\">                39.542 </span>│<span style=\"color: #008000; text-decoration-color: #008000\">   439.354 </span>│\n",
       "│<span style=\"color: #008080; text-decoration-color: #008080\">             load_image_pil </span>│<span style=\"color: #008080; text-decoration-color: #008080\">                1.898 </span>│<span style=\"color: #800080; text-decoration-color: #800080\"> 1.826     </span>│<span style=\"color: #008000; text-decoration-color: #008000\">       1.826 </span>│<span style=\"color: #008000; text-decoration-color: #008000\">                49.291 </span>│<span style=\"color: #008000; text-decoration-color: #008000\">   547.674 </span>│\n",
       "│<span style=\"color: #008080; text-decoration-color: #008080\"> load_image_pil_accelerated </span>│<span style=\"color: #008080; text-decoration-color: #008080\">                1.914 </span>│<span style=\"color: #800080; text-decoration-color: #800080\"> 1.837     </span>│<span style=\"color: #008000; text-decoration-color: #008000\">       1.837 </span>│<span style=\"color: #008000; text-decoration-color: #008000\">                49.002 </span>│<span style=\"color: #008000; text-decoration-color: #008000\">   544.465 </span>│\n",
       "│<span style=\"color: #008080; text-decoration-color: #008080\">             load_image_cv2 </span>│<span style=\"color: #008080; text-decoration-color: #008080\">                3.274 </span>│<span style=\"color: #800080; text-decoration-color: #800080\"> 2.277     </span>│<span style=\"color: #008000; text-decoration-color: #008000\">       2.277 </span>│<span style=\"color: #008000; text-decoration-color: #008000\">                39.521 </span>│<span style=\"color: #008000; text-decoration-color: #008000\">   439.120 </span>│\n",
       "│<span style=\"color: #008080; text-decoration-color: #008080\">        load_image_rasterio </span>│<span style=\"color: #008080; text-decoration-color: #008080\">                6.943 </span>│<span style=\"color: #800080; text-decoration-color: #800080\"> 4.790     </span>│<span style=\"color: #008000; text-decoration-color: #008000\">       4.790 </span>│<span style=\"color: #008000; text-decoration-color: #008000\">                18.790 </span>│<span style=\"color: #008000; text-decoration-color: #008000\">   208.775 </span>│\n",
       "│<span style=\"color: #008080; text-decoration-color: #008080\">   load_image_pil_to_tensor </span>│<span style=\"color: #008080; text-decoration-color: #008080\">                3.417 </span>│<span style=\"color: #800080; text-decoration-color: #800080\"> 1.914     </span>│<span style=\"color: #008000; text-decoration-color: #008000\">       1.914 </span>│<span style=\"color: #008000; text-decoration-color: #008000\">                47.030 </span>│<span style=\"color: #008000; text-decoration-color: #008000\">   522.551 </span>│\n",
       "│<span style=\"color: #008080; text-decoration-color: #008080\">    load_image_cv_to_tensor </span>│<span style=\"color: #008080; text-decoration-color: #008080\">               12.982 </span>│<span style=\"color: #800080; text-decoration-color: #800080\"> 2.221     </span>│<span style=\"color: #008000; text-decoration-color: #008000\">       2.221 </span>│<span style=\"color: #008000; text-decoration-color: #008000\">                40.517 </span>│<span style=\"color: #008000; text-decoration-color: #008000\">   450.186 </span>│\n",
       "│<span style=\"color: #008080; text-decoration-color: #008080\">         load_image_pytorch </span>│<span style=\"color: #008080; text-decoration-color: #008080\">                1.572 </span>│<span style=\"color: #800080; text-decoration-color: #800080\"> 0.971     </span>│<span style=\"color: #008000; text-decoration-color: #008000\">       0.971 </span>│<span style=\"color: #008000; text-decoration-color: #008000\">                92.681 </span>│<span style=\"color: #008000; text-decoration-color: #008000\">  1029.794 </span>│\n",
       "└────────────────────────────┴──────────────────────┴───────────┴─────────────┴───────────────────────┴───────────┘\n",
       "</pre>\n"
      ],
      "text/plain": [
       "\u001b[3m                                Statistics Table for image with num pixels = 90000                                 \u001b[0m\n",
       "┏━━━━━━━━━━━━━━━━━━━━━━━━━━━━┳━━━━━━━━━━━━━━━━━━━━━━┳━━━━━━━━━━━┳━━━━━━━━━━━━━┳━━━━━━━━━━━━━━━━━━━━━━━┳━━━━━━━━━━━┓\n",
       "┃\u001b[1m                            \u001b[0m┃\u001b[1m                      \u001b[0m┃\u001b[1m           \u001b[0m┃\u001b[1m             \u001b[0m┃\u001b[1m \u001b[0m\u001b[1mThroughput (Megapixel\u001b[0m\u001b[1m \u001b[0m┃\u001b[1m           \u001b[0m┃\n",
       "┃\u001b[1m \u001b[0m\u001b[1m                      Name\u001b[0m\u001b[1m \u001b[0m┃\u001b[1m \u001b[0m\u001b[1mFirst iteration (ms)\u001b[0m\u001b[1m \u001b[0m┃\u001b[1m \u001b[0m\u001b[1mMean (ms)\u001b[0m\u001b[1m \u001b[0m┃\u001b[1m \u001b[0m\u001b[1mmedian (ms)\u001b[0m\u001b[1m \u001b[0m┃\u001b[1m \u001b[0m\u001b[1m               / sec)\u001b[0m\u001b[1m \u001b[0m┃\u001b[1m \u001b[0m\u001b[1mfps (fps)\u001b[0m\u001b[1m \u001b[0m┃\n",
       "┡━━━━━━━━━━━━━━━━━━━━━━━━━━━━╇━━━━━━━━━━━━━━━━━━━━━━╇━━━━━━━━━━━╇━━━━━━━━━━━━━╇━━━━━━━━━━━━━━━━━━━━━━━╇━━━━━━━━━━━┩\n",
       "│\u001b[36m \u001b[0m\u001b[36m    load_image_nvjpegl_cpu\u001b[0m\u001b[36m \u001b[0m│\u001b[36m \u001b[0m\u001b[36m               1.867\u001b[0m\u001b[36m \u001b[0m│\u001b[35m \u001b[0m\u001b[35m1.442    \u001b[0m\u001b[35m \u001b[0m│\u001b[32m \u001b[0m\u001b[32m      1.442\u001b[0m\u001b[32m \u001b[0m│\u001b[32m \u001b[0m\u001b[32m               62.434\u001b[0m\u001b[32m \u001b[0m│\u001b[32m \u001b[0m\u001b[32m  693.716\u001b[0m\u001b[32m \u001b[0m│\n",
       "│\u001b[36m \u001b[0m\u001b[36m    load_image_nvjpegl_gpu\u001b[0m\u001b[36m \u001b[0m│\u001b[36m \u001b[0m\u001b[36m               3.653\u001b[0m\u001b[36m \u001b[0m│\u001b[35m \u001b[0m\u001b[35m2.798    \u001b[0m\u001b[35m \u001b[0m│\u001b[32m \u001b[0m\u001b[32m      2.798\u001b[0m\u001b[32m \u001b[0m│\u001b[32m \u001b[0m\u001b[32m               32.160\u001b[0m\u001b[32m \u001b[0m│\u001b[32m \u001b[0m\u001b[32m  357.338\u001b[0m\u001b[32m \u001b[0m│\n",
       "│\u001b[36m \u001b[0m\u001b[36m        load_image_skimage\u001b[0m\u001b[36m \u001b[0m│\u001b[36m \u001b[0m\u001b[36m               2.755\u001b[0m\u001b[36m \u001b[0m│\u001b[35m \u001b[0m\u001b[35m2.276    \u001b[0m\u001b[35m \u001b[0m│\u001b[32m \u001b[0m\u001b[32m      2.276\u001b[0m\u001b[32m \u001b[0m│\u001b[32m \u001b[0m\u001b[32m               39.542\u001b[0m\u001b[32m \u001b[0m│\u001b[32m \u001b[0m\u001b[32m  439.354\u001b[0m\u001b[32m \u001b[0m│\n",
       "│\u001b[36m \u001b[0m\u001b[36m            load_image_pil\u001b[0m\u001b[36m \u001b[0m│\u001b[36m \u001b[0m\u001b[36m               1.898\u001b[0m\u001b[36m \u001b[0m│\u001b[35m \u001b[0m\u001b[35m1.826    \u001b[0m\u001b[35m \u001b[0m│\u001b[32m \u001b[0m\u001b[32m      1.826\u001b[0m\u001b[32m \u001b[0m│\u001b[32m \u001b[0m\u001b[32m               49.291\u001b[0m\u001b[32m \u001b[0m│\u001b[32m \u001b[0m\u001b[32m  547.674\u001b[0m\u001b[32m \u001b[0m│\n",
       "│\u001b[36m \u001b[0m\u001b[36mload_image_pil_accelerated\u001b[0m\u001b[36m \u001b[0m│\u001b[36m \u001b[0m\u001b[36m               1.914\u001b[0m\u001b[36m \u001b[0m│\u001b[35m \u001b[0m\u001b[35m1.837    \u001b[0m\u001b[35m \u001b[0m│\u001b[32m \u001b[0m\u001b[32m      1.837\u001b[0m\u001b[32m \u001b[0m│\u001b[32m \u001b[0m\u001b[32m               49.002\u001b[0m\u001b[32m \u001b[0m│\u001b[32m \u001b[0m\u001b[32m  544.465\u001b[0m\u001b[32m \u001b[0m│\n",
       "│\u001b[36m \u001b[0m\u001b[36m            load_image_cv2\u001b[0m\u001b[36m \u001b[0m│\u001b[36m \u001b[0m\u001b[36m               3.274\u001b[0m\u001b[36m \u001b[0m│\u001b[35m \u001b[0m\u001b[35m2.277    \u001b[0m\u001b[35m \u001b[0m│\u001b[32m \u001b[0m\u001b[32m      2.277\u001b[0m\u001b[32m \u001b[0m│\u001b[32m \u001b[0m\u001b[32m               39.521\u001b[0m\u001b[32m \u001b[0m│\u001b[32m \u001b[0m\u001b[32m  439.120\u001b[0m\u001b[32m \u001b[0m│\n",
       "│\u001b[36m \u001b[0m\u001b[36m       load_image_rasterio\u001b[0m\u001b[36m \u001b[0m│\u001b[36m \u001b[0m\u001b[36m               6.943\u001b[0m\u001b[36m \u001b[0m│\u001b[35m \u001b[0m\u001b[35m4.790    \u001b[0m\u001b[35m \u001b[0m│\u001b[32m \u001b[0m\u001b[32m      4.790\u001b[0m\u001b[32m \u001b[0m│\u001b[32m \u001b[0m\u001b[32m               18.790\u001b[0m\u001b[32m \u001b[0m│\u001b[32m \u001b[0m\u001b[32m  208.775\u001b[0m\u001b[32m \u001b[0m│\n",
       "│\u001b[36m \u001b[0m\u001b[36m  load_image_pil_to_tensor\u001b[0m\u001b[36m \u001b[0m│\u001b[36m \u001b[0m\u001b[36m               3.417\u001b[0m\u001b[36m \u001b[0m│\u001b[35m \u001b[0m\u001b[35m1.914    \u001b[0m\u001b[35m \u001b[0m│\u001b[32m \u001b[0m\u001b[32m      1.914\u001b[0m\u001b[32m \u001b[0m│\u001b[32m \u001b[0m\u001b[32m               47.030\u001b[0m\u001b[32m \u001b[0m│\u001b[32m \u001b[0m\u001b[32m  522.551\u001b[0m\u001b[32m \u001b[0m│\n",
       "│\u001b[36m \u001b[0m\u001b[36m   load_image_cv_to_tensor\u001b[0m\u001b[36m \u001b[0m│\u001b[36m \u001b[0m\u001b[36m              12.982\u001b[0m\u001b[36m \u001b[0m│\u001b[35m \u001b[0m\u001b[35m2.221    \u001b[0m\u001b[35m \u001b[0m│\u001b[32m \u001b[0m\u001b[32m      2.221\u001b[0m\u001b[32m \u001b[0m│\u001b[32m \u001b[0m\u001b[32m               40.517\u001b[0m\u001b[32m \u001b[0m│\u001b[32m \u001b[0m\u001b[32m  450.186\u001b[0m\u001b[32m \u001b[0m│\n",
       "│\u001b[36m \u001b[0m\u001b[36m        load_image_pytorch\u001b[0m\u001b[36m \u001b[0m│\u001b[36m \u001b[0m\u001b[36m               1.572\u001b[0m\u001b[36m \u001b[0m│\u001b[35m \u001b[0m\u001b[35m0.971    \u001b[0m\u001b[35m \u001b[0m│\u001b[32m \u001b[0m\u001b[32m      0.971\u001b[0m\u001b[32m \u001b[0m│\u001b[32m \u001b[0m\u001b[32m               92.681\u001b[0m\u001b[32m \u001b[0m│\u001b[32m \u001b[0m\u001b[32m 1029.794\u001b[0m\u001b[32m \u001b[0m│\n",
       "└────────────────────────────┴──────────────────────┴───────────┴─────────────┴───────────────────────┴───────────┘\n"
      ]
     },
     "metadata": {},
     "output_type": "display_data"
    },
    {
     "data": {
      "text/html": [
       "<pre style=\"white-space:pre;overflow-x:auto;line-height:normal;font-family:Menlo,'DejaVu Sans Mono',consolas,'Courier New',monospace\"><span style=\"color: #00ff00; text-decoration-color: #00ff00\">────────────── </span>Benchmark statistics : Image with shape = <span style=\"font-weight: bold\">(</span><span style=\"color: #008080; text-decoration-color: #008080; font-weight: bold\">500</span>, <span style=\"color: #008080; text-decoration-color: #008080; font-weight: bold\">500</span><span style=\"font-weight: bold\">)</span> and jpg format | N° Runs = <span style=\"color: #008080; text-decoration-color: #008080; font-weight: bold\">10</span>  <span style=\"color: #00ff00; text-decoration-color: #00ff00\"> ───────────────</span>\n",
       "</pre>\n"
      ],
      "text/plain": [
       "\u001b[92m────────────── \u001b[0mBenchmark statistics : Image with shape = \u001b[1m(\u001b[0m\u001b[1;36m500\u001b[0m, \u001b[1;36m500\u001b[0m\u001b[1m)\u001b[0m and jpg format | N° Runs = \u001b[1;36m10\u001b[0m  \u001b[92m ───────────────\u001b[0m\n"
      ]
     },
     "metadata": {},
     "output_type": "display_data"
    },
    {
     "data": {
      "text/html": [
       "<pre style=\"white-space:pre;overflow-x:auto;line-height:normal;font-family:Menlo,'DejaVu Sans Mono',consolas,'Courier New',monospace\"><span style=\"font-style: italic\">                                Statistics Table for image with num pixels = 250000                                </span>\n",
       "┏━━━━━━━━━━━━━━━━━━━━━━━━━━━━┳━━━━━━━━━━━━━━━━━━━━━━┳━━━━━━━━━━━┳━━━━━━━━━━━━━┳━━━━━━━━━━━━━━━━━━━━━━━┳━━━━━━━━━━━┓\n",
       "┃<span style=\"font-weight: bold\">                            </span>┃<span style=\"font-weight: bold\">                      </span>┃<span style=\"font-weight: bold\">           </span>┃<span style=\"font-weight: bold\">             </span>┃<span style=\"font-weight: bold\"> Throughput (Megapixel </span>┃<span style=\"font-weight: bold\">           </span>┃\n",
       "┃<span style=\"font-weight: bold\">                       Name </span>┃<span style=\"font-weight: bold\"> First iteration (ms) </span>┃<span style=\"font-weight: bold\"> Mean (ms) </span>┃<span style=\"font-weight: bold\"> median (ms) </span>┃<span style=\"font-weight: bold\">                / sec) </span>┃<span style=\"font-weight: bold\"> fps (fps) </span>┃\n",
       "┡━━━━━━━━━━━━━━━━━━━━━━━━━━━━╇━━━━━━━━━━━━━━━━━━━━━━╇━━━━━━━━━━━╇━━━━━━━━━━━━━╇━━━━━━━━━━━━━━━━━━━━━━━╇━━━━━━━━━━━┩\n",
       "│<span style=\"color: #008080; text-decoration-color: #008080\">     load_image_nvjpegl_cpu </span>│<span style=\"color: #008080; text-decoration-color: #008080\">                3.347 </span>│<span style=\"color: #800080; text-decoration-color: #800080\"> 2.603     </span>│<span style=\"color: #008000; text-decoration-color: #008000\">       2.603 </span>│<span style=\"color: #008000; text-decoration-color: #008000\">                96.036 </span>│<span style=\"color: #008000; text-decoration-color: #008000\">   384.143 </span>│\n",
       "│<span style=\"color: #008080; text-decoration-color: #008080\">     load_image_nvjpegl_gpu </span>│<span style=\"color: #008080; text-decoration-color: #008080\">                5.238 </span>│<span style=\"color: #800080; text-decoration-color: #800080\"> 3.448     </span>│<span style=\"color: #008000; text-decoration-color: #008000\">       3.448 </span>│<span style=\"color: #008000; text-decoration-color: #008000\">                72.502 </span>│<span style=\"color: #008000; text-decoration-color: #008000\">   290.009 </span>│\n",
       "│<span style=\"color: #008080; text-decoration-color: #008080\">         load_image_skimage </span>│<span style=\"color: #008080; text-decoration-color: #008080\">                5.322 </span>│<span style=\"color: #800080; text-decoration-color: #800080\"> 3.192     </span>│<span style=\"color: #008000; text-decoration-color: #008000\">       3.192 </span>│<span style=\"color: #008000; text-decoration-color: #008000\">                78.329 </span>│<span style=\"color: #008000; text-decoration-color: #008000\">   313.317 </span>│\n",
       "│<span style=\"color: #008080; text-decoration-color: #008080\">             load_image_pil </span>│<span style=\"color: #008080; text-decoration-color: #008080\">                4.296 </span>│<span style=\"color: #800080; text-decoration-color: #800080\"> 2.894     </span>│<span style=\"color: #008000; text-decoration-color: #008000\">       2.894 </span>│<span style=\"color: #008000; text-decoration-color: #008000\">                86.377 </span>│<span style=\"color: #008000; text-decoration-color: #008000\">   345.510 </span>│\n",
       "│<span style=\"color: #008080; text-decoration-color: #008080\"> load_image_pil_accelerated </span>│<span style=\"color: #008080; text-decoration-color: #008080\">                4.077 </span>│<span style=\"color: #800080; text-decoration-color: #800080\"> 2.790     </span>│<span style=\"color: #008000; text-decoration-color: #008000\">       2.790 </span>│<span style=\"color: #008000; text-decoration-color: #008000\">                89.593 </span>│<span style=\"color: #008000; text-decoration-color: #008000\">   358.372 </span>│\n",
       "│<span style=\"color: #008080; text-decoration-color: #008080\">             load_image_cv2 </span>│<span style=\"color: #008080; text-decoration-color: #008080\">                6.772 </span>│<span style=\"color: #800080; text-decoration-color: #800080\"> 4.248     </span>│<span style=\"color: #008000; text-decoration-color: #008000\">       4.248 </span>│<span style=\"color: #008000; text-decoration-color: #008000\">                58.852 </span>│<span style=\"color: #008000; text-decoration-color: #008000\">   235.408 </span>│\n",
       "│<span style=\"color: #008080; text-decoration-color: #008080\">        load_image_rasterio </span>│<span style=\"color: #008080; text-decoration-color: #008080\">               15.702 </span>│<span style=\"color: #800080; text-decoration-color: #800080\"> 10.880    </span>│<span style=\"color: #008000; text-decoration-color: #008000\">      10.880 </span>│<span style=\"color: #008000; text-decoration-color: #008000\">                22.979 </span>│<span style=\"color: #008000; text-decoration-color: #008000\">    91.915 </span>│\n",
       "│<span style=\"color: #008080; text-decoration-color: #008080\">   load_image_pil_to_tensor </span>│<span style=\"color: #008080; text-decoration-color: #008080\">               15.025 </span>│<span style=\"color: #800080; text-decoration-color: #800080\"> 4.289     </span>│<span style=\"color: #008000; text-decoration-color: #008000\">       4.289 </span>│<span style=\"color: #008000; text-decoration-color: #008000\">                58.294 </span>│<span style=\"color: #008000; text-decoration-color: #008000\">   233.177 </span>│\n",
       "│<span style=\"color: #008080; text-decoration-color: #008080\">    load_image_cv_to_tensor </span>│<span style=\"color: #008080; text-decoration-color: #008080\">               18.003 </span>│<span style=\"color: #800080; text-decoration-color: #800080\"> 5.767     </span>│<span style=\"color: #008000; text-decoration-color: #008000\">       5.767 </span>│<span style=\"color: #008000; text-decoration-color: #008000\">                43.354 </span>│<span style=\"color: #008000; text-decoration-color: #008000\">   173.414 </span>│\n",
       "│<span style=\"color: #008080; text-decoration-color: #008080\">         load_image_pytorch </span>│<span style=\"color: #008080; text-decoration-color: #008080\">                3.743 </span>│<span style=\"color: #800080; text-decoration-color: #800080\"> 2.525     </span>│<span style=\"color: #008000; text-decoration-color: #008000\">       2.525 </span>│<span style=\"color: #008000; text-decoration-color: #008000\">                99.016 </span>│<span style=\"color: #008000; text-decoration-color: #008000\">   396.063 </span>│\n",
       "└────────────────────────────┴──────────────────────┴───────────┴─────────────┴───────────────────────┴───────────┘\n",
       "</pre>\n"
      ],
      "text/plain": [
       "\u001b[3m                                Statistics Table for image with num pixels = 250000                                \u001b[0m\n",
       "┏━━━━━━━━━━━━━━━━━━━━━━━━━━━━┳━━━━━━━━━━━━━━━━━━━━━━┳━━━━━━━━━━━┳━━━━━━━━━━━━━┳━━━━━━━━━━━━━━━━━━━━━━━┳━━━━━━━━━━━┓\n",
       "┃\u001b[1m                            \u001b[0m┃\u001b[1m                      \u001b[0m┃\u001b[1m           \u001b[0m┃\u001b[1m             \u001b[0m┃\u001b[1m \u001b[0m\u001b[1mThroughput (Megapixel\u001b[0m\u001b[1m \u001b[0m┃\u001b[1m           \u001b[0m┃\n",
       "┃\u001b[1m \u001b[0m\u001b[1m                      Name\u001b[0m\u001b[1m \u001b[0m┃\u001b[1m \u001b[0m\u001b[1mFirst iteration (ms)\u001b[0m\u001b[1m \u001b[0m┃\u001b[1m \u001b[0m\u001b[1mMean (ms)\u001b[0m\u001b[1m \u001b[0m┃\u001b[1m \u001b[0m\u001b[1mmedian (ms)\u001b[0m\u001b[1m \u001b[0m┃\u001b[1m \u001b[0m\u001b[1m               / sec)\u001b[0m\u001b[1m \u001b[0m┃\u001b[1m \u001b[0m\u001b[1mfps (fps)\u001b[0m\u001b[1m \u001b[0m┃\n",
       "┡━━━━━━━━━━━━━━━━━━━━━━━━━━━━╇━━━━━━━━━━━━━━━━━━━━━━╇━━━━━━━━━━━╇━━━━━━━━━━━━━╇━━━━━━━━━━━━━━━━━━━━━━━╇━━━━━━━━━━━┩\n",
       "│\u001b[36m \u001b[0m\u001b[36m    load_image_nvjpegl_cpu\u001b[0m\u001b[36m \u001b[0m│\u001b[36m \u001b[0m\u001b[36m               3.347\u001b[0m\u001b[36m \u001b[0m│\u001b[35m \u001b[0m\u001b[35m2.603    \u001b[0m\u001b[35m \u001b[0m│\u001b[32m \u001b[0m\u001b[32m      2.603\u001b[0m\u001b[32m \u001b[0m│\u001b[32m \u001b[0m\u001b[32m               96.036\u001b[0m\u001b[32m \u001b[0m│\u001b[32m \u001b[0m\u001b[32m  384.143\u001b[0m\u001b[32m \u001b[0m│\n",
       "│\u001b[36m \u001b[0m\u001b[36m    load_image_nvjpegl_gpu\u001b[0m\u001b[36m \u001b[0m│\u001b[36m \u001b[0m\u001b[36m               5.238\u001b[0m\u001b[36m \u001b[0m│\u001b[35m \u001b[0m\u001b[35m3.448    \u001b[0m\u001b[35m \u001b[0m│\u001b[32m \u001b[0m\u001b[32m      3.448\u001b[0m\u001b[32m \u001b[0m│\u001b[32m \u001b[0m\u001b[32m               72.502\u001b[0m\u001b[32m \u001b[0m│\u001b[32m \u001b[0m\u001b[32m  290.009\u001b[0m\u001b[32m \u001b[0m│\n",
       "│\u001b[36m \u001b[0m\u001b[36m        load_image_skimage\u001b[0m\u001b[36m \u001b[0m│\u001b[36m \u001b[0m\u001b[36m               5.322\u001b[0m\u001b[36m \u001b[0m│\u001b[35m \u001b[0m\u001b[35m3.192    \u001b[0m\u001b[35m \u001b[0m│\u001b[32m \u001b[0m\u001b[32m      3.192\u001b[0m\u001b[32m \u001b[0m│\u001b[32m \u001b[0m\u001b[32m               78.329\u001b[0m\u001b[32m \u001b[0m│\u001b[32m \u001b[0m\u001b[32m  313.317\u001b[0m\u001b[32m \u001b[0m│\n",
       "│\u001b[36m \u001b[0m\u001b[36m            load_image_pil\u001b[0m\u001b[36m \u001b[0m│\u001b[36m \u001b[0m\u001b[36m               4.296\u001b[0m\u001b[36m \u001b[0m│\u001b[35m \u001b[0m\u001b[35m2.894    \u001b[0m\u001b[35m \u001b[0m│\u001b[32m \u001b[0m\u001b[32m      2.894\u001b[0m\u001b[32m \u001b[0m│\u001b[32m \u001b[0m\u001b[32m               86.377\u001b[0m\u001b[32m \u001b[0m│\u001b[32m \u001b[0m\u001b[32m  345.510\u001b[0m\u001b[32m \u001b[0m│\n",
       "│\u001b[36m \u001b[0m\u001b[36mload_image_pil_accelerated\u001b[0m\u001b[36m \u001b[0m│\u001b[36m \u001b[0m\u001b[36m               4.077\u001b[0m\u001b[36m \u001b[0m│\u001b[35m \u001b[0m\u001b[35m2.790    \u001b[0m\u001b[35m \u001b[0m│\u001b[32m \u001b[0m\u001b[32m      2.790\u001b[0m\u001b[32m \u001b[0m│\u001b[32m \u001b[0m\u001b[32m               89.593\u001b[0m\u001b[32m \u001b[0m│\u001b[32m \u001b[0m\u001b[32m  358.372\u001b[0m\u001b[32m \u001b[0m│\n",
       "│\u001b[36m \u001b[0m\u001b[36m            load_image_cv2\u001b[0m\u001b[36m \u001b[0m│\u001b[36m \u001b[0m\u001b[36m               6.772\u001b[0m\u001b[36m \u001b[0m│\u001b[35m \u001b[0m\u001b[35m4.248    \u001b[0m\u001b[35m \u001b[0m│\u001b[32m \u001b[0m\u001b[32m      4.248\u001b[0m\u001b[32m \u001b[0m│\u001b[32m \u001b[0m\u001b[32m               58.852\u001b[0m\u001b[32m \u001b[0m│\u001b[32m \u001b[0m\u001b[32m  235.408\u001b[0m\u001b[32m \u001b[0m│\n",
       "│\u001b[36m \u001b[0m\u001b[36m       load_image_rasterio\u001b[0m\u001b[36m \u001b[0m│\u001b[36m \u001b[0m\u001b[36m              15.702\u001b[0m\u001b[36m \u001b[0m│\u001b[35m \u001b[0m\u001b[35m10.880   \u001b[0m\u001b[35m \u001b[0m│\u001b[32m \u001b[0m\u001b[32m     10.880\u001b[0m\u001b[32m \u001b[0m│\u001b[32m \u001b[0m\u001b[32m               22.979\u001b[0m\u001b[32m \u001b[0m│\u001b[32m \u001b[0m\u001b[32m   91.915\u001b[0m\u001b[32m \u001b[0m│\n",
       "│\u001b[36m \u001b[0m\u001b[36m  load_image_pil_to_tensor\u001b[0m\u001b[36m \u001b[0m│\u001b[36m \u001b[0m\u001b[36m              15.025\u001b[0m\u001b[36m \u001b[0m│\u001b[35m \u001b[0m\u001b[35m4.289    \u001b[0m\u001b[35m \u001b[0m│\u001b[32m \u001b[0m\u001b[32m      4.289\u001b[0m\u001b[32m \u001b[0m│\u001b[32m \u001b[0m\u001b[32m               58.294\u001b[0m\u001b[32m \u001b[0m│\u001b[32m \u001b[0m\u001b[32m  233.177\u001b[0m\u001b[32m \u001b[0m│\n",
       "│\u001b[36m \u001b[0m\u001b[36m   load_image_cv_to_tensor\u001b[0m\u001b[36m \u001b[0m│\u001b[36m \u001b[0m\u001b[36m              18.003\u001b[0m\u001b[36m \u001b[0m│\u001b[35m \u001b[0m\u001b[35m5.767    \u001b[0m\u001b[35m \u001b[0m│\u001b[32m \u001b[0m\u001b[32m      5.767\u001b[0m\u001b[32m \u001b[0m│\u001b[32m \u001b[0m\u001b[32m               43.354\u001b[0m\u001b[32m \u001b[0m│\u001b[32m \u001b[0m\u001b[32m  173.414\u001b[0m\u001b[32m \u001b[0m│\n",
       "│\u001b[36m \u001b[0m\u001b[36m        load_image_pytorch\u001b[0m\u001b[36m \u001b[0m│\u001b[36m \u001b[0m\u001b[36m               3.743\u001b[0m\u001b[36m \u001b[0m│\u001b[35m \u001b[0m\u001b[35m2.525    \u001b[0m\u001b[35m \u001b[0m│\u001b[32m \u001b[0m\u001b[32m      2.525\u001b[0m\u001b[32m \u001b[0m│\u001b[32m \u001b[0m\u001b[32m               99.016\u001b[0m\u001b[32m \u001b[0m│\u001b[32m \u001b[0m\u001b[32m  396.063\u001b[0m\u001b[32m \u001b[0m│\n",
       "└────────────────────────────┴──────────────────────┴───────────┴─────────────┴───────────────────────┴───────────┘\n"
      ]
     },
     "metadata": {},
     "output_type": "display_data"
    },
    {
     "data": {
      "text/html": [
       "<pre style=\"white-space:pre;overflow-x:auto;line-height:normal;font-family:Menlo,'DejaVu Sans Mono',consolas,'Courier New',monospace\"><span style=\"color: #00ff00; text-decoration-color: #00ff00\">───────────── </span>Benchmark statistics : Image with shape = <span style=\"font-weight: bold\">(</span><span style=\"color: #008080; text-decoration-color: #008080; font-weight: bold\">1000</span>, <span style=\"color: #008080; text-decoration-color: #008080; font-weight: bold\">1000</span><span style=\"font-weight: bold\">)</span> and jpg format | N° Runs = <span style=\"color: #008080; text-decoration-color: #008080; font-weight: bold\">10</span>  <span style=\"color: #00ff00; text-decoration-color: #00ff00\"> ──────────────</span>\n",
       "</pre>\n"
      ],
      "text/plain": [
       "\u001b[92m───────────── \u001b[0mBenchmark statistics : Image with shape = \u001b[1m(\u001b[0m\u001b[1;36m1000\u001b[0m, \u001b[1;36m1000\u001b[0m\u001b[1m)\u001b[0m and jpg format | N° Runs = \u001b[1;36m10\u001b[0m  \u001b[92m ──────────────\u001b[0m\n"
      ]
     },
     "metadata": {},
     "output_type": "display_data"
    },
    {
     "data": {
      "text/html": [
       "<pre style=\"white-space:pre;overflow-x:auto;line-height:normal;font-family:Menlo,'DejaVu Sans Mono',consolas,'Courier New',monospace\"><span style=\"font-style: italic\">                               Statistics Table for image with num pixels = 1000000                                </span>\n",
       "┏━━━━━━━━━━━━━━━━━━━━━━━━━━━━┳━━━━━━━━━━━━━━━━━━━━━━┳━━━━━━━━━━━┳━━━━━━━━━━━━━┳━━━━━━━━━━━━━━━━━━━━━━━┳━━━━━━━━━━━┓\n",
       "┃<span style=\"font-weight: bold\">                            </span>┃<span style=\"font-weight: bold\">                      </span>┃<span style=\"font-weight: bold\">           </span>┃<span style=\"font-weight: bold\">             </span>┃<span style=\"font-weight: bold\"> Throughput (Megapixel </span>┃<span style=\"font-weight: bold\">           </span>┃\n",
       "┃<span style=\"font-weight: bold\">                       Name </span>┃<span style=\"font-weight: bold\"> First iteration (ms) </span>┃<span style=\"font-weight: bold\"> Mean (ms) </span>┃<span style=\"font-weight: bold\"> median (ms) </span>┃<span style=\"font-weight: bold\">                / sec) </span>┃<span style=\"font-weight: bold\"> fps (fps) </span>┃\n",
       "┡━━━━━━━━━━━━━━━━━━━━━━━━━━━━╇━━━━━━━━━━━━━━━━━━━━━━╇━━━━━━━━━━━╇━━━━━━━━━━━━━╇━━━━━━━━━━━━━━━━━━━━━━━╇━━━━━━━━━━━┩\n",
       "│<span style=\"color: #008080; text-decoration-color: #008080\">     load_image_nvjpegl_cpu </span>│<span style=\"color: #008080; text-decoration-color: #008080\">               10.546 </span>│<span style=\"color: #800080; text-decoration-color: #800080\"> 9.497     </span>│<span style=\"color: #008000; text-decoration-color: #008000\">       9.497 </span>│<span style=\"color: #008000; text-decoration-color: #008000\">               105.296 </span>│<span style=\"color: #008000; text-decoration-color: #008000\">   105.296 </span>│\n",
       "│<span style=\"color: #008080; text-decoration-color: #008080\">     load_image_nvjpegl_gpu </span>│<span style=\"color: #008080; text-decoration-color: #008080\">               13.121 </span>│<span style=\"color: #800080; text-decoration-color: #800080\"> 8.709     </span>│<span style=\"color: #008000; text-decoration-color: #008000\">       8.709 </span>│<span style=\"color: #008000; text-decoration-color: #008000\">               114.825 </span>│<span style=\"color: #008000; text-decoration-color: #008000\">   114.825 </span>│\n",
       "│<span style=\"color: #008080; text-decoration-color: #008080\">         load_image_skimage </span>│<span style=\"color: #008080; text-decoration-color: #008080\">               16.973 </span>│<span style=\"color: #800080; text-decoration-color: #800080\"> 12.355    </span>│<span style=\"color: #008000; text-decoration-color: #008000\">      12.355 </span>│<span style=\"color: #008000; text-decoration-color: #008000\">                80.937 </span>│<span style=\"color: #008000; text-decoration-color: #008000\">    80.937 </span>│\n",
       "│<span style=\"color: #008080; text-decoration-color: #008080\">             load_image_pil </span>│<span style=\"color: #008080; text-decoration-color: #008080\">               15.720 </span>│<span style=\"color: #800080; text-decoration-color: #800080\"> 10.970    </span>│<span style=\"color: #008000; text-decoration-color: #008000\">      10.970 </span>│<span style=\"color: #008000; text-decoration-color: #008000\">                91.155 </span>│<span style=\"color: #008000; text-decoration-color: #008000\">    91.155 </span>│\n",
       "│<span style=\"color: #008080; text-decoration-color: #008080\"> load_image_pil_accelerated </span>│<span style=\"color: #008080; text-decoration-color: #008080\">               14.746 </span>│<span style=\"color: #800080; text-decoration-color: #800080\"> 10.751    </span>│<span style=\"color: #008000; text-decoration-color: #008000\">      10.751 </span>│<span style=\"color: #008000; text-decoration-color: #008000\">                93.012 </span>│<span style=\"color: #008000; text-decoration-color: #008000\">    93.012 </span>│\n",
       "│<span style=\"color: #008080; text-decoration-color: #008080\">             load_image_cv2 </span>│<span style=\"color: #008080; text-decoration-color: #008080\">               22.906 </span>│<span style=\"color: #800080; text-decoration-color: #800080\"> 15.293    </span>│<span style=\"color: #008000; text-decoration-color: #008000\">      15.293 </span>│<span style=\"color: #008000; text-decoration-color: #008000\">                65.389 </span>│<span style=\"color: #008000; text-decoration-color: #008000\">    65.389 </span>│\n",
       "│<span style=\"color: #008080; text-decoration-color: #008080\">        load_image_rasterio </span>│<span style=\"color: #008080; text-decoration-color: #008080\">               41.719 </span>│<span style=\"color: #800080; text-decoration-color: #800080\"> 34.921    </span>│<span style=\"color: #008000; text-decoration-color: #008000\">      34.921 </span>│<span style=\"color: #008000; text-decoration-color: #008000\">                28.636 </span>│<span style=\"color: #008000; text-decoration-color: #008000\">    28.636 </span>│\n",
       "│<span style=\"color: #008080; text-decoration-color: #008080\">   load_image_pil_to_tensor </span>│<span style=\"color: #008080; text-decoration-color: #008080\">               22.362 </span>│<span style=\"color: #800080; text-decoration-color: #800080\"> 18.512    </span>│<span style=\"color: #008000; text-decoration-color: #008000\">      18.512 </span>│<span style=\"color: #008000; text-decoration-color: #008000\">                54.020 </span>│<span style=\"color: #008000; text-decoration-color: #008000\">    54.020 </span>│\n",
       "│<span style=\"color: #008080; text-decoration-color: #008080\">    load_image_cv_to_tensor </span>│<span style=\"color: #008080; text-decoration-color: #008080\">               24.025 </span>│<span style=\"color: #800080; text-decoration-color: #800080\"> 22.745    </span>│<span style=\"color: #008000; text-decoration-color: #008000\">      22.745 </span>│<span style=\"color: #008000; text-decoration-color: #008000\">                43.966 </span>│<span style=\"color: #008000; text-decoration-color: #008000\">    43.966 </span>│\n",
       "│<span style=\"color: #008080; text-decoration-color: #008080\">         load_image_pytorch </span>│<span style=\"color: #008080; text-decoration-color: #008080\">               12.487 </span>│<span style=\"color: #800080; text-decoration-color: #800080\"> 10.172    </span>│<span style=\"color: #008000; text-decoration-color: #008000\">      10.172 </span>│<span style=\"color: #008000; text-decoration-color: #008000\">                98.307 </span>│<span style=\"color: #008000; text-decoration-color: #008000\">    98.307 </span>│\n",
       "└────────────────────────────┴──────────────────────┴───────────┴─────────────┴───────────────────────┴───────────┘\n",
       "</pre>\n"
      ],
      "text/plain": [
       "\u001b[3m                               Statistics Table for image with num pixels = 1000000                                \u001b[0m\n",
       "┏━━━━━━━━━━━━━━━━━━━━━━━━━━━━┳━━━━━━━━━━━━━━━━━━━━━━┳━━━━━━━━━━━┳━━━━━━━━━━━━━┳━━━━━━━━━━━━━━━━━━━━━━━┳━━━━━━━━━━━┓\n",
       "┃\u001b[1m                            \u001b[0m┃\u001b[1m                      \u001b[0m┃\u001b[1m           \u001b[0m┃\u001b[1m             \u001b[0m┃\u001b[1m \u001b[0m\u001b[1mThroughput (Megapixel\u001b[0m\u001b[1m \u001b[0m┃\u001b[1m           \u001b[0m┃\n",
       "┃\u001b[1m \u001b[0m\u001b[1m                      Name\u001b[0m\u001b[1m \u001b[0m┃\u001b[1m \u001b[0m\u001b[1mFirst iteration (ms)\u001b[0m\u001b[1m \u001b[0m┃\u001b[1m \u001b[0m\u001b[1mMean (ms)\u001b[0m\u001b[1m \u001b[0m┃\u001b[1m \u001b[0m\u001b[1mmedian (ms)\u001b[0m\u001b[1m \u001b[0m┃\u001b[1m \u001b[0m\u001b[1m               / sec)\u001b[0m\u001b[1m \u001b[0m┃\u001b[1m \u001b[0m\u001b[1mfps (fps)\u001b[0m\u001b[1m \u001b[0m┃\n",
       "┡━━━━━━━━━━━━━━━━━━━━━━━━━━━━╇━━━━━━━━━━━━━━━━━━━━━━╇━━━━━━━━━━━╇━━━━━━━━━━━━━╇━━━━━━━━━━━━━━━━━━━━━━━╇━━━━━━━━━━━┩\n",
       "│\u001b[36m \u001b[0m\u001b[36m    load_image_nvjpegl_cpu\u001b[0m\u001b[36m \u001b[0m│\u001b[36m \u001b[0m\u001b[36m              10.546\u001b[0m\u001b[36m \u001b[0m│\u001b[35m \u001b[0m\u001b[35m9.497    \u001b[0m\u001b[35m \u001b[0m│\u001b[32m \u001b[0m\u001b[32m      9.497\u001b[0m\u001b[32m \u001b[0m│\u001b[32m \u001b[0m\u001b[32m              105.296\u001b[0m\u001b[32m \u001b[0m│\u001b[32m \u001b[0m\u001b[32m  105.296\u001b[0m\u001b[32m \u001b[0m│\n",
       "│\u001b[36m \u001b[0m\u001b[36m    load_image_nvjpegl_gpu\u001b[0m\u001b[36m \u001b[0m│\u001b[36m \u001b[0m\u001b[36m              13.121\u001b[0m\u001b[36m \u001b[0m│\u001b[35m \u001b[0m\u001b[35m8.709    \u001b[0m\u001b[35m \u001b[0m│\u001b[32m \u001b[0m\u001b[32m      8.709\u001b[0m\u001b[32m \u001b[0m│\u001b[32m \u001b[0m\u001b[32m              114.825\u001b[0m\u001b[32m \u001b[0m│\u001b[32m \u001b[0m\u001b[32m  114.825\u001b[0m\u001b[32m \u001b[0m│\n",
       "│\u001b[36m \u001b[0m\u001b[36m        load_image_skimage\u001b[0m\u001b[36m \u001b[0m│\u001b[36m \u001b[0m\u001b[36m              16.973\u001b[0m\u001b[36m \u001b[0m│\u001b[35m \u001b[0m\u001b[35m12.355   \u001b[0m\u001b[35m \u001b[0m│\u001b[32m \u001b[0m\u001b[32m     12.355\u001b[0m\u001b[32m \u001b[0m│\u001b[32m \u001b[0m\u001b[32m               80.937\u001b[0m\u001b[32m \u001b[0m│\u001b[32m \u001b[0m\u001b[32m   80.937\u001b[0m\u001b[32m \u001b[0m│\n",
       "│\u001b[36m \u001b[0m\u001b[36m            load_image_pil\u001b[0m\u001b[36m \u001b[0m│\u001b[36m \u001b[0m\u001b[36m              15.720\u001b[0m\u001b[36m \u001b[0m│\u001b[35m \u001b[0m\u001b[35m10.970   \u001b[0m\u001b[35m \u001b[0m│\u001b[32m \u001b[0m\u001b[32m     10.970\u001b[0m\u001b[32m \u001b[0m│\u001b[32m \u001b[0m\u001b[32m               91.155\u001b[0m\u001b[32m \u001b[0m│\u001b[32m \u001b[0m\u001b[32m   91.155\u001b[0m\u001b[32m \u001b[0m│\n",
       "│\u001b[36m \u001b[0m\u001b[36mload_image_pil_accelerated\u001b[0m\u001b[36m \u001b[0m│\u001b[36m \u001b[0m\u001b[36m              14.746\u001b[0m\u001b[36m \u001b[0m│\u001b[35m \u001b[0m\u001b[35m10.751   \u001b[0m\u001b[35m \u001b[0m│\u001b[32m \u001b[0m\u001b[32m     10.751\u001b[0m\u001b[32m \u001b[0m│\u001b[32m \u001b[0m\u001b[32m               93.012\u001b[0m\u001b[32m \u001b[0m│\u001b[32m \u001b[0m\u001b[32m   93.012\u001b[0m\u001b[32m \u001b[0m│\n",
       "│\u001b[36m \u001b[0m\u001b[36m            load_image_cv2\u001b[0m\u001b[36m \u001b[0m│\u001b[36m \u001b[0m\u001b[36m              22.906\u001b[0m\u001b[36m \u001b[0m│\u001b[35m \u001b[0m\u001b[35m15.293   \u001b[0m\u001b[35m \u001b[0m│\u001b[32m \u001b[0m\u001b[32m     15.293\u001b[0m\u001b[32m \u001b[0m│\u001b[32m \u001b[0m\u001b[32m               65.389\u001b[0m\u001b[32m \u001b[0m│\u001b[32m \u001b[0m\u001b[32m   65.389\u001b[0m\u001b[32m \u001b[0m│\n",
       "│\u001b[36m \u001b[0m\u001b[36m       load_image_rasterio\u001b[0m\u001b[36m \u001b[0m│\u001b[36m \u001b[0m\u001b[36m              41.719\u001b[0m\u001b[36m \u001b[0m│\u001b[35m \u001b[0m\u001b[35m34.921   \u001b[0m\u001b[35m \u001b[0m│\u001b[32m \u001b[0m\u001b[32m     34.921\u001b[0m\u001b[32m \u001b[0m│\u001b[32m \u001b[0m\u001b[32m               28.636\u001b[0m\u001b[32m \u001b[0m│\u001b[32m \u001b[0m\u001b[32m   28.636\u001b[0m\u001b[32m \u001b[0m│\n",
       "│\u001b[36m \u001b[0m\u001b[36m  load_image_pil_to_tensor\u001b[0m\u001b[36m \u001b[0m│\u001b[36m \u001b[0m\u001b[36m              22.362\u001b[0m\u001b[36m \u001b[0m│\u001b[35m \u001b[0m\u001b[35m18.512   \u001b[0m\u001b[35m \u001b[0m│\u001b[32m \u001b[0m\u001b[32m     18.512\u001b[0m\u001b[32m \u001b[0m│\u001b[32m \u001b[0m\u001b[32m               54.020\u001b[0m\u001b[32m \u001b[0m│\u001b[32m \u001b[0m\u001b[32m   54.020\u001b[0m\u001b[32m \u001b[0m│\n",
       "│\u001b[36m \u001b[0m\u001b[36m   load_image_cv_to_tensor\u001b[0m\u001b[36m \u001b[0m│\u001b[36m \u001b[0m\u001b[36m              24.025\u001b[0m\u001b[36m \u001b[0m│\u001b[35m \u001b[0m\u001b[35m22.745   \u001b[0m\u001b[35m \u001b[0m│\u001b[32m \u001b[0m\u001b[32m     22.745\u001b[0m\u001b[32m \u001b[0m│\u001b[32m \u001b[0m\u001b[32m               43.966\u001b[0m\u001b[32m \u001b[0m│\u001b[32m \u001b[0m\u001b[32m   43.966\u001b[0m\u001b[32m \u001b[0m│\n",
       "│\u001b[36m \u001b[0m\u001b[36m        load_image_pytorch\u001b[0m\u001b[36m \u001b[0m│\u001b[36m \u001b[0m\u001b[36m              12.487\u001b[0m\u001b[36m \u001b[0m│\u001b[35m \u001b[0m\u001b[35m10.172   \u001b[0m\u001b[35m \u001b[0m│\u001b[32m \u001b[0m\u001b[32m     10.172\u001b[0m\u001b[32m \u001b[0m│\u001b[32m \u001b[0m\u001b[32m               98.307\u001b[0m\u001b[32m \u001b[0m│\u001b[32m \u001b[0m\u001b[32m   98.307\u001b[0m\u001b[32m \u001b[0m│\n",
       "└────────────────────────────┴──────────────────────┴───────────┴─────────────┴───────────────────────┴───────────┘\n"
      ]
     },
     "metadata": {},
     "output_type": "display_data"
    },
    {
     "data": {
      "text/html": [
       "<pre style=\"white-space:pre;overflow-x:auto;line-height:normal;font-family:Menlo,'DejaVu Sans Mono',consolas,'Courier New',monospace\"><span style=\"color: #00ff00; text-decoration-color: #00ff00\">───────────── </span>Benchmark statistics : Image with shape = <span style=\"font-weight: bold\">(</span><span style=\"color: #008080; text-decoration-color: #008080; font-weight: bold\">2000</span>, <span style=\"color: #008080; text-decoration-color: #008080; font-weight: bold\">2000</span><span style=\"font-weight: bold\">)</span> and jpg format | N° Runs = <span style=\"color: #008080; text-decoration-color: #008080; font-weight: bold\">10</span>  <span style=\"color: #00ff00; text-decoration-color: #00ff00\"> ──────────────</span>\n",
       "</pre>\n"
      ],
      "text/plain": [
       "\u001b[92m───────────── \u001b[0mBenchmark statistics : Image with shape = \u001b[1m(\u001b[0m\u001b[1;36m2000\u001b[0m, \u001b[1;36m2000\u001b[0m\u001b[1m)\u001b[0m and jpg format | N° Runs = \u001b[1;36m10\u001b[0m  \u001b[92m ──────────────\u001b[0m\n"
      ]
     },
     "metadata": {},
     "output_type": "display_data"
    },
    {
     "data": {
      "text/html": [
       "<pre style=\"white-space:pre;overflow-x:auto;line-height:normal;font-family:Menlo,'DejaVu Sans Mono',consolas,'Courier New',monospace\"><span style=\"font-style: italic\">                               Statistics Table for image with num pixels = 4000000                                </span>\n",
       "┏━━━━━━━━━━━━━━━━━━━━━━━━━━━━┳━━━━━━━━━━━━━━━━━━━━━━┳━━━━━━━━━━━┳━━━━━━━━━━━━━┳━━━━━━━━━━━━━━━━━━━━━━━┳━━━━━━━━━━━┓\n",
       "┃<span style=\"font-weight: bold\">                            </span>┃<span style=\"font-weight: bold\">                      </span>┃<span style=\"font-weight: bold\">           </span>┃<span style=\"font-weight: bold\">             </span>┃<span style=\"font-weight: bold\"> Throughput (Megapixel </span>┃<span style=\"font-weight: bold\">           </span>┃\n",
       "┃<span style=\"font-weight: bold\">                       Name </span>┃<span style=\"font-weight: bold\"> First iteration (ms) </span>┃<span style=\"font-weight: bold\"> Mean (ms) </span>┃<span style=\"font-weight: bold\"> median (ms) </span>┃<span style=\"font-weight: bold\">                / sec) </span>┃<span style=\"font-weight: bold\"> fps (fps) </span>┃\n",
       "┡━━━━━━━━━━━━━━━━━━━━━━━━━━━━╇━━━━━━━━━━━━━━━━━━━━━━╇━━━━━━━━━━━╇━━━━━━━━━━━━━╇━━━━━━━━━━━━━━━━━━━━━━━╇━━━━━━━━━━━┩\n",
       "│<span style=\"color: #008080; text-decoration-color: #008080\">     load_image_nvjpegl_cpu </span>│<span style=\"color: #008080; text-decoration-color: #008080\">               40.953 </span>│<span style=\"color: #800080; text-decoration-color: #800080\"> 38.115    </span>│<span style=\"color: #008000; text-decoration-color: #008000\">      38.115 </span>│<span style=\"color: #008000; text-decoration-color: #008000\">               104.946 </span>│<span style=\"color: #008000; text-decoration-color: #008000\">    26.236 </span>│\n",
       "│<span style=\"color: #008080; text-decoration-color: #008080\">     load_image_nvjpegl_gpu </span>│<span style=\"color: #008080; text-decoration-color: #008080\">               38.817 </span>│<span style=\"color: #800080; text-decoration-color: #800080\"> 32.267    </span>│<span style=\"color: #008000; text-decoration-color: #008000\">      32.267 </span>│<span style=\"color: #008000; text-decoration-color: #008000\">               123.964 </span>│<span style=\"color: #008000; text-decoration-color: #008000\">    30.991 </span>│\n",
       "│<span style=\"color: #008080; text-decoration-color: #008080\">         load_image_skimage </span>│<span style=\"color: #008080; text-decoration-color: #008080\">               62.589 </span>│<span style=\"color: #800080; text-decoration-color: #800080\"> 44.583    </span>│<span style=\"color: #008000; text-decoration-color: #008000\">      44.583 </span>│<span style=\"color: #008000; text-decoration-color: #008000\">                89.720 </span>│<span style=\"color: #008000; text-decoration-color: #008000\">    22.430 </span>│\n",
       "│<span style=\"color: #008080; text-decoration-color: #008080\">             load_image_pil </span>│<span style=\"color: #008080; text-decoration-color: #008080\">               50.922 </span>│<span style=\"color: #800080; text-decoration-color: #800080\"> 45.237    </span>│<span style=\"color: #008000; text-decoration-color: #008000\">      45.237 </span>│<span style=\"color: #008000; text-decoration-color: #008000\">                88.424 </span>│<span style=\"color: #008000; text-decoration-color: #008000\">    22.106 </span>│\n",
       "│<span style=\"color: #008080; text-decoration-color: #008080\"> load_image_pil_accelerated </span>│<span style=\"color: #008080; text-decoration-color: #008080\">               46.760 </span>│<span style=\"color: #800080; text-decoration-color: #800080\"> 40.421    </span>│<span style=\"color: #008000; text-decoration-color: #008000\">      40.421 </span>│<span style=\"color: #008000; text-decoration-color: #008000\">                98.958 </span>│<span style=\"color: #008000; text-decoration-color: #008000\">    24.739 </span>│\n",
       "│<span style=\"color: #008080; text-decoration-color: #008080\">             load_image_cv2 </span>│<span style=\"color: #008080; text-decoration-color: #008080\">               64.816 </span>│<span style=\"color: #800080; text-decoration-color: #800080\"> 60.716    </span>│<span style=\"color: #008000; text-decoration-color: #008000\">      60.716 </span>│<span style=\"color: #008000; text-decoration-color: #008000\">                65.881 </span>│<span style=\"color: #008000; text-decoration-color: #008000\">    16.470 </span>│\n",
       "│<span style=\"color: #008080; text-decoration-color: #008080\">        load_image_rasterio </span>│<span style=\"color: #008080; text-decoration-color: #008080\">              145.583 </span>│<span style=\"color: #800080; text-decoration-color: #800080\"> 137.415   </span>│<span style=\"color: #008000; text-decoration-color: #008000\">     137.415 </span>│<span style=\"color: #008000; text-decoration-color: #008000\">                29.109 </span>│<span style=\"color: #008000; text-decoration-color: #008000\">     7.277 </span>│\n",
       "│<span style=\"color: #008080; text-decoration-color: #008080\">   load_image_pil_to_tensor </span>│<span style=\"color: #008080; text-decoration-color: #008080\">               79.731 </span>│<span style=\"color: #800080; text-decoration-color: #800080\"> 89.177    </span>│<span style=\"color: #008000; text-decoration-color: #008000\">      89.177 </span>│<span style=\"color: #008000; text-decoration-color: #008000\">                44.854 </span>│<span style=\"color: #008000; text-decoration-color: #008000\">    11.214 </span>│\n",
       "│<span style=\"color: #008080; text-decoration-color: #008080\">    load_image_cv_to_tensor </span>│<span style=\"color: #008080; text-decoration-color: #008080\">               87.759 </span>│<span style=\"color: #800080; text-decoration-color: #800080\"> 106.051   </span>│<span style=\"color: #008000; text-decoration-color: #008000\">     106.051 </span>│<span style=\"color: #008000; text-decoration-color: #008000\">                37.718 </span>│<span style=\"color: #008000; text-decoration-color: #008000\">     9.429 </span>│\n",
       "│<span style=\"color: #008080; text-decoration-color: #008080\">         load_image_pytorch </span>│<span style=\"color: #008080; text-decoration-color: #008080\">               42.754 </span>│<span style=\"color: #800080; text-decoration-color: #800080\"> 34.563    </span>│<span style=\"color: #008000; text-decoration-color: #008000\">      34.563 </span>│<span style=\"color: #008000; text-decoration-color: #008000\">               115.730 </span>│<span style=\"color: #008000; text-decoration-color: #008000\">    28.933 </span>│\n",
       "└────────────────────────────┴──────────────────────┴───────────┴─────────────┴───────────────────────┴───────────┘\n",
       "</pre>\n"
      ],
      "text/plain": [
       "\u001b[3m                               Statistics Table for image with num pixels = 4000000                                \u001b[0m\n",
       "┏━━━━━━━━━━━━━━━━━━━━━━━━━━━━┳━━━━━━━━━━━━━━━━━━━━━━┳━━━━━━━━━━━┳━━━━━━━━━━━━━┳━━━━━━━━━━━━━━━━━━━━━━━┳━━━━━━━━━━━┓\n",
       "┃\u001b[1m                            \u001b[0m┃\u001b[1m                      \u001b[0m┃\u001b[1m           \u001b[0m┃\u001b[1m             \u001b[0m┃\u001b[1m \u001b[0m\u001b[1mThroughput (Megapixel\u001b[0m\u001b[1m \u001b[0m┃\u001b[1m           \u001b[0m┃\n",
       "┃\u001b[1m \u001b[0m\u001b[1m                      Name\u001b[0m\u001b[1m \u001b[0m┃\u001b[1m \u001b[0m\u001b[1mFirst iteration (ms)\u001b[0m\u001b[1m \u001b[0m┃\u001b[1m \u001b[0m\u001b[1mMean (ms)\u001b[0m\u001b[1m \u001b[0m┃\u001b[1m \u001b[0m\u001b[1mmedian (ms)\u001b[0m\u001b[1m \u001b[0m┃\u001b[1m \u001b[0m\u001b[1m               / sec)\u001b[0m\u001b[1m \u001b[0m┃\u001b[1m \u001b[0m\u001b[1mfps (fps)\u001b[0m\u001b[1m \u001b[0m┃\n",
       "┡━━━━━━━━━━━━━━━━━━━━━━━━━━━━╇━━━━━━━━━━━━━━━━━━━━━━╇━━━━━━━━━━━╇━━━━━━━━━━━━━╇━━━━━━━━━━━━━━━━━━━━━━━╇━━━━━━━━━━━┩\n",
       "│\u001b[36m \u001b[0m\u001b[36m    load_image_nvjpegl_cpu\u001b[0m\u001b[36m \u001b[0m│\u001b[36m \u001b[0m\u001b[36m              40.953\u001b[0m\u001b[36m \u001b[0m│\u001b[35m \u001b[0m\u001b[35m38.115   \u001b[0m\u001b[35m \u001b[0m│\u001b[32m \u001b[0m\u001b[32m     38.115\u001b[0m\u001b[32m \u001b[0m│\u001b[32m \u001b[0m\u001b[32m              104.946\u001b[0m\u001b[32m \u001b[0m│\u001b[32m \u001b[0m\u001b[32m   26.236\u001b[0m\u001b[32m \u001b[0m│\n",
       "│\u001b[36m \u001b[0m\u001b[36m    load_image_nvjpegl_gpu\u001b[0m\u001b[36m \u001b[0m│\u001b[36m \u001b[0m\u001b[36m              38.817\u001b[0m\u001b[36m \u001b[0m│\u001b[35m \u001b[0m\u001b[35m32.267   \u001b[0m\u001b[35m \u001b[0m│\u001b[32m \u001b[0m\u001b[32m     32.267\u001b[0m\u001b[32m \u001b[0m│\u001b[32m \u001b[0m\u001b[32m              123.964\u001b[0m\u001b[32m \u001b[0m│\u001b[32m \u001b[0m\u001b[32m   30.991\u001b[0m\u001b[32m \u001b[0m│\n",
       "│\u001b[36m \u001b[0m\u001b[36m        load_image_skimage\u001b[0m\u001b[36m \u001b[0m│\u001b[36m \u001b[0m\u001b[36m              62.589\u001b[0m\u001b[36m \u001b[0m│\u001b[35m \u001b[0m\u001b[35m44.583   \u001b[0m\u001b[35m \u001b[0m│\u001b[32m \u001b[0m\u001b[32m     44.583\u001b[0m\u001b[32m \u001b[0m│\u001b[32m \u001b[0m\u001b[32m               89.720\u001b[0m\u001b[32m \u001b[0m│\u001b[32m \u001b[0m\u001b[32m   22.430\u001b[0m\u001b[32m \u001b[0m│\n",
       "│\u001b[36m \u001b[0m\u001b[36m            load_image_pil\u001b[0m\u001b[36m \u001b[0m│\u001b[36m \u001b[0m\u001b[36m              50.922\u001b[0m\u001b[36m \u001b[0m│\u001b[35m \u001b[0m\u001b[35m45.237   \u001b[0m\u001b[35m \u001b[0m│\u001b[32m \u001b[0m\u001b[32m     45.237\u001b[0m\u001b[32m \u001b[0m│\u001b[32m \u001b[0m\u001b[32m               88.424\u001b[0m\u001b[32m \u001b[0m│\u001b[32m \u001b[0m\u001b[32m   22.106\u001b[0m\u001b[32m \u001b[0m│\n",
       "│\u001b[36m \u001b[0m\u001b[36mload_image_pil_accelerated\u001b[0m\u001b[36m \u001b[0m│\u001b[36m \u001b[0m\u001b[36m              46.760\u001b[0m\u001b[36m \u001b[0m│\u001b[35m \u001b[0m\u001b[35m40.421   \u001b[0m\u001b[35m \u001b[0m│\u001b[32m \u001b[0m\u001b[32m     40.421\u001b[0m\u001b[32m \u001b[0m│\u001b[32m \u001b[0m\u001b[32m               98.958\u001b[0m\u001b[32m \u001b[0m│\u001b[32m \u001b[0m\u001b[32m   24.739\u001b[0m\u001b[32m \u001b[0m│\n",
       "│\u001b[36m \u001b[0m\u001b[36m            load_image_cv2\u001b[0m\u001b[36m \u001b[0m│\u001b[36m \u001b[0m\u001b[36m              64.816\u001b[0m\u001b[36m \u001b[0m│\u001b[35m \u001b[0m\u001b[35m60.716   \u001b[0m\u001b[35m \u001b[0m│\u001b[32m \u001b[0m\u001b[32m     60.716\u001b[0m\u001b[32m \u001b[0m│\u001b[32m \u001b[0m\u001b[32m               65.881\u001b[0m\u001b[32m \u001b[0m│\u001b[32m \u001b[0m\u001b[32m   16.470\u001b[0m\u001b[32m \u001b[0m│\n",
       "│\u001b[36m \u001b[0m\u001b[36m       load_image_rasterio\u001b[0m\u001b[36m \u001b[0m│\u001b[36m \u001b[0m\u001b[36m             145.583\u001b[0m\u001b[36m \u001b[0m│\u001b[35m \u001b[0m\u001b[35m137.415  \u001b[0m\u001b[35m \u001b[0m│\u001b[32m \u001b[0m\u001b[32m    137.415\u001b[0m\u001b[32m \u001b[0m│\u001b[32m \u001b[0m\u001b[32m               29.109\u001b[0m\u001b[32m \u001b[0m│\u001b[32m \u001b[0m\u001b[32m    7.277\u001b[0m\u001b[32m \u001b[0m│\n",
       "│\u001b[36m \u001b[0m\u001b[36m  load_image_pil_to_tensor\u001b[0m\u001b[36m \u001b[0m│\u001b[36m \u001b[0m\u001b[36m              79.731\u001b[0m\u001b[36m \u001b[0m│\u001b[35m \u001b[0m\u001b[35m89.177   \u001b[0m\u001b[35m \u001b[0m│\u001b[32m \u001b[0m\u001b[32m     89.177\u001b[0m\u001b[32m \u001b[0m│\u001b[32m \u001b[0m\u001b[32m               44.854\u001b[0m\u001b[32m \u001b[0m│\u001b[32m \u001b[0m\u001b[32m   11.214\u001b[0m\u001b[32m \u001b[0m│\n",
       "│\u001b[36m \u001b[0m\u001b[36m   load_image_cv_to_tensor\u001b[0m\u001b[36m \u001b[0m│\u001b[36m \u001b[0m\u001b[36m              87.759\u001b[0m\u001b[36m \u001b[0m│\u001b[35m \u001b[0m\u001b[35m106.051  \u001b[0m\u001b[35m \u001b[0m│\u001b[32m \u001b[0m\u001b[32m    106.051\u001b[0m\u001b[32m \u001b[0m│\u001b[32m \u001b[0m\u001b[32m               37.718\u001b[0m\u001b[32m \u001b[0m│\u001b[32m \u001b[0m\u001b[32m    9.429\u001b[0m\u001b[32m \u001b[0m│\n",
       "│\u001b[36m \u001b[0m\u001b[36m        load_image_pytorch\u001b[0m\u001b[36m \u001b[0m│\u001b[36m \u001b[0m\u001b[36m              42.754\u001b[0m\u001b[36m \u001b[0m│\u001b[35m \u001b[0m\u001b[35m34.563   \u001b[0m\u001b[35m \u001b[0m│\u001b[32m \u001b[0m\u001b[32m     34.563\u001b[0m\u001b[32m \u001b[0m│\u001b[32m \u001b[0m\u001b[32m              115.730\u001b[0m\u001b[32m \u001b[0m│\u001b[32m \u001b[0m\u001b[32m   28.933\u001b[0m\u001b[32m \u001b[0m│\n",
       "└────────────────────────────┴──────────────────────┴───────────┴─────────────┴───────────────────────┴───────────┘\n"
      ]
     },
     "metadata": {},
     "output_type": "display_data"
    },
    {
     "data": {
      "text/html": [
       "<pre style=\"white-space:pre;overflow-x:auto;line-height:normal;font-family:Menlo,'DejaVu Sans Mono',consolas,'Courier New',monospace\"><span style=\"color: #00ff00; text-decoration-color: #00ff00\">───────────── </span>Benchmark statistics : Image with shape = <span style=\"font-weight: bold\">(</span><span style=\"color: #008080; text-decoration-color: #008080; font-weight: bold\">5000</span>, <span style=\"color: #008080; text-decoration-color: #008080; font-weight: bold\">5000</span><span style=\"font-weight: bold\">)</span> and jpg format | N° Runs = <span style=\"color: #008080; text-decoration-color: #008080; font-weight: bold\">10</span>  <span style=\"color: #00ff00; text-decoration-color: #00ff00\"> ──────────────</span>\n",
       "</pre>\n"
      ],
      "text/plain": [
       "\u001b[92m───────────── \u001b[0mBenchmark statistics : Image with shape = \u001b[1m(\u001b[0m\u001b[1;36m5000\u001b[0m, \u001b[1;36m5000\u001b[0m\u001b[1m)\u001b[0m and jpg format | N° Runs = \u001b[1;36m10\u001b[0m  \u001b[92m ──────────────\u001b[0m\n"
      ]
     },
     "metadata": {},
     "output_type": "display_data"
    },
    {
     "data": {
      "text/html": [
       "<pre style=\"white-space:pre;overflow-x:auto;line-height:normal;font-family:Menlo,'DejaVu Sans Mono',consolas,'Courier New',monospace\"><span style=\"font-style: italic\">                               Statistics Table for image with num pixels = 25000000                               </span>\n",
       "┏━━━━━━━━━━━━━━━━━━━━━━━━━━━━┳━━━━━━━━━━━━━━━━━━━━━━┳━━━━━━━━━━━┳━━━━━━━━━━━━━┳━━━━━━━━━━━━━━━━━━━━━━━┳━━━━━━━━━━━┓\n",
       "┃<span style=\"font-weight: bold\">                            </span>┃<span style=\"font-weight: bold\">                      </span>┃<span style=\"font-weight: bold\">           </span>┃<span style=\"font-weight: bold\">             </span>┃<span style=\"font-weight: bold\"> Throughput (Megapixel </span>┃<span style=\"font-weight: bold\">           </span>┃\n",
       "┃<span style=\"font-weight: bold\">                       Name </span>┃<span style=\"font-weight: bold\"> First iteration (ms) </span>┃<span style=\"font-weight: bold\"> Mean (ms) </span>┃<span style=\"font-weight: bold\"> median (ms) </span>┃<span style=\"font-weight: bold\">                / sec) </span>┃<span style=\"font-weight: bold\"> fps (fps) </span>┃\n",
       "┡━━━━━━━━━━━━━━━━━━━━━━━━━━━━╇━━━━━━━━━━━━━━━━━━━━━━╇━━━━━━━━━━━╇━━━━━━━━━━━━━╇━━━━━━━━━━━━━━━━━━━━━━━╇━━━━━━━━━━━┩\n",
       "│<span style=\"color: #008080; text-decoration-color: #008080\">     load_image_nvjpegl_cpu </span>│<span style=\"color: #008080; text-decoration-color: #008080\">              269.714 </span>│<span style=\"color: #800080; text-decoration-color: #800080\"> 249.509   </span>│<span style=\"color: #008000; text-decoration-color: #008000\">     249.509 </span>│<span style=\"color: #008000; text-decoration-color: #008000\">               100.197 </span>│<span style=\"color: #008000; text-decoration-color: #008000\">     4.008 </span>│\n",
       "│<span style=\"color: #008080; text-decoration-color: #008080\">     load_image_nvjpegl_gpu </span>│<span style=\"color: #008080; text-decoration-color: #008080\">              210.515 </span>│<span style=\"color: #800080; text-decoration-color: #800080\"> 206.644   </span>│<span style=\"color: #008000; text-decoration-color: #008000\">     206.644 </span>│<span style=\"color: #008000; text-decoration-color: #008000\">               120.981 </span>│<span style=\"color: #008000; text-decoration-color: #008000\">     4.839 </span>│\n",
       "│<span style=\"color: #008080; text-decoration-color: #008080\">         load_image_skimage </span>│<span style=\"color: #008080; text-decoration-color: #008080\">              380.767 </span>│<span style=\"color: #800080; text-decoration-color: #800080\"> 349.560   </span>│<span style=\"color: #008000; text-decoration-color: #008000\">     349.560 </span>│<span style=\"color: #008000; text-decoration-color: #008000\">                71.518 </span>│<span style=\"color: #008000; text-decoration-color: #008000\">     2.861 </span>│\n",
       "│<span style=\"color: #008080; text-decoration-color: #008080\">             load_image_pil </span>│<span style=\"color: #008080; text-decoration-color: #008080\">              345.961 </span>│<span style=\"color: #800080; text-decoration-color: #800080\"> 348.562   </span>│<span style=\"color: #008000; text-decoration-color: #008000\">     348.562 </span>│<span style=\"color: #008000; text-decoration-color: #008000\">                71.723 </span>│<span style=\"color: #008000; text-decoration-color: #008000\">     2.869 </span>│\n",
       "│<span style=\"color: #008080; text-decoration-color: #008080\"> load_image_pil_accelerated </span>│<span style=\"color: #008080; text-decoration-color: #008080\">              274.759 </span>│<span style=\"color: #800080; text-decoration-color: #800080\"> 275.457   </span>│<span style=\"color: #008000; text-decoration-color: #008000\">     275.457 </span>│<span style=\"color: #008000; text-decoration-color: #008000\">                90.758 </span>│<span style=\"color: #008000; text-decoration-color: #008000\">     3.630 </span>│\n",
       "│<span style=\"color: #008080; text-decoration-color: #008080\">             load_image_cv2 </span>│<span style=\"color: #008080; text-decoration-color: #008080\">              398.271 </span>│<span style=\"color: #800080; text-decoration-color: #800080\"> 397.105   </span>│<span style=\"color: #008000; text-decoration-color: #008000\">     397.105 </span>│<span style=\"color: #008000; text-decoration-color: #008000\">                62.956 </span>│<span style=\"color: #008000; text-decoration-color: #008000\">     2.518 </span>│\n",
       "│<span style=\"color: #008080; text-decoration-color: #008080\">        load_image_rasterio </span>│<span style=\"color: #008080; text-decoration-color: #008080\">              853.670 </span>│<span style=\"color: #800080; text-decoration-color: #800080\"> 852.023   </span>│<span style=\"color: #008000; text-decoration-color: #008000\">     852.023 </span>│<span style=\"color: #008000; text-decoration-color: #008000\">                29.342 </span>│<span style=\"color: #008000; text-decoration-color: #008000\">     1.174 </span>│\n",
       "│<span style=\"color: #008080; text-decoration-color: #008080\">   load_image_pil_to_tensor </span>│<span style=\"color: #008080; text-decoration-color: #008080\">              514.097 </span>│<span style=\"color: #800080; text-decoration-color: #800080\"> 744.171   </span>│<span style=\"color: #008000; text-decoration-color: #008000\">     744.171 </span>│<span style=\"color: #008000; text-decoration-color: #008000\">                33.594 </span>│<span style=\"color: #008000; text-decoration-color: #008000\">     1.344 </span>│\n",
       "│<span style=\"color: #008080; text-decoration-color: #008080\">    load_image_cv_to_tensor </span>│<span style=\"color: #008080; text-decoration-color: #008080\">              540.920 </span>│<span style=\"color: #800080; text-decoration-color: #800080\"> 797.154   </span>│<span style=\"color: #008000; text-decoration-color: #008000\">     797.154 </span>│<span style=\"color: #008000; text-decoration-color: #008000\">                31.362 </span>│<span style=\"color: #008000; text-decoration-color: #008000\">     1.254 </span>│\n",
       "│<span style=\"color: #008080; text-decoration-color: #008080\">         load_image_pytorch </span>│<span style=\"color: #008080; text-decoration-color: #008080\">              229.586 </span>│<span style=\"color: #800080; text-decoration-color: #800080\"> 248.772   </span>│<span style=\"color: #008000; text-decoration-color: #008000\">     248.772 </span>│<span style=\"color: #008000; text-decoration-color: #008000\">               100.494 </span>│<span style=\"color: #008000; text-decoration-color: #008000\">     4.020 </span>│\n",
       "└────────────────────────────┴──────────────────────┴───────────┴─────────────┴───────────────────────┴───────────┘\n",
       "</pre>\n"
      ],
      "text/plain": [
       "\u001b[3m                               Statistics Table for image with num pixels = 25000000                               \u001b[0m\n",
       "┏━━━━━━━━━━━━━━━━━━━━━━━━━━━━┳━━━━━━━━━━━━━━━━━━━━━━┳━━━━━━━━━━━┳━━━━━━━━━━━━━┳━━━━━━━━━━━━━━━━━━━━━━━┳━━━━━━━━━━━┓\n",
       "┃\u001b[1m                            \u001b[0m┃\u001b[1m                      \u001b[0m┃\u001b[1m           \u001b[0m┃\u001b[1m             \u001b[0m┃\u001b[1m \u001b[0m\u001b[1mThroughput (Megapixel\u001b[0m\u001b[1m \u001b[0m┃\u001b[1m           \u001b[0m┃\n",
       "┃\u001b[1m \u001b[0m\u001b[1m                      Name\u001b[0m\u001b[1m \u001b[0m┃\u001b[1m \u001b[0m\u001b[1mFirst iteration (ms)\u001b[0m\u001b[1m \u001b[0m┃\u001b[1m \u001b[0m\u001b[1mMean (ms)\u001b[0m\u001b[1m \u001b[0m┃\u001b[1m \u001b[0m\u001b[1mmedian (ms)\u001b[0m\u001b[1m \u001b[0m┃\u001b[1m \u001b[0m\u001b[1m               / sec)\u001b[0m\u001b[1m \u001b[0m┃\u001b[1m \u001b[0m\u001b[1mfps (fps)\u001b[0m\u001b[1m \u001b[0m┃\n",
       "┡━━━━━━━━━━━━━━━━━━━━━━━━━━━━╇━━━━━━━━━━━━━━━━━━━━━━╇━━━━━━━━━━━╇━━━━━━━━━━━━━╇━━━━━━━━━━━━━━━━━━━━━━━╇━━━━━━━━━━━┩\n",
       "│\u001b[36m \u001b[0m\u001b[36m    load_image_nvjpegl_cpu\u001b[0m\u001b[36m \u001b[0m│\u001b[36m \u001b[0m\u001b[36m             269.714\u001b[0m\u001b[36m \u001b[0m│\u001b[35m \u001b[0m\u001b[35m249.509  \u001b[0m\u001b[35m \u001b[0m│\u001b[32m \u001b[0m\u001b[32m    249.509\u001b[0m\u001b[32m \u001b[0m│\u001b[32m \u001b[0m\u001b[32m              100.197\u001b[0m\u001b[32m \u001b[0m│\u001b[32m \u001b[0m\u001b[32m    4.008\u001b[0m\u001b[32m \u001b[0m│\n",
       "│\u001b[36m \u001b[0m\u001b[36m    load_image_nvjpegl_gpu\u001b[0m\u001b[36m \u001b[0m│\u001b[36m \u001b[0m\u001b[36m             210.515\u001b[0m\u001b[36m \u001b[0m│\u001b[35m \u001b[0m\u001b[35m206.644  \u001b[0m\u001b[35m \u001b[0m│\u001b[32m \u001b[0m\u001b[32m    206.644\u001b[0m\u001b[32m \u001b[0m│\u001b[32m \u001b[0m\u001b[32m              120.981\u001b[0m\u001b[32m \u001b[0m│\u001b[32m \u001b[0m\u001b[32m    4.839\u001b[0m\u001b[32m \u001b[0m│\n",
       "│\u001b[36m \u001b[0m\u001b[36m        load_image_skimage\u001b[0m\u001b[36m \u001b[0m│\u001b[36m \u001b[0m\u001b[36m             380.767\u001b[0m\u001b[36m \u001b[0m│\u001b[35m \u001b[0m\u001b[35m349.560  \u001b[0m\u001b[35m \u001b[0m│\u001b[32m \u001b[0m\u001b[32m    349.560\u001b[0m\u001b[32m \u001b[0m│\u001b[32m \u001b[0m\u001b[32m               71.518\u001b[0m\u001b[32m \u001b[0m│\u001b[32m \u001b[0m\u001b[32m    2.861\u001b[0m\u001b[32m \u001b[0m│\n",
       "│\u001b[36m \u001b[0m\u001b[36m            load_image_pil\u001b[0m\u001b[36m \u001b[0m│\u001b[36m \u001b[0m\u001b[36m             345.961\u001b[0m\u001b[36m \u001b[0m│\u001b[35m \u001b[0m\u001b[35m348.562  \u001b[0m\u001b[35m \u001b[0m│\u001b[32m \u001b[0m\u001b[32m    348.562\u001b[0m\u001b[32m \u001b[0m│\u001b[32m \u001b[0m\u001b[32m               71.723\u001b[0m\u001b[32m \u001b[0m│\u001b[32m \u001b[0m\u001b[32m    2.869\u001b[0m\u001b[32m \u001b[0m│\n",
       "│\u001b[36m \u001b[0m\u001b[36mload_image_pil_accelerated\u001b[0m\u001b[36m \u001b[0m│\u001b[36m \u001b[0m\u001b[36m             274.759\u001b[0m\u001b[36m \u001b[0m│\u001b[35m \u001b[0m\u001b[35m275.457  \u001b[0m\u001b[35m \u001b[0m│\u001b[32m \u001b[0m\u001b[32m    275.457\u001b[0m\u001b[32m \u001b[0m│\u001b[32m \u001b[0m\u001b[32m               90.758\u001b[0m\u001b[32m \u001b[0m│\u001b[32m \u001b[0m\u001b[32m    3.630\u001b[0m\u001b[32m \u001b[0m│\n",
       "│\u001b[36m \u001b[0m\u001b[36m            load_image_cv2\u001b[0m\u001b[36m \u001b[0m│\u001b[36m \u001b[0m\u001b[36m             398.271\u001b[0m\u001b[36m \u001b[0m│\u001b[35m \u001b[0m\u001b[35m397.105  \u001b[0m\u001b[35m \u001b[0m│\u001b[32m \u001b[0m\u001b[32m    397.105\u001b[0m\u001b[32m \u001b[0m│\u001b[32m \u001b[0m\u001b[32m               62.956\u001b[0m\u001b[32m \u001b[0m│\u001b[32m \u001b[0m\u001b[32m    2.518\u001b[0m\u001b[32m \u001b[0m│\n",
       "│\u001b[36m \u001b[0m\u001b[36m       load_image_rasterio\u001b[0m\u001b[36m \u001b[0m│\u001b[36m \u001b[0m\u001b[36m             853.670\u001b[0m\u001b[36m \u001b[0m│\u001b[35m \u001b[0m\u001b[35m852.023  \u001b[0m\u001b[35m \u001b[0m│\u001b[32m \u001b[0m\u001b[32m    852.023\u001b[0m\u001b[32m \u001b[0m│\u001b[32m \u001b[0m\u001b[32m               29.342\u001b[0m\u001b[32m \u001b[0m│\u001b[32m \u001b[0m\u001b[32m    1.174\u001b[0m\u001b[32m \u001b[0m│\n",
       "│\u001b[36m \u001b[0m\u001b[36m  load_image_pil_to_tensor\u001b[0m\u001b[36m \u001b[0m│\u001b[36m \u001b[0m\u001b[36m             514.097\u001b[0m\u001b[36m \u001b[0m│\u001b[35m \u001b[0m\u001b[35m744.171  \u001b[0m\u001b[35m \u001b[0m│\u001b[32m \u001b[0m\u001b[32m    744.171\u001b[0m\u001b[32m \u001b[0m│\u001b[32m \u001b[0m\u001b[32m               33.594\u001b[0m\u001b[32m \u001b[0m│\u001b[32m \u001b[0m\u001b[32m    1.344\u001b[0m\u001b[32m \u001b[0m│\n",
       "│\u001b[36m \u001b[0m\u001b[36m   load_image_cv_to_tensor\u001b[0m\u001b[36m \u001b[0m│\u001b[36m \u001b[0m\u001b[36m             540.920\u001b[0m\u001b[36m \u001b[0m│\u001b[35m \u001b[0m\u001b[35m797.154  \u001b[0m\u001b[35m \u001b[0m│\u001b[32m \u001b[0m\u001b[32m    797.154\u001b[0m\u001b[32m \u001b[0m│\u001b[32m \u001b[0m\u001b[32m               31.362\u001b[0m\u001b[32m \u001b[0m│\u001b[32m \u001b[0m\u001b[32m    1.254\u001b[0m\u001b[32m \u001b[0m│\n",
       "│\u001b[36m \u001b[0m\u001b[36m        load_image_pytorch\u001b[0m\u001b[36m \u001b[0m│\u001b[36m \u001b[0m\u001b[36m             229.586\u001b[0m\u001b[36m \u001b[0m│\u001b[35m \u001b[0m\u001b[35m248.772  \u001b[0m\u001b[35m \u001b[0m│\u001b[32m \u001b[0m\u001b[32m    248.772\u001b[0m\u001b[32m \u001b[0m│\u001b[32m \u001b[0m\u001b[32m              100.494\u001b[0m\u001b[32m \u001b[0m│\u001b[32m \u001b[0m\u001b[32m    4.020\u001b[0m\u001b[32m \u001b[0m│\n",
       "└────────────────────────────┴──────────────────────┴───────────┴─────────────┴───────────────────────┴───────────┘\n"
      ]
     },
     "metadata": {},
     "output_type": "display_data"
    },
    {
     "name": "stderr",
     "output_type": "stream",
     "text": [
      "/home/tommy-local/projects/smartem/.venv/lib/python3.10/site-packages/PIL/Image.py:3074: DecompressionBombWarning: Image size (100000000 pixels) exceeds limit of 89478485 pixels, could be decompression bomb DOS attack.\n",
      "  warnings.warn(\n"
     ]
    },
    {
     "data": {
      "text/html": [
       "<pre style=\"white-space:pre;overflow-x:auto;line-height:normal;font-family:Menlo,'DejaVu Sans Mono',consolas,'Courier New',monospace\"><span style=\"color: #00ff00; text-decoration-color: #00ff00\">──────────── </span>Benchmark statistics : Image with shape = <span style=\"font-weight: bold\">(</span><span style=\"color: #008080; text-decoration-color: #008080; font-weight: bold\">10000</span>, <span style=\"color: #008080; text-decoration-color: #008080; font-weight: bold\">10000</span><span style=\"font-weight: bold\">)</span> and jpg format | N° Runs = <span style=\"color: #008080; text-decoration-color: #008080; font-weight: bold\">10</span>  <span style=\"color: #00ff00; text-decoration-color: #00ff00\"> ─────────────</span>\n",
       "</pre>\n"
      ],
      "text/plain": [
       "\u001b[92m──────────── \u001b[0mBenchmark statistics : Image with shape = \u001b[1m(\u001b[0m\u001b[1;36m10000\u001b[0m, \u001b[1;36m10000\u001b[0m\u001b[1m)\u001b[0m and jpg format | N° Runs = \u001b[1;36m10\u001b[0m  \u001b[92m ─────────────\u001b[0m\n"
      ]
     },
     "metadata": {},
     "output_type": "display_data"
    },
    {
     "ename": "KeyboardInterrupt",
     "evalue": "",
     "output_type": "error",
     "traceback": [
      "\u001b[0;31m---------------------------------------------------------------------------\u001b[0m",
      "\u001b[0;31mKeyboardInterrupt\u001b[0m                         Traceback (most recent call last)",
      "Cell \u001b[0;32mIn[12], line 30\u001b[0m\n\u001b[1;32m     28\u001b[0m sizes \u001b[38;5;241m=\u001b[39m(\u001b[38;5;241m100\u001b[39m,\u001b[38;5;241m200\u001b[39m, \u001b[38;5;241m300\u001b[39m, \u001b[38;5;241m500\u001b[39m, \u001b[38;5;241m1000\u001b[39m, \u001b[38;5;241m2000\u001b[39m,\u001b[38;5;241m5000\u001b[39m, \u001b[38;5;241m10000\u001b[39m)\n\u001b[1;32m     29\u001b[0m image_format \u001b[38;5;241m=\u001b[39m \u001b[38;5;124m\"\u001b[39m\u001b[38;5;124mjpg\u001b[39m\u001b[38;5;124m\"\u001b[39m\n\u001b[0;32m---> 30\u001b[0m df \u001b[38;5;241m=\u001b[39m \u001b[43mbenchmark_image_loading\u001b[49m\u001b[43m(\u001b[49m\u001b[43mmethods\u001b[49m\u001b[43m,\u001b[49m\u001b[43mbasesetup\u001b[49m\u001b[43m,\u001b[49m\u001b[43msizes\u001b[49m\u001b[43m,\u001b[49m\u001b[43m \u001b[49m\u001b[43mimage_format\u001b[49m\u001b[43m)\u001b[49m\n",
      "Cell \u001b[0;32mIn[11], line 73\u001b[0m, in \u001b[0;36mbenchmark_image_loading\u001b[0;34m(methods, basesetup, sizes, image_format)\u001b[0m\n\u001b[1;32m     71\u001b[0m start \u001b[38;5;241m=\u001b[39m time\u001b[38;5;241m.\u001b[39mtime()\n\u001b[1;32m     72\u001b[0m torch\u001b[38;5;241m.\u001b[39mcuda\u001b[38;5;241m.\u001b[39msynchronize() \n\u001b[0;32m---> 73\u001b[0m \u001b[43mmethod\u001b[49m\u001b[43m(\u001b[49m\u001b[43mimage_path\u001b[49m\u001b[43m)\u001b[49m\u001b[38;5;241m.\u001b[39mto(device\u001b[38;5;241m=\u001b[39m\u001b[38;5;124m'\u001b[39m\u001b[38;5;124mcuda:0\u001b[39m\u001b[38;5;124m'\u001b[39m)\n\u001b[1;32m     74\u001b[0m torch\u001b[38;5;241m.\u001b[39mcuda\u001b[38;5;241m.\u001b[39msynchronize() \n\u001b[1;32m     75\u001b[0m first_load \u001b[38;5;241m=\u001b[39m (time\u001b[38;5;241m.\u001b[39mtime()\u001b[38;5;241m-\u001b[39mstart)\u001b[38;5;241m*\u001b[39m\u001b[38;5;241m1000\u001b[39m\n",
      "Cell \u001b[0;32mIn[9], line 187\u001b[0m, in \u001b[0;36mload_image_pil_to_tensor\u001b[0;34m(image_path)\u001b[0m\n\u001b[1;32m    177\u001b[0m \u001b[38;5;250m\u001b[39m\u001b[38;5;124;03m\"\"\"\u001b[39;00m\n\u001b[1;32m    178\u001b[0m \u001b[38;5;124;03mLoads an image from the specified file path using PIL and returns a PyTorch tensor.\u001b[39;00m\n\u001b[1;32m    179\u001b[0m \n\u001b[0;32m   (...)\u001b[0m\n\u001b[1;32m    184\u001b[0m \u001b[38;5;124;03m    torch.Tensor: The PyTorch tensor representing the image.\u001b[39;00m\n\u001b[1;32m    185\u001b[0m \u001b[38;5;124;03m\"\"\"\u001b[39;00m\n\u001b[1;32m    186\u001b[0m image \u001b[38;5;241m=\u001b[39m Image\u001b[38;5;241m.\u001b[39mopen(image_path)\n\u001b[0;32m--> 187\u001b[0m tensor \u001b[38;5;241m=\u001b[39m \u001b[43mconvert_to_tensor\u001b[49m\u001b[43m(\u001b[49m\u001b[43mimage\u001b[49m\u001b[43m)\u001b[49m\n\u001b[1;32m    188\u001b[0m \u001b[38;5;28;01mreturn\u001b[39;00m tensor\n",
      "File \u001b[0;32m~/projects/smartem/.venv/lib/python3.10/site-packages/torchvision/transforms/transforms.py:137\u001b[0m, in \u001b[0;36mToTensor.__call__\u001b[0;34m(self, pic)\u001b[0m\n\u001b[1;32m    129\u001b[0m \u001b[38;5;28;01mdef\u001b[39;00m \u001b[38;5;21m__call__\u001b[39m(\u001b[38;5;28mself\u001b[39m, pic):\n\u001b[1;32m    130\u001b[0m \u001b[38;5;250m    \u001b[39m\u001b[38;5;124;03m\"\"\"\u001b[39;00m\n\u001b[1;32m    131\u001b[0m \u001b[38;5;124;03m    Args:\u001b[39;00m\n\u001b[1;32m    132\u001b[0m \u001b[38;5;124;03m        pic (PIL Image or numpy.ndarray): Image to be converted to tensor.\u001b[39;00m\n\u001b[0;32m   (...)\u001b[0m\n\u001b[1;32m    135\u001b[0m \u001b[38;5;124;03m        Tensor: Converted image.\u001b[39;00m\n\u001b[1;32m    136\u001b[0m \u001b[38;5;124;03m    \"\"\"\u001b[39;00m\n\u001b[0;32m--> 137\u001b[0m     \u001b[38;5;28;01mreturn\u001b[39;00m \u001b[43mF\u001b[49m\u001b[38;5;241;43m.\u001b[39;49m\u001b[43mto_tensor\u001b[49m\u001b[43m(\u001b[49m\u001b[43mpic\u001b[49m\u001b[43m)\u001b[49m\n",
      "File \u001b[0;32m~/projects/smartem/.venv/lib/python3.10/site-packages/torchvision/transforms/functional.py:167\u001b[0m, in \u001b[0;36mto_tensor\u001b[0;34m(pic)\u001b[0m\n\u001b[1;32m    165\u001b[0m \u001b[38;5;66;03m# handle PIL Image\u001b[39;00m\n\u001b[1;32m    166\u001b[0m mode_to_nptype \u001b[38;5;241m=\u001b[39m {\u001b[38;5;124m\"\u001b[39m\u001b[38;5;124mI\u001b[39m\u001b[38;5;124m\"\u001b[39m: np\u001b[38;5;241m.\u001b[39mint32, \u001b[38;5;124m\"\u001b[39m\u001b[38;5;124mI;16\u001b[39m\u001b[38;5;124m\"\u001b[39m \u001b[38;5;28;01mif\u001b[39;00m sys\u001b[38;5;241m.\u001b[39mbyteorder \u001b[38;5;241m==\u001b[39m \u001b[38;5;124m\"\u001b[39m\u001b[38;5;124mlittle\u001b[39m\u001b[38;5;124m\"\u001b[39m \u001b[38;5;28;01melse\u001b[39;00m \u001b[38;5;124m\"\u001b[39m\u001b[38;5;124mI;16B\u001b[39m\u001b[38;5;124m\"\u001b[39m: np\u001b[38;5;241m.\u001b[39mint16, \u001b[38;5;124m\"\u001b[39m\u001b[38;5;124mF\u001b[39m\u001b[38;5;124m\"\u001b[39m: np\u001b[38;5;241m.\u001b[39mfloat32}\n\u001b[0;32m--> 167\u001b[0m img \u001b[38;5;241m=\u001b[39m torch\u001b[38;5;241m.\u001b[39mfrom_numpy(\u001b[43mnp\u001b[49m\u001b[38;5;241;43m.\u001b[39;49m\u001b[43marray\u001b[49m\u001b[43m(\u001b[49m\u001b[43mpic\u001b[49m\u001b[43m,\u001b[49m\u001b[43m \u001b[49m\u001b[43mmode_to_nptype\u001b[49m\u001b[38;5;241;43m.\u001b[39;49m\u001b[43mget\u001b[49m\u001b[43m(\u001b[49m\u001b[43mpic\u001b[49m\u001b[38;5;241;43m.\u001b[39;49m\u001b[43mmode\u001b[49m\u001b[43m,\u001b[49m\u001b[43m \u001b[49m\u001b[43mnp\u001b[49m\u001b[38;5;241;43m.\u001b[39;49m\u001b[43muint8\u001b[49m\u001b[43m)\u001b[49m\u001b[43m,\u001b[49m\u001b[43m \u001b[49m\u001b[43mcopy\u001b[49m\u001b[38;5;241;43m=\u001b[39;49m\u001b[38;5;28;43;01mTrue\u001b[39;49;00m\u001b[43m)\u001b[49m)\n\u001b[1;32m    169\u001b[0m \u001b[38;5;28;01mif\u001b[39;00m pic\u001b[38;5;241m.\u001b[39mmode \u001b[38;5;241m==\u001b[39m \u001b[38;5;124m\"\u001b[39m\u001b[38;5;124m1\u001b[39m\u001b[38;5;124m\"\u001b[39m:\n\u001b[1;32m    170\u001b[0m     img \u001b[38;5;241m=\u001b[39m \u001b[38;5;241m255\u001b[39m \u001b[38;5;241m*\u001b[39m img\n",
      "File \u001b[0;32m~/projects/smartem/.venv/lib/python3.10/site-packages/PIL/Image.py:688\u001b[0m, in \u001b[0;36mImage.__array_interface__\u001b[0;34m(self)\u001b[0m\n\u001b[1;32m    686\u001b[0m         new[\u001b[38;5;124m\"\u001b[39m\u001b[38;5;124mdata\u001b[39m\u001b[38;5;124m\"\u001b[39m] \u001b[38;5;241m=\u001b[39m \u001b[38;5;28mself\u001b[39m\u001b[38;5;241m.\u001b[39mtobytes(\u001b[38;5;124m\"\u001b[39m\u001b[38;5;124mraw\u001b[39m\u001b[38;5;124m\"\u001b[39m, \u001b[38;5;124m\"\u001b[39m\u001b[38;5;124mL\u001b[39m\u001b[38;5;124m\"\u001b[39m)\n\u001b[1;32m    687\u001b[0m     \u001b[38;5;28;01melse\u001b[39;00m:\n\u001b[0;32m--> 688\u001b[0m         new[\u001b[38;5;124m\"\u001b[39m\u001b[38;5;124mdata\u001b[39m\u001b[38;5;124m\"\u001b[39m] \u001b[38;5;241m=\u001b[39m \u001b[38;5;28;43mself\u001b[39;49m\u001b[38;5;241;43m.\u001b[39;49m\u001b[43mtobytes\u001b[49m\u001b[43m(\u001b[49m\u001b[43m)\u001b[49m\n\u001b[1;32m    689\u001b[0m \u001b[38;5;28;01mexcept\u001b[39;00m \u001b[38;5;167;01mException\u001b[39;00m \u001b[38;5;28;01mas\u001b[39;00m e:\n\u001b[1;32m    690\u001b[0m     \u001b[38;5;28;01mif\u001b[39;00m \u001b[38;5;129;01mnot\u001b[39;00m \u001b[38;5;28misinstance\u001b[39m(e, (\u001b[38;5;167;01mMemoryError\u001b[39;00m, \u001b[38;5;167;01mRecursionError\u001b[39;00m)):\n",
      "File \u001b[0;32m~/projects/smartem/.venv/lib/python3.10/site-packages/PIL/Image.py:746\u001b[0m, in \u001b[0;36mImage.tobytes\u001b[0;34m(self, encoder_name, *args)\u001b[0m\n\u001b[1;32m    743\u001b[0m \u001b[38;5;28;01mif\u001b[39;00m encoder_name \u001b[38;5;241m==\u001b[39m \u001b[38;5;124m\"\u001b[39m\u001b[38;5;124mraw\u001b[39m\u001b[38;5;124m\"\u001b[39m \u001b[38;5;129;01mand\u001b[39;00m args \u001b[38;5;241m==\u001b[39m ():\n\u001b[1;32m    744\u001b[0m     args \u001b[38;5;241m=\u001b[39m \u001b[38;5;28mself\u001b[39m\u001b[38;5;241m.\u001b[39mmode\n\u001b[0;32m--> 746\u001b[0m \u001b[38;5;28;43mself\u001b[39;49m\u001b[38;5;241;43m.\u001b[39;49m\u001b[43mload\u001b[49m\u001b[43m(\u001b[49m\u001b[43m)\u001b[49m\n\u001b[1;32m    748\u001b[0m \u001b[38;5;28;01mif\u001b[39;00m \u001b[38;5;28mself\u001b[39m\u001b[38;5;241m.\u001b[39mwidth \u001b[38;5;241m==\u001b[39m \u001b[38;5;241m0\u001b[39m \u001b[38;5;129;01mor\u001b[39;00m \u001b[38;5;28mself\u001b[39m\u001b[38;5;241m.\u001b[39mheight \u001b[38;5;241m==\u001b[39m \u001b[38;5;241m0\u001b[39m:\n\u001b[1;32m    749\u001b[0m     \u001b[38;5;28;01mreturn\u001b[39;00m \u001b[38;5;124mb\u001b[39m\u001b[38;5;124m\"\u001b[39m\u001b[38;5;124m\"\u001b[39m\n",
      "File \u001b[0;32m~/projects/smartem/.venv/lib/python3.10/site-packages/PIL/ImageFile.py:209\u001b[0m, in \u001b[0;36mImageFile.load\u001b[0;34m(self)\u001b[0m\n\u001b[1;32m    206\u001b[0m         \u001b[38;5;28;01mexcept\u001b[39;00m (\u001b[38;5;167;01mAttributeError\u001b[39;00m, \u001b[38;5;167;01mOSError\u001b[39;00m, \u001b[38;5;167;01mImportError\u001b[39;00m):\n\u001b[1;32m    207\u001b[0m             \u001b[38;5;28mself\u001b[39m\u001b[38;5;241m.\u001b[39mmap \u001b[38;5;241m=\u001b[39m \u001b[38;5;28;01mNone\u001b[39;00m\n\u001b[0;32m--> 209\u001b[0m \u001b[38;5;28;43mself\u001b[39;49m\u001b[38;5;241;43m.\u001b[39;49m\u001b[43mload_prepare\u001b[49m\u001b[43m(\u001b[49m\u001b[43m)\u001b[49m\n\u001b[1;32m    210\u001b[0m err_code \u001b[38;5;241m=\u001b[39m \u001b[38;5;241m-\u001b[39m\u001b[38;5;241m3\u001b[39m  \u001b[38;5;66;03m# initialize to unknown error\u001b[39;00m\n\u001b[1;32m    211\u001b[0m \u001b[38;5;28;01mif\u001b[39;00m \u001b[38;5;129;01mnot\u001b[39;00m \u001b[38;5;28mself\u001b[39m\u001b[38;5;241m.\u001b[39mmap:\n\u001b[1;32m    212\u001b[0m     \u001b[38;5;66;03m# sort tiles in file order\u001b[39;00m\n",
      "File \u001b[0;32m~/projects/smartem/.venv/lib/python3.10/site-packages/PIL/ImageFile.py:286\u001b[0m, in \u001b[0;36mImageFile.load_prepare\u001b[0;34m(self)\u001b[0m\n\u001b[1;32m    283\u001b[0m \u001b[38;5;28;01mdef\u001b[39;00m \u001b[38;5;21mload_prepare\u001b[39m(\u001b[38;5;28mself\u001b[39m):\n\u001b[1;32m    284\u001b[0m     \u001b[38;5;66;03m# create image memory if necessary\u001b[39;00m\n\u001b[1;32m    285\u001b[0m     \u001b[38;5;28;01mif\u001b[39;00m \u001b[38;5;129;01mnot\u001b[39;00m \u001b[38;5;28mself\u001b[39m\u001b[38;5;241m.\u001b[39mim \u001b[38;5;129;01mor\u001b[39;00m \u001b[38;5;28mself\u001b[39m\u001b[38;5;241m.\u001b[39mim\u001b[38;5;241m.\u001b[39mmode \u001b[38;5;241m!=\u001b[39m \u001b[38;5;28mself\u001b[39m\u001b[38;5;241m.\u001b[39mmode \u001b[38;5;129;01mor\u001b[39;00m \u001b[38;5;28mself\u001b[39m\u001b[38;5;241m.\u001b[39mim\u001b[38;5;241m.\u001b[39msize \u001b[38;5;241m!=\u001b[39m \u001b[38;5;28mself\u001b[39m\u001b[38;5;241m.\u001b[39msize:\n\u001b[0;32m--> 286\u001b[0m         \u001b[38;5;28mself\u001b[39m\u001b[38;5;241m.\u001b[39mim \u001b[38;5;241m=\u001b[39m \u001b[43mImage\u001b[49m\u001b[38;5;241;43m.\u001b[39;49m\u001b[43mcore\u001b[49m\u001b[38;5;241;43m.\u001b[39;49m\u001b[43mnew\u001b[49m\u001b[43m(\u001b[49m\u001b[38;5;28;43mself\u001b[39;49m\u001b[38;5;241;43m.\u001b[39;49m\u001b[43mmode\u001b[49m\u001b[43m,\u001b[49m\u001b[43m \u001b[49m\u001b[38;5;28;43mself\u001b[39;49m\u001b[38;5;241;43m.\u001b[39;49m\u001b[43msize\u001b[49m\u001b[43m)\u001b[49m\n\u001b[1;32m    287\u001b[0m     \u001b[38;5;66;03m# create palette (optional)\u001b[39;00m\n\u001b[1;32m    288\u001b[0m     \u001b[38;5;28;01mif\u001b[39;00m \u001b[38;5;28mself\u001b[39m\u001b[38;5;241m.\u001b[39mmode \u001b[38;5;241m==\u001b[39m \u001b[38;5;124m\"\u001b[39m\u001b[38;5;124mP\u001b[39m\u001b[38;5;124m\"\u001b[39m:\n",
      "\u001b[0;31mKeyboardInterrupt\u001b[0m: "
     ]
    }
   ],
   "source": [
    "methods = {\n",
    "    \"load_image_nvjpegl_cpu\": load_image_nvjpegl_cpu,\n",
    "    \"load_image_nvjpegl_gpu\": load_image_nvjpegl_gpu,\n",
    "    \"load_image_skimage\": load_image_skimage,\n",
    "    \"load_image_pil\": load_image_pil,\n",
    "    \"load_image_pil_accelerated\": load_image_pil_accelerated,\n",
    "    \"load_image_cv2\": load_image_cv2,\n",
    "    \"load_image_rasterio\":load_image_rasterio,\n",
    "    \"load_image_pil_to_tensor\": load_image_pil_to_tensor,\n",
    "    \"load_image_cv_to_tensor\": load_image_cv_to_tensor,\n",
    "    \"load_image_pytorch\": load_image_pytorch,\n",
    "}\n",
    "setups = {\n",
    "    \"load_image_nvjpegl_cpu\": \"from torchvision.io.image import decode_jpeg, read_file\",\n",
    "    \"load_image_nvjpegl_gpu\": \"from torchvision.io.image import decode_jpeg, read_file\",\n",
    "    \"load_image_skimage\": \"from skimage import io\",\n",
    "    \"load_image_pil\": \"from PIL import Image\",\n",
    "    \"load_image_pil_accelerated\": \"from PIL import Image\\nimport numpy as np\",\n",
    "    \"load_image_cv2\": \"import cv2\",\n",
    "    \"load_image_rasterio\":\"import rasterio\",\n",
    "    \"load_image_pil_to_tensor\": \"from PIL import Image\\nfrom torchvision import transforms as T\",\n",
    "    \"load_image_cv_to_tensor\": \"import cv2\\nfrom torchvision import transforms as T\",\n",
    "    \"load_image_pytorch\": \"from torchvision.io import read_image\"\n",
    "}\n",
    "basesetup = \"\"\"import torch\\nfrom torch.utils.benchmark import Timer\\n\"\"\"\n",
    "basesetup += \"\\n\".join(list(setups.values()))\n",
    "\n",
    "sizes =(100,200, 300, 500, 1000, 2000,5000, 10000)\n",
    "image_format = \"jpg\"\n",
    "df = benchmark_image_loading(methods,basesetup,sizes, image_format)"
   ]
  },
  {
   "cell_type": "code",
   "execution_count": 13,
   "metadata": {},
   "outputs": [
    {
     "data": {
      "text/html": [
       "<pre style=\"white-space:pre;overflow-x:auto;line-height:normal;font-family:Menlo,'DejaVu Sans Mono',consolas,'Courier New',monospace\">Creating and saving dummy images to disk :\n",
       "</pre>\n"
      ],
      "text/plain": [
       "Creating and saving dummy images to disk :\n"
      ]
     },
     "metadata": {},
     "output_type": "display_data"
    },
    {
     "data": {
      "text/html": [
       "<pre style=\"white-space:pre;overflow-x:auto;line-height:normal;font-family:Menlo,'DejaVu Sans Mono',consolas,'Courier New',monospace\"><span style=\"color: #00ff00; text-decoration-color: #00ff00\">────────────── </span>Benchmark statistics : Image with shape = <span style=\"font-weight: bold\">(</span><span style=\"color: #008080; text-decoration-color: #008080; font-weight: bold\">100</span>, <span style=\"color: #008080; text-decoration-color: #008080; font-weight: bold\">100</span><span style=\"font-weight: bold\">)</span> and tif format | N° Runs = <span style=\"color: #008080; text-decoration-color: #008080; font-weight: bold\">10</span>  <span style=\"color: #00ff00; text-decoration-color: #00ff00\"> ───────────────</span>\n",
       "</pre>\n"
      ],
      "text/plain": [
       "\u001b[92m────────────── \u001b[0mBenchmark statistics : Image with shape = \u001b[1m(\u001b[0m\u001b[1;36m100\u001b[0m, \u001b[1;36m100\u001b[0m\u001b[1m)\u001b[0m and tif format | N° Runs = \u001b[1;36m10\u001b[0m  \u001b[92m ───────────────\u001b[0m\n"
      ]
     },
     "metadata": {},
     "output_type": "display_data"
    },
    {
     "name": "stdout",
     "output_type": "stream",
     "text": [
      "load_image_nvjpegl_cpu incompatible with tif\n",
      "load_image_nvjpegl_gpu incompatible with tif\n",
      "load_image_pytorch incompatible with tif\n"
     ]
    },
    {
     "data": {
      "text/html": [
       "<pre style=\"white-space:pre;overflow-x:auto;line-height:normal;font-family:Menlo,'DejaVu Sans Mono',consolas,'Courier New',monospace\"><span style=\"font-style: italic\">                                Statistics Table for image with num pixels = 10000                                 </span>\n",
       "┏━━━━━━━━━━━━━━━━━━━━━━━━━━━━┳━━━━━━━━━━━━━━━━━━━━━━┳━━━━━━━━━━━┳━━━━━━━━━━━━━┳━━━━━━━━━━━━━━━━━━━━━━━┳━━━━━━━━━━━┓\n",
       "┃<span style=\"font-weight: bold\">                            </span>┃<span style=\"font-weight: bold\">                      </span>┃<span style=\"font-weight: bold\">           </span>┃<span style=\"font-weight: bold\">             </span>┃<span style=\"font-weight: bold\"> Throughput (Megapixel </span>┃<span style=\"font-weight: bold\">           </span>┃\n",
       "┃<span style=\"font-weight: bold\">                       Name </span>┃<span style=\"font-weight: bold\"> First iteration (ms) </span>┃<span style=\"font-weight: bold\"> Mean (ms) </span>┃<span style=\"font-weight: bold\"> median (ms) </span>┃<span style=\"font-weight: bold\">                / sec) </span>┃<span style=\"font-weight: bold\"> fps (fps) </span>┃\n",
       "┡━━━━━━━━━━━━━━━━━━━━━━━━━━━━╇━━━━━━━━━━━━━━━━━━━━━━╇━━━━━━━━━━━╇━━━━━━━━━━━━━╇━━━━━━━━━━━━━━━━━━━━━━━╇━━━━━━━━━━━┩\n",
       "│<span style=\"color: #008080; text-decoration-color: #008080\">         load_image_skimage </span>│<span style=\"color: #008080; text-decoration-color: #008080\">                1.171 </span>│<span style=\"color: #800080; text-decoration-color: #800080\"> 0.404     </span>│<span style=\"color: #008000; text-decoration-color: #008000\">       0.404 </span>│<span style=\"color: #008000; text-decoration-color: #008000\">                24.769 </span>│<span style=\"color: #008000; text-decoration-color: #008000\">  2476.864 </span>│\n",
       "│<span style=\"color: #008080; text-decoration-color: #008080\">             load_image_pil </span>│<span style=\"color: #008080; text-decoration-color: #008080\">                0.878 </span>│<span style=\"color: #800080; text-decoration-color: #800080\"> 0.461     </span>│<span style=\"color: #008000; text-decoration-color: #008000\">       0.461 </span>│<span style=\"color: #008000; text-decoration-color: #008000\">                21.691 </span>│<span style=\"color: #008000; text-decoration-color: #008000\">  2169.114 </span>│\n",
       "│<span style=\"color: #008080; text-decoration-color: #008080\"> load_image_pil_accelerated </span>│<span style=\"color: #008080; text-decoration-color: #008080\">                0.729 </span>│<span style=\"color: #800080; text-decoration-color: #800080\"> 0.423     </span>│<span style=\"color: #008000; text-decoration-color: #008000\">       0.423 </span>│<span style=\"color: #008000; text-decoration-color: #008000\">                23.631 </span>│<span style=\"color: #008000; text-decoration-color: #008000\">  2363.085 </span>│\n",
       "│<span style=\"color: #008080; text-decoration-color: #008080\">             load_image_cv2 </span>│<span style=\"color: #008080; text-decoration-color: #008080\">                2.044 </span>│<span style=\"color: #800080; text-decoration-color: #800080\"> 0.109     </span>│<span style=\"color: #008000; text-decoration-color: #008000\">       0.109 </span>│<span style=\"color: #008000; text-decoration-color: #008000\">                91.854 </span>│<span style=\"color: #008000; text-decoration-color: #008000\">  9185.351 </span>│\n",
       "│<span style=\"color: #008080; text-decoration-color: #008080\">        load_image_rasterio </span>│<span style=\"color: #008080; text-decoration-color: #008080\">                2.814 </span>│<span style=\"color: #800080; text-decoration-color: #800080\"> 1.289     </span>│<span style=\"color: #008000; text-decoration-color: #008000\">       1.289 </span>│<span style=\"color: #008000; text-decoration-color: #008000\">                 7.755 </span>│<span style=\"color: #008000; text-decoration-color: #008000\">   775.502 </span>│\n",
       "│<span style=\"color: #008080; text-decoration-color: #008080\">   load_image_pil_to_tensor </span>│<span style=\"color: #008080; text-decoration-color: #008080\">                1.173 </span>│<span style=\"color: #800080; text-decoration-color: #800080\"> 0.641     </span>│<span style=\"color: #008000; text-decoration-color: #008000\">       0.641 </span>│<span style=\"color: #008000; text-decoration-color: #008000\">                15.610 </span>│<span style=\"color: #008000; text-decoration-color: #008000\">  1560.972 </span>│\n",
       "│<span style=\"color: #008080; text-decoration-color: #008080\">    load_image_cv_to_tensor </span>│<span style=\"color: #008080; text-decoration-color: #008080\">                0.431 </span>│<span style=\"color: #800080; text-decoration-color: #800080\"> 0.215     </span>│<span style=\"color: #008000; text-decoration-color: #008000\">       0.215 </span>│<span style=\"color: #008000; text-decoration-color: #008000\">                46.511 </span>│<span style=\"color: #008000; text-decoration-color: #008000\">  4651.140 </span>│\n",
       "└────────────────────────────┴──────────────────────┴───────────┴─────────────┴───────────────────────┴───────────┘\n",
       "</pre>\n"
      ],
      "text/plain": [
       "\u001b[3m                                Statistics Table for image with num pixels = 10000                                 \u001b[0m\n",
       "┏━━━━━━━━━━━━━━━━━━━━━━━━━━━━┳━━━━━━━━━━━━━━━━━━━━━━┳━━━━━━━━━━━┳━━━━━━━━━━━━━┳━━━━━━━━━━━━━━━━━━━━━━━┳━━━━━━━━━━━┓\n",
       "┃\u001b[1m                            \u001b[0m┃\u001b[1m                      \u001b[0m┃\u001b[1m           \u001b[0m┃\u001b[1m             \u001b[0m┃\u001b[1m \u001b[0m\u001b[1mThroughput (Megapixel\u001b[0m\u001b[1m \u001b[0m┃\u001b[1m           \u001b[0m┃\n",
       "┃\u001b[1m \u001b[0m\u001b[1m                      Name\u001b[0m\u001b[1m \u001b[0m┃\u001b[1m \u001b[0m\u001b[1mFirst iteration (ms)\u001b[0m\u001b[1m \u001b[0m┃\u001b[1m \u001b[0m\u001b[1mMean (ms)\u001b[0m\u001b[1m \u001b[0m┃\u001b[1m \u001b[0m\u001b[1mmedian (ms)\u001b[0m\u001b[1m \u001b[0m┃\u001b[1m \u001b[0m\u001b[1m               / sec)\u001b[0m\u001b[1m \u001b[0m┃\u001b[1m \u001b[0m\u001b[1mfps (fps)\u001b[0m\u001b[1m \u001b[0m┃\n",
       "┡━━━━━━━━━━━━━━━━━━━━━━━━━━━━╇━━━━━━━━━━━━━━━━━━━━━━╇━━━━━━━━━━━╇━━━━━━━━━━━━━╇━━━━━━━━━━━━━━━━━━━━━━━╇━━━━━━━━━━━┩\n",
       "│\u001b[36m \u001b[0m\u001b[36m        load_image_skimage\u001b[0m\u001b[36m \u001b[0m│\u001b[36m \u001b[0m\u001b[36m               1.171\u001b[0m\u001b[36m \u001b[0m│\u001b[35m \u001b[0m\u001b[35m0.404    \u001b[0m\u001b[35m \u001b[0m│\u001b[32m \u001b[0m\u001b[32m      0.404\u001b[0m\u001b[32m \u001b[0m│\u001b[32m \u001b[0m\u001b[32m               24.769\u001b[0m\u001b[32m \u001b[0m│\u001b[32m \u001b[0m\u001b[32m 2476.864\u001b[0m\u001b[32m \u001b[0m│\n",
       "│\u001b[36m \u001b[0m\u001b[36m            load_image_pil\u001b[0m\u001b[36m \u001b[0m│\u001b[36m \u001b[0m\u001b[36m               0.878\u001b[0m\u001b[36m \u001b[0m│\u001b[35m \u001b[0m\u001b[35m0.461    \u001b[0m\u001b[35m \u001b[0m│\u001b[32m \u001b[0m\u001b[32m      0.461\u001b[0m\u001b[32m \u001b[0m│\u001b[32m \u001b[0m\u001b[32m               21.691\u001b[0m\u001b[32m \u001b[0m│\u001b[32m \u001b[0m\u001b[32m 2169.114\u001b[0m\u001b[32m \u001b[0m│\n",
       "│\u001b[36m \u001b[0m\u001b[36mload_image_pil_accelerated\u001b[0m\u001b[36m \u001b[0m│\u001b[36m \u001b[0m\u001b[36m               0.729\u001b[0m\u001b[36m \u001b[0m│\u001b[35m \u001b[0m\u001b[35m0.423    \u001b[0m\u001b[35m \u001b[0m│\u001b[32m \u001b[0m\u001b[32m      0.423\u001b[0m\u001b[32m \u001b[0m│\u001b[32m \u001b[0m\u001b[32m               23.631\u001b[0m\u001b[32m \u001b[0m│\u001b[32m \u001b[0m\u001b[32m 2363.085\u001b[0m\u001b[32m \u001b[0m│\n",
       "│\u001b[36m \u001b[0m\u001b[36m            load_image_cv2\u001b[0m\u001b[36m \u001b[0m│\u001b[36m \u001b[0m\u001b[36m               2.044\u001b[0m\u001b[36m \u001b[0m│\u001b[35m \u001b[0m\u001b[35m0.109    \u001b[0m\u001b[35m \u001b[0m│\u001b[32m \u001b[0m\u001b[32m      0.109\u001b[0m\u001b[32m \u001b[0m│\u001b[32m \u001b[0m\u001b[32m               91.854\u001b[0m\u001b[32m \u001b[0m│\u001b[32m \u001b[0m\u001b[32m 9185.351\u001b[0m\u001b[32m \u001b[0m│\n",
       "│\u001b[36m \u001b[0m\u001b[36m       load_image_rasterio\u001b[0m\u001b[36m \u001b[0m│\u001b[36m \u001b[0m\u001b[36m               2.814\u001b[0m\u001b[36m \u001b[0m│\u001b[35m \u001b[0m\u001b[35m1.289    \u001b[0m\u001b[35m \u001b[0m│\u001b[32m \u001b[0m\u001b[32m      1.289\u001b[0m\u001b[32m \u001b[0m│\u001b[32m \u001b[0m\u001b[32m                7.755\u001b[0m\u001b[32m \u001b[0m│\u001b[32m \u001b[0m\u001b[32m  775.502\u001b[0m\u001b[32m \u001b[0m│\n",
       "│\u001b[36m \u001b[0m\u001b[36m  load_image_pil_to_tensor\u001b[0m\u001b[36m \u001b[0m│\u001b[36m \u001b[0m\u001b[36m               1.173\u001b[0m\u001b[36m \u001b[0m│\u001b[35m \u001b[0m\u001b[35m0.641    \u001b[0m\u001b[35m \u001b[0m│\u001b[32m \u001b[0m\u001b[32m      0.641\u001b[0m\u001b[32m \u001b[0m│\u001b[32m \u001b[0m\u001b[32m               15.610\u001b[0m\u001b[32m \u001b[0m│\u001b[32m \u001b[0m\u001b[32m 1560.972\u001b[0m\u001b[32m \u001b[0m│\n",
       "│\u001b[36m \u001b[0m\u001b[36m   load_image_cv_to_tensor\u001b[0m\u001b[36m \u001b[0m│\u001b[36m \u001b[0m\u001b[36m               0.431\u001b[0m\u001b[36m \u001b[0m│\u001b[35m \u001b[0m\u001b[35m0.215    \u001b[0m\u001b[35m \u001b[0m│\u001b[32m \u001b[0m\u001b[32m      0.215\u001b[0m\u001b[32m \u001b[0m│\u001b[32m \u001b[0m\u001b[32m               46.511\u001b[0m\u001b[32m \u001b[0m│\u001b[32m \u001b[0m\u001b[32m 4651.140\u001b[0m\u001b[32m \u001b[0m│\n",
       "└────────────────────────────┴──────────────────────┴───────────┴─────────────┴───────────────────────┴───────────┘\n"
      ]
     },
     "metadata": {},
     "output_type": "display_data"
    },
    {
     "data": {
      "text/html": [
       "<pre style=\"white-space:pre;overflow-x:auto;line-height:normal;font-family:Menlo,'DejaVu Sans Mono',consolas,'Courier New',monospace\"><span style=\"color: #00ff00; text-decoration-color: #00ff00\">────────────── </span>Benchmark statistics : Image with shape = <span style=\"font-weight: bold\">(</span><span style=\"color: #008080; text-decoration-color: #008080; font-weight: bold\">200</span>, <span style=\"color: #008080; text-decoration-color: #008080; font-weight: bold\">200</span><span style=\"font-weight: bold\">)</span> and tif format | N° Runs = <span style=\"color: #008080; text-decoration-color: #008080; font-weight: bold\">10</span>  <span style=\"color: #00ff00; text-decoration-color: #00ff00\"> ───────────────</span>\n",
       "</pre>\n"
      ],
      "text/plain": [
       "\u001b[92m────────────── \u001b[0mBenchmark statistics : Image with shape = \u001b[1m(\u001b[0m\u001b[1;36m200\u001b[0m, \u001b[1;36m200\u001b[0m\u001b[1m)\u001b[0m and tif format | N° Runs = \u001b[1;36m10\u001b[0m  \u001b[92m ───────────────\u001b[0m\n"
      ]
     },
     "metadata": {},
     "output_type": "display_data"
    },
    {
     "name": "stdout",
     "output_type": "stream",
     "text": [
      "load_image_nvjpegl_cpu incompatible with tif\n",
      "load_image_nvjpegl_gpu incompatible with tif\n",
      "load_image_pytorch incompatible with tif\n"
     ]
    },
    {
     "data": {
      "text/html": [
       "<pre style=\"white-space:pre;overflow-x:auto;line-height:normal;font-family:Menlo,'DejaVu Sans Mono',consolas,'Courier New',monospace\"><span style=\"font-style: italic\">                                Statistics Table for image with num pixels = 40000                                 </span>\n",
       "┏━━━━━━━━━━━━━━━━━━━━━━━━━━━━┳━━━━━━━━━━━━━━━━━━━━━━┳━━━━━━━━━━━┳━━━━━━━━━━━━━┳━━━━━━━━━━━━━━━━━━━━━━━┳━━━━━━━━━━━┓\n",
       "┃<span style=\"font-weight: bold\">                            </span>┃<span style=\"font-weight: bold\">                      </span>┃<span style=\"font-weight: bold\">           </span>┃<span style=\"font-weight: bold\">             </span>┃<span style=\"font-weight: bold\"> Throughput (Megapixel </span>┃<span style=\"font-weight: bold\">           </span>┃\n",
       "┃<span style=\"font-weight: bold\">                       Name </span>┃<span style=\"font-weight: bold\"> First iteration (ms) </span>┃<span style=\"font-weight: bold\"> Mean (ms) </span>┃<span style=\"font-weight: bold\"> median (ms) </span>┃<span style=\"font-weight: bold\">                / sec) </span>┃<span style=\"font-weight: bold\"> fps (fps) </span>┃\n",
       "┡━━━━━━━━━━━━━━━━━━━━━━━━━━━━╇━━━━━━━━━━━━━━━━━━━━━━╇━━━━━━━━━━━╇━━━━━━━━━━━━━╇━━━━━━━━━━━━━━━━━━━━━━━╇━━━━━━━━━━━┩\n",
       "│<span style=\"color: #008080; text-decoration-color: #008080\">         load_image_skimage </span>│<span style=\"color: #008080; text-decoration-color: #008080\">                0.848 </span>│<span style=\"color: #800080; text-decoration-color: #800080\"> 0.514     </span>│<span style=\"color: #008000; text-decoration-color: #008000\">       0.514 </span>│<span style=\"color: #008000; text-decoration-color: #008000\">                77.808 </span>│<span style=\"color: #008000; text-decoration-color: #008000\">  1945.194 </span>│\n",
       "│<span style=\"color: #008080; text-decoration-color: #008080\">             load_image_pil </span>│<span style=\"color: #008080; text-decoration-color: #008080\">                1.077 </span>│<span style=\"color: #800080; text-decoration-color: #800080\"> 0.603     </span>│<span style=\"color: #008000; text-decoration-color: #008000\">       0.603 </span>│<span style=\"color: #008000; text-decoration-color: #008000\">                66.282 </span>│<span style=\"color: #008000; text-decoration-color: #008000\">  1657.054 </span>│\n",
       "│<span style=\"color: #008080; text-decoration-color: #008080\"> load_image_pil_accelerated </span>│<span style=\"color: #008080; text-decoration-color: #008080\">                1.157 </span>│<span style=\"color: #800080; text-decoration-color: #800080\"> 0.623     </span>│<span style=\"color: #008000; text-decoration-color: #008000\">       0.623 </span>│<span style=\"color: #008000; text-decoration-color: #008000\">                64.193 </span>│<span style=\"color: #008000; text-decoration-color: #008000\">  1604.824 </span>│\n",
       "│<span style=\"color: #008080; text-decoration-color: #008080\">             load_image_cv2 </span>│<span style=\"color: #008080; text-decoration-color: #008080\">                0.625 </span>│<span style=\"color: #800080; text-decoration-color: #800080\"> 0.227     </span>│<span style=\"color: #008000; text-decoration-color: #008000\">       0.227 </span>│<span style=\"color: #008000; text-decoration-color: #008000\">               176.400 </span>│<span style=\"color: #008000; text-decoration-color: #008000\">  4409.995 </span>│\n",
       "│<span style=\"color: #008080; text-decoration-color: #008080\">        load_image_rasterio </span>│<span style=\"color: #008080; text-decoration-color: #008080\">                1.929 </span>│<span style=\"color: #800080; text-decoration-color: #800080\"> 0.999     </span>│<span style=\"color: #008000; text-decoration-color: #008000\">       0.999 </span>│<span style=\"color: #008000; text-decoration-color: #008000\">                40.045 </span>│<span style=\"color: #008000; text-decoration-color: #008000\">  1001.120 </span>│\n",
       "│<span style=\"color: #008080; text-decoration-color: #008080\">   load_image_pil_to_tensor </span>│<span style=\"color: #008080; text-decoration-color: #008080\">               18.977 </span>│<span style=\"color: #800080; text-decoration-color: #800080\"> 1.122     </span>│<span style=\"color: #008000; text-decoration-color: #008000\">       1.122 </span>│<span style=\"color: #008000; text-decoration-color: #008000\">                35.635 </span>│<span style=\"color: #008000; text-decoration-color: #008000\">   890.874 </span>│\n",
       "│<span style=\"color: #008080; text-decoration-color: #008080\">    load_image_cv_to_tensor </span>│<span style=\"color: #008080; text-decoration-color: #008080\">                0.784 </span>│<span style=\"color: #800080; text-decoration-color: #800080\"> 0.571     </span>│<span style=\"color: #008000; text-decoration-color: #008000\">       0.571 </span>│<span style=\"color: #008000; text-decoration-color: #008000\">                70.094 </span>│<span style=\"color: #008000; text-decoration-color: #008000\">  1752.352 </span>│\n",
       "└────────────────────────────┴──────────────────────┴───────────┴─────────────┴───────────────────────┴───────────┘\n",
       "</pre>\n"
      ],
      "text/plain": [
       "\u001b[3m                                Statistics Table for image with num pixels = 40000                                 \u001b[0m\n",
       "┏━━━━━━━━━━━━━━━━━━━━━━━━━━━━┳━━━━━━━━━━━━━━━━━━━━━━┳━━━━━━━━━━━┳━━━━━━━━━━━━━┳━━━━━━━━━━━━━━━━━━━━━━━┳━━━━━━━━━━━┓\n",
       "┃\u001b[1m                            \u001b[0m┃\u001b[1m                      \u001b[0m┃\u001b[1m           \u001b[0m┃\u001b[1m             \u001b[0m┃\u001b[1m \u001b[0m\u001b[1mThroughput (Megapixel\u001b[0m\u001b[1m \u001b[0m┃\u001b[1m           \u001b[0m┃\n",
       "┃\u001b[1m \u001b[0m\u001b[1m                      Name\u001b[0m\u001b[1m \u001b[0m┃\u001b[1m \u001b[0m\u001b[1mFirst iteration (ms)\u001b[0m\u001b[1m \u001b[0m┃\u001b[1m \u001b[0m\u001b[1mMean (ms)\u001b[0m\u001b[1m \u001b[0m┃\u001b[1m \u001b[0m\u001b[1mmedian (ms)\u001b[0m\u001b[1m \u001b[0m┃\u001b[1m \u001b[0m\u001b[1m               / sec)\u001b[0m\u001b[1m \u001b[0m┃\u001b[1m \u001b[0m\u001b[1mfps (fps)\u001b[0m\u001b[1m \u001b[0m┃\n",
       "┡━━━━━━━━━━━━━━━━━━━━━━━━━━━━╇━━━━━━━━━━━━━━━━━━━━━━╇━━━━━━━━━━━╇━━━━━━━━━━━━━╇━━━━━━━━━━━━━━━━━━━━━━━╇━━━━━━━━━━━┩\n",
       "│\u001b[36m \u001b[0m\u001b[36m        load_image_skimage\u001b[0m\u001b[36m \u001b[0m│\u001b[36m \u001b[0m\u001b[36m               0.848\u001b[0m\u001b[36m \u001b[0m│\u001b[35m \u001b[0m\u001b[35m0.514    \u001b[0m\u001b[35m \u001b[0m│\u001b[32m \u001b[0m\u001b[32m      0.514\u001b[0m\u001b[32m \u001b[0m│\u001b[32m \u001b[0m\u001b[32m               77.808\u001b[0m\u001b[32m \u001b[0m│\u001b[32m \u001b[0m\u001b[32m 1945.194\u001b[0m\u001b[32m \u001b[0m│\n",
       "│\u001b[36m \u001b[0m\u001b[36m            load_image_pil\u001b[0m\u001b[36m \u001b[0m│\u001b[36m \u001b[0m\u001b[36m               1.077\u001b[0m\u001b[36m \u001b[0m│\u001b[35m \u001b[0m\u001b[35m0.603    \u001b[0m\u001b[35m \u001b[0m│\u001b[32m \u001b[0m\u001b[32m      0.603\u001b[0m\u001b[32m \u001b[0m│\u001b[32m \u001b[0m\u001b[32m               66.282\u001b[0m\u001b[32m \u001b[0m│\u001b[32m \u001b[0m\u001b[32m 1657.054\u001b[0m\u001b[32m \u001b[0m│\n",
       "│\u001b[36m \u001b[0m\u001b[36mload_image_pil_accelerated\u001b[0m\u001b[36m \u001b[0m│\u001b[36m \u001b[0m\u001b[36m               1.157\u001b[0m\u001b[36m \u001b[0m│\u001b[35m \u001b[0m\u001b[35m0.623    \u001b[0m\u001b[35m \u001b[0m│\u001b[32m \u001b[0m\u001b[32m      0.623\u001b[0m\u001b[32m \u001b[0m│\u001b[32m \u001b[0m\u001b[32m               64.193\u001b[0m\u001b[32m \u001b[0m│\u001b[32m \u001b[0m\u001b[32m 1604.824\u001b[0m\u001b[32m \u001b[0m│\n",
       "│\u001b[36m \u001b[0m\u001b[36m            load_image_cv2\u001b[0m\u001b[36m \u001b[0m│\u001b[36m \u001b[0m\u001b[36m               0.625\u001b[0m\u001b[36m \u001b[0m│\u001b[35m \u001b[0m\u001b[35m0.227    \u001b[0m\u001b[35m \u001b[0m│\u001b[32m \u001b[0m\u001b[32m      0.227\u001b[0m\u001b[32m \u001b[0m│\u001b[32m \u001b[0m\u001b[32m              176.400\u001b[0m\u001b[32m \u001b[0m│\u001b[32m \u001b[0m\u001b[32m 4409.995\u001b[0m\u001b[32m \u001b[0m│\n",
       "│\u001b[36m \u001b[0m\u001b[36m       load_image_rasterio\u001b[0m\u001b[36m \u001b[0m│\u001b[36m \u001b[0m\u001b[36m               1.929\u001b[0m\u001b[36m \u001b[0m│\u001b[35m \u001b[0m\u001b[35m0.999    \u001b[0m\u001b[35m \u001b[0m│\u001b[32m \u001b[0m\u001b[32m      0.999\u001b[0m\u001b[32m \u001b[0m│\u001b[32m \u001b[0m\u001b[32m               40.045\u001b[0m\u001b[32m \u001b[0m│\u001b[32m \u001b[0m\u001b[32m 1001.120\u001b[0m\u001b[32m \u001b[0m│\n",
       "│\u001b[36m \u001b[0m\u001b[36m  load_image_pil_to_tensor\u001b[0m\u001b[36m \u001b[0m│\u001b[36m \u001b[0m\u001b[36m              18.977\u001b[0m\u001b[36m \u001b[0m│\u001b[35m \u001b[0m\u001b[35m1.122    \u001b[0m\u001b[35m \u001b[0m│\u001b[32m \u001b[0m\u001b[32m      1.122\u001b[0m\u001b[32m \u001b[0m│\u001b[32m \u001b[0m\u001b[32m               35.635\u001b[0m\u001b[32m \u001b[0m│\u001b[32m \u001b[0m\u001b[32m  890.874\u001b[0m\u001b[32m \u001b[0m│\n",
       "│\u001b[36m \u001b[0m\u001b[36m   load_image_cv_to_tensor\u001b[0m\u001b[36m \u001b[0m│\u001b[36m \u001b[0m\u001b[36m               0.784\u001b[0m\u001b[36m \u001b[0m│\u001b[35m \u001b[0m\u001b[35m0.571    \u001b[0m\u001b[35m \u001b[0m│\u001b[32m \u001b[0m\u001b[32m      0.571\u001b[0m\u001b[32m \u001b[0m│\u001b[32m \u001b[0m\u001b[32m               70.094\u001b[0m\u001b[32m \u001b[0m│\u001b[32m \u001b[0m\u001b[32m 1752.352\u001b[0m\u001b[32m \u001b[0m│\n",
       "└────────────────────────────┴──────────────────────┴───────────┴─────────────┴───────────────────────┴───────────┘\n"
      ]
     },
     "metadata": {},
     "output_type": "display_data"
    },
    {
     "data": {
      "text/html": [
       "<pre style=\"white-space:pre;overflow-x:auto;line-height:normal;font-family:Menlo,'DejaVu Sans Mono',consolas,'Courier New',monospace\"><span style=\"color: #00ff00; text-decoration-color: #00ff00\">────────────── </span>Benchmark statistics : Image with shape = <span style=\"font-weight: bold\">(</span><span style=\"color: #008080; text-decoration-color: #008080; font-weight: bold\">300</span>, <span style=\"color: #008080; text-decoration-color: #008080; font-weight: bold\">300</span><span style=\"font-weight: bold\">)</span> and tif format | N° Runs = <span style=\"color: #008080; text-decoration-color: #008080; font-weight: bold\">10</span>  <span style=\"color: #00ff00; text-decoration-color: #00ff00\"> ───────────────</span>\n",
       "</pre>\n"
      ],
      "text/plain": [
       "\u001b[92m────────────── \u001b[0mBenchmark statistics : Image with shape = \u001b[1m(\u001b[0m\u001b[1;36m300\u001b[0m, \u001b[1;36m300\u001b[0m\u001b[1m)\u001b[0m and tif format | N° Runs = \u001b[1;36m10\u001b[0m  \u001b[92m ───────────────\u001b[0m\n"
      ]
     },
     "metadata": {},
     "output_type": "display_data"
    },
    {
     "name": "stdout",
     "output_type": "stream",
     "text": [
      "load_image_nvjpegl_cpu incompatible with tif\n",
      "load_image_nvjpegl_gpu incompatible with tif\n",
      "load_image_pytorch incompatible with tif\n"
     ]
    },
    {
     "data": {
      "text/html": [
       "<pre style=\"white-space:pre;overflow-x:auto;line-height:normal;font-family:Menlo,'DejaVu Sans Mono',consolas,'Courier New',monospace\"><span style=\"font-style: italic\">                                Statistics Table for image with num pixels = 90000                                 </span>\n",
       "┏━━━━━━━━━━━━━━━━━━━━━━━━━━━━┳━━━━━━━━━━━━━━━━━━━━━━┳━━━━━━━━━━━┳━━━━━━━━━━━━━┳━━━━━━━━━━━━━━━━━━━━━━━┳━━━━━━━━━━━┓\n",
       "┃<span style=\"font-weight: bold\">                            </span>┃<span style=\"font-weight: bold\">                      </span>┃<span style=\"font-weight: bold\">           </span>┃<span style=\"font-weight: bold\">             </span>┃<span style=\"font-weight: bold\"> Throughput (Megapixel </span>┃<span style=\"font-weight: bold\">           </span>┃\n",
       "┃<span style=\"font-weight: bold\">                       Name </span>┃<span style=\"font-weight: bold\"> First iteration (ms) </span>┃<span style=\"font-weight: bold\"> Mean (ms) </span>┃<span style=\"font-weight: bold\"> median (ms) </span>┃<span style=\"font-weight: bold\">                / sec) </span>┃<span style=\"font-weight: bold\"> fps (fps) </span>┃\n",
       "┡━━━━━━━━━━━━━━━━━━━━━━━━━━━━╇━━━━━━━━━━━━━━━━━━━━━━╇━━━━━━━━━━━╇━━━━━━━━━━━━━╇━━━━━━━━━━━━━━━━━━━━━━━╇━━━━━━━━━━━┩\n",
       "│<span style=\"color: #008080; text-decoration-color: #008080\">         load_image_skimage </span>│<span style=\"color: #008080; text-decoration-color: #008080\">                1.272 </span>│<span style=\"color: #800080; text-decoration-color: #800080\"> 0.780     </span>│<span style=\"color: #008000; text-decoration-color: #008000\">       0.780 </span>│<span style=\"color: #008000; text-decoration-color: #008000\">               115.427 </span>│<span style=\"color: #008000; text-decoration-color: #008000\">  1282.523 </span>│\n",
       "│<span style=\"color: #008080; text-decoration-color: #008080\">             load_image_pil </span>│<span style=\"color: #008080; text-decoration-color: #008080\">                1.744 </span>│<span style=\"color: #800080; text-decoration-color: #800080\"> 1.108     </span>│<span style=\"color: #008000; text-decoration-color: #008000\">       1.108 </span>│<span style=\"color: #008000; text-decoration-color: #008000\">                81.259 </span>│<span style=\"color: #008000; text-decoration-color: #008000\">   902.877 </span>│\n",
       "│<span style=\"color: #008080; text-decoration-color: #008080\"> load_image_pil_accelerated </span>│<span style=\"color: #008080; text-decoration-color: #008080\">                1.493 </span>│<span style=\"color: #800080; text-decoration-color: #800080\"> 1.074     </span>│<span style=\"color: #008000; text-decoration-color: #008000\">       1.074 </span>│<span style=\"color: #008000; text-decoration-color: #008000\">                83.777 </span>│<span style=\"color: #008000; text-decoration-color: #008000\">   930.854 </span>│\n",
       "│<span style=\"color: #008080; text-decoration-color: #008080\">             load_image_cv2 </span>│<span style=\"color: #008080; text-decoration-color: #008080\">                1.157 </span>│<span style=\"color: #800080; text-decoration-color: #800080\"> 0.500     </span>│<span style=\"color: #008000; text-decoration-color: #008000\">       0.500 </span>│<span style=\"color: #008000; text-decoration-color: #008000\">               179.822 </span>│<span style=\"color: #008000; text-decoration-color: #008000\">  1998.022 </span>│\n",
       "│<span style=\"color: #008080; text-decoration-color: #008080\">        load_image_rasterio </span>│<span style=\"color: #008080; text-decoration-color: #008080\">                2.559 </span>│<span style=\"color: #800080; text-decoration-color: #800080\"> 1.563     </span>│<span style=\"color: #008000; text-decoration-color: #008000\">       1.563 </span>│<span style=\"color: #008000; text-decoration-color: #008000\">                57.590 </span>│<span style=\"color: #008000; text-decoration-color: #008000\">   639.885 </span>│\n",
       "│<span style=\"color: #008080; text-decoration-color: #008080\">   load_image_pil_to_tensor </span>│<span style=\"color: #008080; text-decoration-color: #008080\">                3.674 </span>│<span style=\"color: #800080; text-decoration-color: #800080\"> 1.609     </span>│<span style=\"color: #008000; text-decoration-color: #008000\">       1.609 </span>│<span style=\"color: #008000; text-decoration-color: #008000\">                55.922 </span>│<span style=\"color: #008000; text-decoration-color: #008000\">   621.356 </span>│\n",
       "│<span style=\"color: #008080; text-decoration-color: #008080\">    load_image_cv_to_tensor </span>│<span style=\"color: #008080; text-decoration-color: #008080\">                1.260 </span>│<span style=\"color: #800080; text-decoration-color: #800080\"> 1.071     </span>│<span style=\"color: #008000; text-decoration-color: #008000\">       1.071 </span>│<span style=\"color: #008000; text-decoration-color: #008000\">                84.052 </span>│<span style=\"color: #008000; text-decoration-color: #008000\">   933.908 </span>│\n",
       "└────────────────────────────┴──────────────────────┴───────────┴─────────────┴───────────────────────┴───────────┘\n",
       "</pre>\n"
      ],
      "text/plain": [
       "\u001b[3m                                Statistics Table for image with num pixels = 90000                                 \u001b[0m\n",
       "┏━━━━━━━━━━━━━━━━━━━━━━━━━━━━┳━━━━━━━━━━━━━━━━━━━━━━┳━━━━━━━━━━━┳━━━━━━━━━━━━━┳━━━━━━━━━━━━━━━━━━━━━━━┳━━━━━━━━━━━┓\n",
       "┃\u001b[1m                            \u001b[0m┃\u001b[1m                      \u001b[0m┃\u001b[1m           \u001b[0m┃\u001b[1m             \u001b[0m┃\u001b[1m \u001b[0m\u001b[1mThroughput (Megapixel\u001b[0m\u001b[1m \u001b[0m┃\u001b[1m           \u001b[0m┃\n",
       "┃\u001b[1m \u001b[0m\u001b[1m                      Name\u001b[0m\u001b[1m \u001b[0m┃\u001b[1m \u001b[0m\u001b[1mFirst iteration (ms)\u001b[0m\u001b[1m \u001b[0m┃\u001b[1m \u001b[0m\u001b[1mMean (ms)\u001b[0m\u001b[1m \u001b[0m┃\u001b[1m \u001b[0m\u001b[1mmedian (ms)\u001b[0m\u001b[1m \u001b[0m┃\u001b[1m \u001b[0m\u001b[1m               / sec)\u001b[0m\u001b[1m \u001b[0m┃\u001b[1m \u001b[0m\u001b[1mfps (fps)\u001b[0m\u001b[1m \u001b[0m┃\n",
       "┡━━━━━━━━━━━━━━━━━━━━━━━━━━━━╇━━━━━━━━━━━━━━━━━━━━━━╇━━━━━━━━━━━╇━━━━━━━━━━━━━╇━━━━━━━━━━━━━━━━━━━━━━━╇━━━━━━━━━━━┩\n",
       "│\u001b[36m \u001b[0m\u001b[36m        load_image_skimage\u001b[0m\u001b[36m \u001b[0m│\u001b[36m \u001b[0m\u001b[36m               1.272\u001b[0m\u001b[36m \u001b[0m│\u001b[35m \u001b[0m\u001b[35m0.780    \u001b[0m\u001b[35m \u001b[0m│\u001b[32m \u001b[0m\u001b[32m      0.780\u001b[0m\u001b[32m \u001b[0m│\u001b[32m \u001b[0m\u001b[32m              115.427\u001b[0m\u001b[32m \u001b[0m│\u001b[32m \u001b[0m\u001b[32m 1282.523\u001b[0m\u001b[32m \u001b[0m│\n",
       "│\u001b[36m \u001b[0m\u001b[36m            load_image_pil\u001b[0m\u001b[36m \u001b[0m│\u001b[36m \u001b[0m\u001b[36m               1.744\u001b[0m\u001b[36m \u001b[0m│\u001b[35m \u001b[0m\u001b[35m1.108    \u001b[0m\u001b[35m \u001b[0m│\u001b[32m \u001b[0m\u001b[32m      1.108\u001b[0m\u001b[32m \u001b[0m│\u001b[32m \u001b[0m\u001b[32m               81.259\u001b[0m\u001b[32m \u001b[0m│\u001b[32m \u001b[0m\u001b[32m  902.877\u001b[0m\u001b[32m \u001b[0m│\n",
       "│\u001b[36m \u001b[0m\u001b[36mload_image_pil_accelerated\u001b[0m\u001b[36m \u001b[0m│\u001b[36m \u001b[0m\u001b[36m               1.493\u001b[0m\u001b[36m \u001b[0m│\u001b[35m \u001b[0m\u001b[35m1.074    \u001b[0m\u001b[35m \u001b[0m│\u001b[32m \u001b[0m\u001b[32m      1.074\u001b[0m\u001b[32m \u001b[0m│\u001b[32m \u001b[0m\u001b[32m               83.777\u001b[0m\u001b[32m \u001b[0m│\u001b[32m \u001b[0m\u001b[32m  930.854\u001b[0m\u001b[32m \u001b[0m│\n",
       "│\u001b[36m \u001b[0m\u001b[36m            load_image_cv2\u001b[0m\u001b[36m \u001b[0m│\u001b[36m \u001b[0m\u001b[36m               1.157\u001b[0m\u001b[36m \u001b[0m│\u001b[35m \u001b[0m\u001b[35m0.500    \u001b[0m\u001b[35m \u001b[0m│\u001b[32m \u001b[0m\u001b[32m      0.500\u001b[0m\u001b[32m \u001b[0m│\u001b[32m \u001b[0m\u001b[32m              179.822\u001b[0m\u001b[32m \u001b[0m│\u001b[32m \u001b[0m\u001b[32m 1998.022\u001b[0m\u001b[32m \u001b[0m│\n",
       "│\u001b[36m \u001b[0m\u001b[36m       load_image_rasterio\u001b[0m\u001b[36m \u001b[0m│\u001b[36m \u001b[0m\u001b[36m               2.559\u001b[0m\u001b[36m \u001b[0m│\u001b[35m \u001b[0m\u001b[35m1.563    \u001b[0m\u001b[35m \u001b[0m│\u001b[32m \u001b[0m\u001b[32m      1.563\u001b[0m\u001b[32m \u001b[0m│\u001b[32m \u001b[0m\u001b[32m               57.590\u001b[0m\u001b[32m \u001b[0m│\u001b[32m \u001b[0m\u001b[32m  639.885\u001b[0m\u001b[32m \u001b[0m│\n",
       "│\u001b[36m \u001b[0m\u001b[36m  load_image_pil_to_tensor\u001b[0m\u001b[36m \u001b[0m│\u001b[36m \u001b[0m\u001b[36m               3.674\u001b[0m\u001b[36m \u001b[0m│\u001b[35m \u001b[0m\u001b[35m1.609    \u001b[0m\u001b[35m \u001b[0m│\u001b[32m \u001b[0m\u001b[32m      1.609\u001b[0m\u001b[32m \u001b[0m│\u001b[32m \u001b[0m\u001b[32m               55.922\u001b[0m\u001b[32m \u001b[0m│\u001b[32m \u001b[0m\u001b[32m  621.356\u001b[0m\u001b[32m \u001b[0m│\n",
       "│\u001b[36m \u001b[0m\u001b[36m   load_image_cv_to_tensor\u001b[0m\u001b[36m \u001b[0m│\u001b[36m \u001b[0m\u001b[36m               1.260\u001b[0m\u001b[36m \u001b[0m│\u001b[35m \u001b[0m\u001b[35m1.071    \u001b[0m\u001b[35m \u001b[0m│\u001b[32m \u001b[0m\u001b[32m      1.071\u001b[0m\u001b[32m \u001b[0m│\u001b[32m \u001b[0m\u001b[32m               84.052\u001b[0m\u001b[32m \u001b[0m│\u001b[32m \u001b[0m\u001b[32m  933.908\u001b[0m\u001b[32m \u001b[0m│\n",
       "└────────────────────────────┴──────────────────────┴───────────┴─────────────┴───────────────────────┴───────────┘\n"
      ]
     },
     "metadata": {},
     "output_type": "display_data"
    },
    {
     "data": {
      "text/html": [
       "<pre style=\"white-space:pre;overflow-x:auto;line-height:normal;font-family:Menlo,'DejaVu Sans Mono',consolas,'Courier New',monospace\"><span style=\"color: #00ff00; text-decoration-color: #00ff00\">────────────── </span>Benchmark statistics : Image with shape = <span style=\"font-weight: bold\">(</span><span style=\"color: #008080; text-decoration-color: #008080; font-weight: bold\">500</span>, <span style=\"color: #008080; text-decoration-color: #008080; font-weight: bold\">500</span><span style=\"font-weight: bold\">)</span> and tif format | N° Runs = <span style=\"color: #008080; text-decoration-color: #008080; font-weight: bold\">10</span>  <span style=\"color: #00ff00; text-decoration-color: #00ff00\"> ───────────────</span>\n",
       "</pre>\n"
      ],
      "text/plain": [
       "\u001b[92m────────────── \u001b[0mBenchmark statistics : Image with shape = \u001b[1m(\u001b[0m\u001b[1;36m500\u001b[0m, \u001b[1;36m500\u001b[0m\u001b[1m)\u001b[0m and tif format | N° Runs = \u001b[1;36m10\u001b[0m  \u001b[92m ───────────────\u001b[0m\n"
      ]
     },
     "metadata": {},
     "output_type": "display_data"
    },
    {
     "name": "stdout",
     "output_type": "stream",
     "text": [
      "load_image_nvjpegl_cpu incompatible with tif\n",
      "load_image_nvjpegl_gpu incompatible with tif\n",
      "load_image_pytorch incompatible with tif\n"
     ]
    },
    {
     "data": {
      "text/html": [
       "<pre style=\"white-space:pre;overflow-x:auto;line-height:normal;font-family:Menlo,'DejaVu Sans Mono',consolas,'Courier New',monospace\"><span style=\"font-style: italic\">                                Statistics Table for image with num pixels = 250000                                </span>\n",
       "┏━━━━━━━━━━━━━━━━━━━━━━━━━━━━┳━━━━━━━━━━━━━━━━━━━━━━┳━━━━━━━━━━━┳━━━━━━━━━━━━━┳━━━━━━━━━━━━━━━━━━━━━━━┳━━━━━━━━━━━┓\n",
       "┃<span style=\"font-weight: bold\">                            </span>┃<span style=\"font-weight: bold\">                      </span>┃<span style=\"font-weight: bold\">           </span>┃<span style=\"font-weight: bold\">             </span>┃<span style=\"font-weight: bold\"> Throughput (Megapixel </span>┃<span style=\"font-weight: bold\">           </span>┃\n",
       "┃<span style=\"font-weight: bold\">                       Name </span>┃<span style=\"font-weight: bold\"> First iteration (ms) </span>┃<span style=\"font-weight: bold\"> Mean (ms) </span>┃<span style=\"font-weight: bold\"> median (ms) </span>┃<span style=\"font-weight: bold\">                / sec) </span>┃<span style=\"font-weight: bold\"> fps (fps) </span>┃\n",
       "┡━━━━━━━━━━━━━━━━━━━━━━━━━━━━╇━━━━━━━━━━━━━━━━━━━━━━╇━━━━━━━━━━━╇━━━━━━━━━━━━━╇━━━━━━━━━━━━━━━━━━━━━━━╇━━━━━━━━━━━┩\n",
       "│<span style=\"color: #008080; text-decoration-color: #008080\">         load_image_skimage </span>│<span style=\"color: #008080; text-decoration-color: #008080\">                1.770 </span>│<span style=\"color: #800080; text-decoration-color: #800080\"> 1.130     </span>│<span style=\"color: #008000; text-decoration-color: #008000\">       1.130 </span>│<span style=\"color: #008000; text-decoration-color: #008000\">               221.163 </span>│<span style=\"color: #008000; text-decoration-color: #008000\">   884.652 </span>│\n",
       "│<span style=\"color: #008080; text-decoration-color: #008080\">             load_image_pil </span>│<span style=\"color: #008080; text-decoration-color: #008080\">                2.625 </span>│<span style=\"color: #800080; text-decoration-color: #800080\"> 1.852     </span>│<span style=\"color: #008000; text-decoration-color: #008000\">       1.852 </span>│<span style=\"color: #008000; text-decoration-color: #008000\">               135.015 </span>│<span style=\"color: #008000; text-decoration-color: #008000\">   540.059 </span>│\n",
       "│<span style=\"color: #008080; text-decoration-color: #008080\"> load_image_pil_accelerated </span>│<span style=\"color: #008080; text-decoration-color: #008080\">                2.710 </span>│<span style=\"color: #800080; text-decoration-color: #800080\"> 1.929     </span>│<span style=\"color: #008000; text-decoration-color: #008000\">       1.929 </span>│<span style=\"color: #008000; text-decoration-color: #008000\">               129.606 </span>│<span style=\"color: #008000; text-decoration-color: #008000\">   518.423 </span>│\n",
       "│<span style=\"color: #008080; text-decoration-color: #008080\">             load_image_cv2 </span>│<span style=\"color: #008080; text-decoration-color: #008080\">                2.877 </span>│<span style=\"color: #800080; text-decoration-color: #800080\"> 1.202     </span>│<span style=\"color: #008000; text-decoration-color: #008000\">       1.202 </span>│<span style=\"color: #008000; text-decoration-color: #008000\">               208.002 </span>│<span style=\"color: #008000; text-decoration-color: #008000\">   832.006 </span>│\n",
       "│<span style=\"color: #008080; text-decoration-color: #008080\">        load_image_rasterio </span>│<span style=\"color: #008080; text-decoration-color: #008080\">                3.293 </span>│<span style=\"color: #800080; text-decoration-color: #800080\"> 1.607     </span>│<span style=\"color: #008000; text-decoration-color: #008000\">       1.607 </span>│<span style=\"color: #008000; text-decoration-color: #008000\">               155.566 </span>│<span style=\"color: #008000; text-decoration-color: #008000\">   622.262 </span>│\n",
       "│<span style=\"color: #008080; text-decoration-color: #008080\">   load_image_pil_to_tensor </span>│<span style=\"color: #008080; text-decoration-color: #008080\">                4.855 </span>│<span style=\"color: #800080; text-decoration-color: #800080\"> 3.285     </span>│<span style=\"color: #008000; text-decoration-color: #008000\">       3.285 </span>│<span style=\"color: #008000; text-decoration-color: #008000\">                76.101 </span>│<span style=\"color: #008000; text-decoration-color: #008000\">   304.403 </span>│\n",
       "│<span style=\"color: #008080; text-decoration-color: #008080\">    load_image_cv_to_tensor </span>│<span style=\"color: #008080; text-decoration-color: #008080\">               16.982 </span>│<span style=\"color: #800080; text-decoration-color: #800080\"> 2.530     </span>│<span style=\"color: #008000; text-decoration-color: #008000\">       2.530 </span>│<span style=\"color: #008000; text-decoration-color: #008000\">                98.804 </span>│<span style=\"color: #008000; text-decoration-color: #008000\">   395.214 </span>│\n",
       "└────────────────────────────┴──────────────────────┴───────────┴─────────────┴───────────────────────┴───────────┘\n",
       "</pre>\n"
      ],
      "text/plain": [
       "\u001b[3m                                Statistics Table for image with num pixels = 250000                                \u001b[0m\n",
       "┏━━━━━━━━━━━━━━━━━━━━━━━━━━━━┳━━━━━━━━━━━━━━━━━━━━━━┳━━━━━━━━━━━┳━━━━━━━━━━━━━┳━━━━━━━━━━━━━━━━━━━━━━━┳━━━━━━━━━━━┓\n",
       "┃\u001b[1m                            \u001b[0m┃\u001b[1m                      \u001b[0m┃\u001b[1m           \u001b[0m┃\u001b[1m             \u001b[0m┃\u001b[1m \u001b[0m\u001b[1mThroughput (Megapixel\u001b[0m\u001b[1m \u001b[0m┃\u001b[1m           \u001b[0m┃\n",
       "┃\u001b[1m \u001b[0m\u001b[1m                      Name\u001b[0m\u001b[1m \u001b[0m┃\u001b[1m \u001b[0m\u001b[1mFirst iteration (ms)\u001b[0m\u001b[1m \u001b[0m┃\u001b[1m \u001b[0m\u001b[1mMean (ms)\u001b[0m\u001b[1m \u001b[0m┃\u001b[1m \u001b[0m\u001b[1mmedian (ms)\u001b[0m\u001b[1m \u001b[0m┃\u001b[1m \u001b[0m\u001b[1m               / sec)\u001b[0m\u001b[1m \u001b[0m┃\u001b[1m \u001b[0m\u001b[1mfps (fps)\u001b[0m\u001b[1m \u001b[0m┃\n",
       "┡━━━━━━━━━━━━━━━━━━━━━━━━━━━━╇━━━━━━━━━━━━━━━━━━━━━━╇━━━━━━━━━━━╇━━━━━━━━━━━━━╇━━━━━━━━━━━━━━━━━━━━━━━╇━━━━━━━━━━━┩\n",
       "│\u001b[36m \u001b[0m\u001b[36m        load_image_skimage\u001b[0m\u001b[36m \u001b[0m│\u001b[36m \u001b[0m\u001b[36m               1.770\u001b[0m\u001b[36m \u001b[0m│\u001b[35m \u001b[0m\u001b[35m1.130    \u001b[0m\u001b[35m \u001b[0m│\u001b[32m \u001b[0m\u001b[32m      1.130\u001b[0m\u001b[32m \u001b[0m│\u001b[32m \u001b[0m\u001b[32m              221.163\u001b[0m\u001b[32m \u001b[0m│\u001b[32m \u001b[0m\u001b[32m  884.652\u001b[0m\u001b[32m \u001b[0m│\n",
       "│\u001b[36m \u001b[0m\u001b[36m            load_image_pil\u001b[0m\u001b[36m \u001b[0m│\u001b[36m \u001b[0m\u001b[36m               2.625\u001b[0m\u001b[36m \u001b[0m│\u001b[35m \u001b[0m\u001b[35m1.852    \u001b[0m\u001b[35m \u001b[0m│\u001b[32m \u001b[0m\u001b[32m      1.852\u001b[0m\u001b[32m \u001b[0m│\u001b[32m \u001b[0m\u001b[32m              135.015\u001b[0m\u001b[32m \u001b[0m│\u001b[32m \u001b[0m\u001b[32m  540.059\u001b[0m\u001b[32m \u001b[0m│\n",
       "│\u001b[36m \u001b[0m\u001b[36mload_image_pil_accelerated\u001b[0m\u001b[36m \u001b[0m│\u001b[36m \u001b[0m\u001b[36m               2.710\u001b[0m\u001b[36m \u001b[0m│\u001b[35m \u001b[0m\u001b[35m1.929    \u001b[0m\u001b[35m \u001b[0m│\u001b[32m \u001b[0m\u001b[32m      1.929\u001b[0m\u001b[32m \u001b[0m│\u001b[32m \u001b[0m\u001b[32m              129.606\u001b[0m\u001b[32m \u001b[0m│\u001b[32m \u001b[0m\u001b[32m  518.423\u001b[0m\u001b[32m \u001b[0m│\n",
       "│\u001b[36m \u001b[0m\u001b[36m            load_image_cv2\u001b[0m\u001b[36m \u001b[0m│\u001b[36m \u001b[0m\u001b[36m               2.877\u001b[0m\u001b[36m \u001b[0m│\u001b[35m \u001b[0m\u001b[35m1.202    \u001b[0m\u001b[35m \u001b[0m│\u001b[32m \u001b[0m\u001b[32m      1.202\u001b[0m\u001b[32m \u001b[0m│\u001b[32m \u001b[0m\u001b[32m              208.002\u001b[0m\u001b[32m \u001b[0m│\u001b[32m \u001b[0m\u001b[32m  832.006\u001b[0m\u001b[32m \u001b[0m│\n",
       "│\u001b[36m \u001b[0m\u001b[36m       load_image_rasterio\u001b[0m\u001b[36m \u001b[0m│\u001b[36m \u001b[0m\u001b[36m               3.293\u001b[0m\u001b[36m \u001b[0m│\u001b[35m \u001b[0m\u001b[35m1.607    \u001b[0m\u001b[35m \u001b[0m│\u001b[32m \u001b[0m\u001b[32m      1.607\u001b[0m\u001b[32m \u001b[0m│\u001b[32m \u001b[0m\u001b[32m              155.566\u001b[0m\u001b[32m \u001b[0m│\u001b[32m \u001b[0m\u001b[32m  622.262\u001b[0m\u001b[32m \u001b[0m│\n",
       "│\u001b[36m \u001b[0m\u001b[36m  load_image_pil_to_tensor\u001b[0m\u001b[36m \u001b[0m│\u001b[36m \u001b[0m\u001b[36m               4.855\u001b[0m\u001b[36m \u001b[0m│\u001b[35m \u001b[0m\u001b[35m3.285    \u001b[0m\u001b[35m \u001b[0m│\u001b[32m \u001b[0m\u001b[32m      3.285\u001b[0m\u001b[32m \u001b[0m│\u001b[32m \u001b[0m\u001b[32m               76.101\u001b[0m\u001b[32m \u001b[0m│\u001b[32m \u001b[0m\u001b[32m  304.403\u001b[0m\u001b[32m \u001b[0m│\n",
       "│\u001b[36m \u001b[0m\u001b[36m   load_image_cv_to_tensor\u001b[0m\u001b[36m \u001b[0m│\u001b[36m \u001b[0m\u001b[36m              16.982\u001b[0m\u001b[36m \u001b[0m│\u001b[35m \u001b[0m\u001b[35m2.530    \u001b[0m\u001b[35m \u001b[0m│\u001b[32m \u001b[0m\u001b[32m      2.530\u001b[0m\u001b[32m \u001b[0m│\u001b[32m \u001b[0m\u001b[32m               98.804\u001b[0m\u001b[32m \u001b[0m│\u001b[32m \u001b[0m\u001b[32m  395.214\u001b[0m\u001b[32m \u001b[0m│\n",
       "└────────────────────────────┴──────────────────────┴───────────┴─────────────┴───────────────────────┴───────────┘\n"
      ]
     },
     "metadata": {},
     "output_type": "display_data"
    },
    {
     "data": {
      "text/html": [
       "<pre style=\"white-space:pre;overflow-x:auto;line-height:normal;font-family:Menlo,'DejaVu Sans Mono',consolas,'Courier New',monospace\"><span style=\"color: #00ff00; text-decoration-color: #00ff00\">───────────── </span>Benchmark statistics : Image with shape = <span style=\"font-weight: bold\">(</span><span style=\"color: #008080; text-decoration-color: #008080; font-weight: bold\">1000</span>, <span style=\"color: #008080; text-decoration-color: #008080; font-weight: bold\">1000</span><span style=\"font-weight: bold\">)</span> and tif format | N° Runs = <span style=\"color: #008080; text-decoration-color: #008080; font-weight: bold\">10</span>  <span style=\"color: #00ff00; text-decoration-color: #00ff00\"> ──────────────</span>\n",
       "</pre>\n"
      ],
      "text/plain": [
       "\u001b[92m───────────── \u001b[0mBenchmark statistics : Image with shape = \u001b[1m(\u001b[0m\u001b[1;36m1000\u001b[0m, \u001b[1;36m1000\u001b[0m\u001b[1m)\u001b[0m and tif format | N° Runs = \u001b[1;36m10\u001b[0m  \u001b[92m ──────────────\u001b[0m\n"
      ]
     },
     "metadata": {},
     "output_type": "display_data"
    },
    {
     "name": "stdout",
     "output_type": "stream",
     "text": [
      "load_image_nvjpegl_cpu incompatible with tif\n",
      "load_image_nvjpegl_gpu incompatible with tif\n",
      "load_image_pytorch incompatible with tif\n"
     ]
    },
    {
     "data": {
      "text/html": [
       "<pre style=\"white-space:pre;overflow-x:auto;line-height:normal;font-family:Menlo,'DejaVu Sans Mono',consolas,'Courier New',monospace\"><span style=\"font-style: italic\">                               Statistics Table for image with num pixels = 1000000                                </span>\n",
       "┏━━━━━━━━━━━━━━━━━━━━━━━━━━━━┳━━━━━━━━━━━━━━━━━━━━━━┳━━━━━━━━━━━┳━━━━━━━━━━━━━┳━━━━━━━━━━━━━━━━━━━━━━━┳━━━━━━━━━━━┓\n",
       "┃<span style=\"font-weight: bold\">                            </span>┃<span style=\"font-weight: bold\">                      </span>┃<span style=\"font-weight: bold\">           </span>┃<span style=\"font-weight: bold\">             </span>┃<span style=\"font-weight: bold\"> Throughput (Megapixel </span>┃<span style=\"font-weight: bold\">           </span>┃\n",
       "┃<span style=\"font-weight: bold\">                       Name </span>┃<span style=\"font-weight: bold\"> First iteration (ms) </span>┃<span style=\"font-weight: bold\"> Mean (ms) </span>┃<span style=\"font-weight: bold\"> median (ms) </span>┃<span style=\"font-weight: bold\">                / sec) </span>┃<span style=\"font-weight: bold\"> fps (fps) </span>┃\n",
       "┡━━━━━━━━━━━━━━━━━━━━━━━━━━━━╇━━━━━━━━━━━━━━━━━━━━━━╇━━━━━━━━━━━╇━━━━━━━━━━━━━╇━━━━━━━━━━━━━━━━━━━━━━━╇━━━━━━━━━━━┩\n",
       "│<span style=\"color: #008080; text-decoration-color: #008080\">         load_image_skimage </span>│<span style=\"color: #008080; text-decoration-color: #008080\">                3.112 </span>│<span style=\"color: #800080; text-decoration-color: #800080\"> 1.776     </span>│<span style=\"color: #008000; text-decoration-color: #008000\">       1.776 </span>│<span style=\"color: #008000; text-decoration-color: #008000\">               563.133 </span>│<span style=\"color: #008000; text-decoration-color: #008000\">   563.133 </span>│\n",
       "│<span style=\"color: #008080; text-decoration-color: #008080\">             load_image_pil </span>│<span style=\"color: #008080; text-decoration-color: #008080\">                6.469 </span>│<span style=\"color: #800080; text-decoration-color: #800080\"> 4.073     </span>│<span style=\"color: #008000; text-decoration-color: #008000\">       4.073 </span>│<span style=\"color: #008000; text-decoration-color: #008000\">               245.549 </span>│<span style=\"color: #008000; text-decoration-color: #008000\">   245.549 </span>│\n",
       "│<span style=\"color: #008080; text-decoration-color: #008080\"> load_image_pil_accelerated </span>│<span style=\"color: #008080; text-decoration-color: #008080\">                4.803 </span>│<span style=\"color: #800080; text-decoration-color: #800080\"> 3.403     </span>│<span style=\"color: #008000; text-decoration-color: #008000\">       3.403 </span>│<span style=\"color: #008000; text-decoration-color: #008000\">               293.879 </span>│<span style=\"color: #008000; text-decoration-color: #008000\">   293.879 </span>│\n",
       "│<span style=\"color: #008080; text-decoration-color: #008080\">             load_image_cv2 </span>│<span style=\"color: #008080; text-decoration-color: #008080\">               10.559 </span>│<span style=\"color: #800080; text-decoration-color: #800080\"> 5.530     </span>│<span style=\"color: #008000; text-decoration-color: #008000\">       5.530 </span>│<span style=\"color: #008000; text-decoration-color: #008000\">               180.823 </span>│<span style=\"color: #008000; text-decoration-color: #008000\">   180.823 </span>│\n",
       "│<span style=\"color: #008080; text-decoration-color: #008080\">        load_image_rasterio </span>│<span style=\"color: #008080; text-decoration-color: #008080\">                6.378 </span>│<span style=\"color: #800080; text-decoration-color: #800080\"> 3.380     </span>│<span style=\"color: #008000; text-decoration-color: #008000\">       3.380 </span>│<span style=\"color: #008000; text-decoration-color: #008000\">               295.829 </span>│<span style=\"color: #008000; text-decoration-color: #008000\">   295.829 </span>│\n",
       "│<span style=\"color: #008080; text-decoration-color: #008080\">   load_image_pil_to_tensor </span>│<span style=\"color: #008080; text-decoration-color: #008080\">               24.060 </span>│<span style=\"color: #800080; text-decoration-color: #800080\"> 10.376    </span>│<span style=\"color: #008000; text-decoration-color: #008000\">      10.376 </span>│<span style=\"color: #008000; text-decoration-color: #008000\">                96.378 </span>│<span style=\"color: #008000; text-decoration-color: #008000\">    96.378 </span>│\n",
       "│<span style=\"color: #008080; text-decoration-color: #008080\">    load_image_cv_to_tensor </span>│<span style=\"color: #008080; text-decoration-color: #008080\">               29.318 </span>│<span style=\"color: #800080; text-decoration-color: #800080\"> 11.407    </span>│<span style=\"color: #008000; text-decoration-color: #008000\">      11.407 </span>│<span style=\"color: #008000; text-decoration-color: #008000\">                87.667 </span>│<span style=\"color: #008000; text-decoration-color: #008000\">    87.667 </span>│\n",
       "└────────────────────────────┴──────────────────────┴───────────┴─────────────┴───────────────────────┴───────────┘\n",
       "</pre>\n"
      ],
      "text/plain": [
       "\u001b[3m                               Statistics Table for image with num pixels = 1000000                                \u001b[0m\n",
       "┏━━━━━━━━━━━━━━━━━━━━━━━━━━━━┳━━━━━━━━━━━━━━━━━━━━━━┳━━━━━━━━━━━┳━━━━━━━━━━━━━┳━━━━━━━━━━━━━━━━━━━━━━━┳━━━━━━━━━━━┓\n",
       "┃\u001b[1m                            \u001b[0m┃\u001b[1m                      \u001b[0m┃\u001b[1m           \u001b[0m┃\u001b[1m             \u001b[0m┃\u001b[1m \u001b[0m\u001b[1mThroughput (Megapixel\u001b[0m\u001b[1m \u001b[0m┃\u001b[1m           \u001b[0m┃\n",
       "┃\u001b[1m \u001b[0m\u001b[1m                      Name\u001b[0m\u001b[1m \u001b[0m┃\u001b[1m \u001b[0m\u001b[1mFirst iteration (ms)\u001b[0m\u001b[1m \u001b[0m┃\u001b[1m \u001b[0m\u001b[1mMean (ms)\u001b[0m\u001b[1m \u001b[0m┃\u001b[1m \u001b[0m\u001b[1mmedian (ms)\u001b[0m\u001b[1m \u001b[0m┃\u001b[1m \u001b[0m\u001b[1m               / sec)\u001b[0m\u001b[1m \u001b[0m┃\u001b[1m \u001b[0m\u001b[1mfps (fps)\u001b[0m\u001b[1m \u001b[0m┃\n",
       "┡━━━━━━━━━━━━━━━━━━━━━━━━━━━━╇━━━━━━━━━━━━━━━━━━━━━━╇━━━━━━━━━━━╇━━━━━━━━━━━━━╇━━━━━━━━━━━━━━━━━━━━━━━╇━━━━━━━━━━━┩\n",
       "│\u001b[36m \u001b[0m\u001b[36m        load_image_skimage\u001b[0m\u001b[36m \u001b[0m│\u001b[36m \u001b[0m\u001b[36m               3.112\u001b[0m\u001b[36m \u001b[0m│\u001b[35m \u001b[0m\u001b[35m1.776    \u001b[0m\u001b[35m \u001b[0m│\u001b[32m \u001b[0m\u001b[32m      1.776\u001b[0m\u001b[32m \u001b[0m│\u001b[32m \u001b[0m\u001b[32m              563.133\u001b[0m\u001b[32m \u001b[0m│\u001b[32m \u001b[0m\u001b[32m  563.133\u001b[0m\u001b[32m \u001b[0m│\n",
       "│\u001b[36m \u001b[0m\u001b[36m            load_image_pil\u001b[0m\u001b[36m \u001b[0m│\u001b[36m \u001b[0m\u001b[36m               6.469\u001b[0m\u001b[36m \u001b[0m│\u001b[35m \u001b[0m\u001b[35m4.073    \u001b[0m\u001b[35m \u001b[0m│\u001b[32m \u001b[0m\u001b[32m      4.073\u001b[0m\u001b[32m \u001b[0m│\u001b[32m \u001b[0m\u001b[32m              245.549\u001b[0m\u001b[32m \u001b[0m│\u001b[32m \u001b[0m\u001b[32m  245.549\u001b[0m\u001b[32m \u001b[0m│\n",
       "│\u001b[36m \u001b[0m\u001b[36mload_image_pil_accelerated\u001b[0m\u001b[36m \u001b[0m│\u001b[36m \u001b[0m\u001b[36m               4.803\u001b[0m\u001b[36m \u001b[0m│\u001b[35m \u001b[0m\u001b[35m3.403    \u001b[0m\u001b[35m \u001b[0m│\u001b[32m \u001b[0m\u001b[32m      3.403\u001b[0m\u001b[32m \u001b[0m│\u001b[32m \u001b[0m\u001b[32m              293.879\u001b[0m\u001b[32m \u001b[0m│\u001b[32m \u001b[0m\u001b[32m  293.879\u001b[0m\u001b[32m \u001b[0m│\n",
       "│\u001b[36m \u001b[0m\u001b[36m            load_image_cv2\u001b[0m\u001b[36m \u001b[0m│\u001b[36m \u001b[0m\u001b[36m              10.559\u001b[0m\u001b[36m \u001b[0m│\u001b[35m \u001b[0m\u001b[35m5.530    \u001b[0m\u001b[35m \u001b[0m│\u001b[32m \u001b[0m\u001b[32m      5.530\u001b[0m\u001b[32m \u001b[0m│\u001b[32m \u001b[0m\u001b[32m              180.823\u001b[0m\u001b[32m \u001b[0m│\u001b[32m \u001b[0m\u001b[32m  180.823\u001b[0m\u001b[32m \u001b[0m│\n",
       "│\u001b[36m \u001b[0m\u001b[36m       load_image_rasterio\u001b[0m\u001b[36m \u001b[0m│\u001b[36m \u001b[0m\u001b[36m               6.378\u001b[0m\u001b[36m \u001b[0m│\u001b[35m \u001b[0m\u001b[35m3.380    \u001b[0m\u001b[35m \u001b[0m│\u001b[32m \u001b[0m\u001b[32m      3.380\u001b[0m\u001b[32m \u001b[0m│\u001b[32m \u001b[0m\u001b[32m              295.829\u001b[0m\u001b[32m \u001b[0m│\u001b[32m \u001b[0m\u001b[32m  295.829\u001b[0m\u001b[32m \u001b[0m│\n",
       "│\u001b[36m \u001b[0m\u001b[36m  load_image_pil_to_tensor\u001b[0m\u001b[36m \u001b[0m│\u001b[36m \u001b[0m\u001b[36m              24.060\u001b[0m\u001b[36m \u001b[0m│\u001b[35m \u001b[0m\u001b[35m10.376   \u001b[0m\u001b[35m \u001b[0m│\u001b[32m \u001b[0m\u001b[32m     10.376\u001b[0m\u001b[32m \u001b[0m│\u001b[32m \u001b[0m\u001b[32m               96.378\u001b[0m\u001b[32m \u001b[0m│\u001b[32m \u001b[0m\u001b[32m   96.378\u001b[0m\u001b[32m \u001b[0m│\n",
       "│\u001b[36m \u001b[0m\u001b[36m   load_image_cv_to_tensor\u001b[0m\u001b[36m \u001b[0m│\u001b[36m \u001b[0m\u001b[36m              29.318\u001b[0m\u001b[36m \u001b[0m│\u001b[35m \u001b[0m\u001b[35m11.407   \u001b[0m\u001b[35m \u001b[0m│\u001b[32m \u001b[0m\u001b[32m     11.407\u001b[0m\u001b[32m \u001b[0m│\u001b[32m \u001b[0m\u001b[32m               87.667\u001b[0m\u001b[32m \u001b[0m│\u001b[32m \u001b[0m\u001b[32m   87.667\u001b[0m\u001b[32m \u001b[0m│\n",
       "└────────────────────────────┴──────────────────────┴───────────┴─────────────┴───────────────────────┴───────────┘\n"
      ]
     },
     "metadata": {},
     "output_type": "display_data"
    },
    {
     "data": {
      "text/html": [
       "<pre style=\"white-space:pre;overflow-x:auto;line-height:normal;font-family:Menlo,'DejaVu Sans Mono',consolas,'Courier New',monospace\"><span style=\"color: #00ff00; text-decoration-color: #00ff00\">───────────── </span>Benchmark statistics : Image with shape = <span style=\"font-weight: bold\">(</span><span style=\"color: #008080; text-decoration-color: #008080; font-weight: bold\">2000</span>, <span style=\"color: #008080; text-decoration-color: #008080; font-weight: bold\">2000</span><span style=\"font-weight: bold\">)</span> and tif format | N° Runs = <span style=\"color: #008080; text-decoration-color: #008080; font-weight: bold\">10</span>  <span style=\"color: #00ff00; text-decoration-color: #00ff00\"> ──────────────</span>\n",
       "</pre>\n"
      ],
      "text/plain": [
       "\u001b[92m───────────── \u001b[0mBenchmark statistics : Image with shape = \u001b[1m(\u001b[0m\u001b[1;36m2000\u001b[0m, \u001b[1;36m2000\u001b[0m\u001b[1m)\u001b[0m and tif format | N° Runs = \u001b[1;36m10\u001b[0m  \u001b[92m ──────────────\u001b[0m\n"
      ]
     },
     "metadata": {},
     "output_type": "display_data"
    },
    {
     "name": "stdout",
     "output_type": "stream",
     "text": [
      "load_image_nvjpegl_cpu incompatible with tif\n",
      "load_image_nvjpegl_gpu incompatible with tif\n",
      "load_image_pytorch incompatible with tif\n"
     ]
    },
    {
     "data": {
      "text/html": [
       "<pre style=\"white-space:pre;overflow-x:auto;line-height:normal;font-family:Menlo,'DejaVu Sans Mono',consolas,'Courier New',monospace\"><span style=\"font-style: italic\">                               Statistics Table for image with num pixels = 4000000                                </span>\n",
       "┏━━━━━━━━━━━━━━━━━━━━━━━━━━━━┳━━━━━━━━━━━━━━━━━━━━━━┳━━━━━━━━━━━┳━━━━━━━━━━━━━┳━━━━━━━━━━━━━━━━━━━━━━━┳━━━━━━━━━━━┓\n",
       "┃<span style=\"font-weight: bold\">                            </span>┃<span style=\"font-weight: bold\">                      </span>┃<span style=\"font-weight: bold\">           </span>┃<span style=\"font-weight: bold\">             </span>┃<span style=\"font-weight: bold\"> Throughput (Megapixel </span>┃<span style=\"font-weight: bold\">           </span>┃\n",
       "┃<span style=\"font-weight: bold\">                       Name </span>┃<span style=\"font-weight: bold\"> First iteration (ms) </span>┃<span style=\"font-weight: bold\"> Mean (ms) </span>┃<span style=\"font-weight: bold\"> median (ms) </span>┃<span style=\"font-weight: bold\">                / sec) </span>┃<span style=\"font-weight: bold\"> fps (fps) </span>┃\n",
       "┡━━━━━━━━━━━━━━━━━━━━━━━━━━━━╇━━━━━━━━━━━━━━━━━━━━━━╇━━━━━━━━━━━╇━━━━━━━━━━━━━╇━━━━━━━━━━━━━━━━━━━━━━━╇━━━━━━━━━━━┩\n",
       "│<span style=\"color: #008080; text-decoration-color: #008080\">         load_image_skimage </span>│<span style=\"color: #008080; text-decoration-color: #008080\">                9.298 </span>│<span style=\"color: #800080; text-decoration-color: #800080\"> 7.821     </span>│<span style=\"color: #008000; text-decoration-color: #008000\">       7.821 </span>│<span style=\"color: #008000; text-decoration-color: #008000\">               511.442 </span>│<span style=\"color: #008000; text-decoration-color: #008000\">   127.860 </span>│\n",
       "│<span style=\"color: #008080; text-decoration-color: #008080\">             load_image_pil </span>│<span style=\"color: #008080; text-decoration-color: #008080\">               24.860 </span>│<span style=\"color: #800080; text-decoration-color: #800080\"> 20.558    </span>│<span style=\"color: #008000; text-decoration-color: #008000\">      20.558 </span>│<span style=\"color: #008000; text-decoration-color: #008000\">               194.571 </span>│<span style=\"color: #008000; text-decoration-color: #008000\">    48.643 </span>│\n",
       "│<span style=\"color: #008080; text-decoration-color: #008080\"> load_image_pil_accelerated </span>│<span style=\"color: #008080; text-decoration-color: #008080\">               21.541 </span>│<span style=\"color: #800080; text-decoration-color: #800080\"> 15.975    </span>│<span style=\"color: #008000; text-decoration-color: #008000\">      15.975 </span>│<span style=\"color: #008000; text-decoration-color: #008000\">               250.390 </span>│<span style=\"color: #008000; text-decoration-color: #008000\">    62.597 </span>│\n",
       "│<span style=\"color: #008080; text-decoration-color: #008080\">             load_image_cv2 </span>│<span style=\"color: #008080; text-decoration-color: #008080\">               36.151 </span>│<span style=\"color: #800080; text-decoration-color: #800080\"> 17.122    </span>│<span style=\"color: #008000; text-decoration-color: #008000\">      17.122 </span>│<span style=\"color: #008000; text-decoration-color: #008000\">               233.623 </span>│<span style=\"color: #008000; text-decoration-color: #008000\">    58.406 </span>│\n",
       "│<span style=\"color: #008080; text-decoration-color: #008080\">        load_image_rasterio </span>│<span style=\"color: #008080; text-decoration-color: #008080\">               22.407 </span>│<span style=\"color: #800080; text-decoration-color: #800080\"> 15.065    </span>│<span style=\"color: #008000; text-decoration-color: #008000\">      15.065 </span>│<span style=\"color: #008000; text-decoration-color: #008000\">               265.523 </span>│<span style=\"color: #008000; text-decoration-color: #008000\">    66.381 </span>│\n",
       "│<span style=\"color: #008080; text-decoration-color: #008080\">   load_image_pil_to_tensor </span>│<span style=\"color: #008080; text-decoration-color: #008080\">               50.251 </span>│<span style=\"color: #800080; text-decoration-color: #800080\"> 47.615    </span>│<span style=\"color: #008000; text-decoration-color: #008000\">      47.615 </span>│<span style=\"color: #008000; text-decoration-color: #008000\">                84.007 </span>│<span style=\"color: #008000; text-decoration-color: #008000\">    21.002 </span>│\n",
       "│<span style=\"color: #008080; text-decoration-color: #008080\">    load_image_cv_to_tensor </span>│<span style=\"color: #008080; text-decoration-color: #008080\">               32.153 </span>│<span style=\"color: #800080; text-decoration-color: #800080\"> 47.634    </span>│<span style=\"color: #008000; text-decoration-color: #008000\">      47.634 </span>│<span style=\"color: #008000; text-decoration-color: #008000\">                83.974 </span>│<span style=\"color: #008000; text-decoration-color: #008000\">    20.993 </span>│\n",
       "└────────────────────────────┴──────────────────────┴───────────┴─────────────┴───────────────────────┴───────────┘\n",
       "</pre>\n"
      ],
      "text/plain": [
       "\u001b[3m                               Statistics Table for image with num pixels = 4000000                                \u001b[0m\n",
       "┏━━━━━━━━━━━━━━━━━━━━━━━━━━━━┳━━━━━━━━━━━━━━━━━━━━━━┳━━━━━━━━━━━┳━━━━━━━━━━━━━┳━━━━━━━━━━━━━━━━━━━━━━━┳━━━━━━━━━━━┓\n",
       "┃\u001b[1m                            \u001b[0m┃\u001b[1m                      \u001b[0m┃\u001b[1m           \u001b[0m┃\u001b[1m             \u001b[0m┃\u001b[1m \u001b[0m\u001b[1mThroughput (Megapixel\u001b[0m\u001b[1m \u001b[0m┃\u001b[1m           \u001b[0m┃\n",
       "┃\u001b[1m \u001b[0m\u001b[1m                      Name\u001b[0m\u001b[1m \u001b[0m┃\u001b[1m \u001b[0m\u001b[1mFirst iteration (ms)\u001b[0m\u001b[1m \u001b[0m┃\u001b[1m \u001b[0m\u001b[1mMean (ms)\u001b[0m\u001b[1m \u001b[0m┃\u001b[1m \u001b[0m\u001b[1mmedian (ms)\u001b[0m\u001b[1m \u001b[0m┃\u001b[1m \u001b[0m\u001b[1m               / sec)\u001b[0m\u001b[1m \u001b[0m┃\u001b[1m \u001b[0m\u001b[1mfps (fps)\u001b[0m\u001b[1m \u001b[0m┃\n",
       "┡━━━━━━━━━━━━━━━━━━━━━━━━━━━━╇━━━━━━━━━━━━━━━━━━━━━━╇━━━━━━━━━━━╇━━━━━━━━━━━━━╇━━━━━━━━━━━━━━━━━━━━━━━╇━━━━━━━━━━━┩\n",
       "│\u001b[36m \u001b[0m\u001b[36m        load_image_skimage\u001b[0m\u001b[36m \u001b[0m│\u001b[36m \u001b[0m\u001b[36m               9.298\u001b[0m\u001b[36m \u001b[0m│\u001b[35m \u001b[0m\u001b[35m7.821    \u001b[0m\u001b[35m \u001b[0m│\u001b[32m \u001b[0m\u001b[32m      7.821\u001b[0m\u001b[32m \u001b[0m│\u001b[32m \u001b[0m\u001b[32m              511.442\u001b[0m\u001b[32m \u001b[0m│\u001b[32m \u001b[0m\u001b[32m  127.860\u001b[0m\u001b[32m \u001b[0m│\n",
       "│\u001b[36m \u001b[0m\u001b[36m            load_image_pil\u001b[0m\u001b[36m \u001b[0m│\u001b[36m \u001b[0m\u001b[36m              24.860\u001b[0m\u001b[36m \u001b[0m│\u001b[35m \u001b[0m\u001b[35m20.558   \u001b[0m\u001b[35m \u001b[0m│\u001b[32m \u001b[0m\u001b[32m     20.558\u001b[0m\u001b[32m \u001b[0m│\u001b[32m \u001b[0m\u001b[32m              194.571\u001b[0m\u001b[32m \u001b[0m│\u001b[32m \u001b[0m\u001b[32m   48.643\u001b[0m\u001b[32m \u001b[0m│\n",
       "│\u001b[36m \u001b[0m\u001b[36mload_image_pil_accelerated\u001b[0m\u001b[36m \u001b[0m│\u001b[36m \u001b[0m\u001b[36m              21.541\u001b[0m\u001b[36m \u001b[0m│\u001b[35m \u001b[0m\u001b[35m15.975   \u001b[0m\u001b[35m \u001b[0m│\u001b[32m \u001b[0m\u001b[32m     15.975\u001b[0m\u001b[32m \u001b[0m│\u001b[32m \u001b[0m\u001b[32m              250.390\u001b[0m\u001b[32m \u001b[0m│\u001b[32m \u001b[0m\u001b[32m   62.597\u001b[0m\u001b[32m \u001b[0m│\n",
       "│\u001b[36m \u001b[0m\u001b[36m            load_image_cv2\u001b[0m\u001b[36m \u001b[0m│\u001b[36m \u001b[0m\u001b[36m              36.151\u001b[0m\u001b[36m \u001b[0m│\u001b[35m \u001b[0m\u001b[35m17.122   \u001b[0m\u001b[35m \u001b[0m│\u001b[32m \u001b[0m\u001b[32m     17.122\u001b[0m\u001b[32m \u001b[0m│\u001b[32m \u001b[0m\u001b[32m              233.623\u001b[0m\u001b[32m \u001b[0m│\u001b[32m \u001b[0m\u001b[32m   58.406\u001b[0m\u001b[32m \u001b[0m│\n",
       "│\u001b[36m \u001b[0m\u001b[36m       load_image_rasterio\u001b[0m\u001b[36m \u001b[0m│\u001b[36m \u001b[0m\u001b[36m              22.407\u001b[0m\u001b[36m \u001b[0m│\u001b[35m \u001b[0m\u001b[35m15.065   \u001b[0m\u001b[35m \u001b[0m│\u001b[32m \u001b[0m\u001b[32m     15.065\u001b[0m\u001b[32m \u001b[0m│\u001b[32m \u001b[0m\u001b[32m              265.523\u001b[0m\u001b[32m \u001b[0m│\u001b[32m \u001b[0m\u001b[32m   66.381\u001b[0m\u001b[32m \u001b[0m│\n",
       "│\u001b[36m \u001b[0m\u001b[36m  load_image_pil_to_tensor\u001b[0m\u001b[36m \u001b[0m│\u001b[36m \u001b[0m\u001b[36m              50.251\u001b[0m\u001b[36m \u001b[0m│\u001b[35m \u001b[0m\u001b[35m47.615   \u001b[0m\u001b[35m \u001b[0m│\u001b[32m \u001b[0m\u001b[32m     47.615\u001b[0m\u001b[32m \u001b[0m│\u001b[32m \u001b[0m\u001b[32m               84.007\u001b[0m\u001b[32m \u001b[0m│\u001b[32m \u001b[0m\u001b[32m   21.002\u001b[0m\u001b[32m \u001b[0m│\n",
       "│\u001b[36m \u001b[0m\u001b[36m   load_image_cv_to_tensor\u001b[0m\u001b[36m \u001b[0m│\u001b[36m \u001b[0m\u001b[36m              32.153\u001b[0m\u001b[36m \u001b[0m│\u001b[35m \u001b[0m\u001b[35m47.634   \u001b[0m\u001b[35m \u001b[0m│\u001b[32m \u001b[0m\u001b[32m     47.634\u001b[0m\u001b[32m \u001b[0m│\u001b[32m \u001b[0m\u001b[32m               83.974\u001b[0m\u001b[32m \u001b[0m│\u001b[32m \u001b[0m\u001b[32m   20.993\u001b[0m\u001b[32m \u001b[0m│\n",
       "└────────────────────────────┴──────────────────────┴───────────┴─────────────┴───────────────────────┴───────────┘\n"
      ]
     },
     "metadata": {},
     "output_type": "display_data"
    },
    {
     "data": {
      "text/html": [
       "<pre style=\"white-space:pre;overflow-x:auto;line-height:normal;font-family:Menlo,'DejaVu Sans Mono',consolas,'Courier New',monospace\"><span style=\"color: #00ff00; text-decoration-color: #00ff00\">───────────── </span>Benchmark statistics : Image with shape = <span style=\"font-weight: bold\">(</span><span style=\"color: #008080; text-decoration-color: #008080; font-weight: bold\">5000</span>, <span style=\"color: #008080; text-decoration-color: #008080; font-weight: bold\">5000</span><span style=\"font-weight: bold\">)</span> and tif format | N° Runs = <span style=\"color: #008080; text-decoration-color: #008080; font-weight: bold\">10</span>  <span style=\"color: #00ff00; text-decoration-color: #00ff00\"> ──────────────</span>\n",
       "</pre>\n"
      ],
      "text/plain": [
       "\u001b[92m───────────── \u001b[0mBenchmark statistics : Image with shape = \u001b[1m(\u001b[0m\u001b[1;36m5000\u001b[0m, \u001b[1;36m5000\u001b[0m\u001b[1m)\u001b[0m and tif format | N° Runs = \u001b[1;36m10\u001b[0m  \u001b[92m ──────────────\u001b[0m\n"
      ]
     },
     "metadata": {},
     "output_type": "display_data"
    },
    {
     "name": "stdout",
     "output_type": "stream",
     "text": [
      "load_image_nvjpegl_cpu incompatible with tif\n",
      "load_image_nvjpegl_gpu incompatible with tif\n",
      "load_image_pytorch incompatible with tif\n"
     ]
    },
    {
     "data": {
      "text/html": [
       "<pre style=\"white-space:pre;overflow-x:auto;line-height:normal;font-family:Menlo,'DejaVu Sans Mono',consolas,'Courier New',monospace\"><span style=\"font-style: italic\">                               Statistics Table for image with num pixels = 25000000                               </span>\n",
       "┏━━━━━━━━━━━━━━━━━━━━━━━━━━━━┳━━━━━━━━━━━━━━━━━━━━━━┳━━━━━━━━━━━┳━━━━━━━━━━━━━┳━━━━━━━━━━━━━━━━━━━━━━━┳━━━━━━━━━━━┓\n",
       "┃<span style=\"font-weight: bold\">                            </span>┃<span style=\"font-weight: bold\">                      </span>┃<span style=\"font-weight: bold\">           </span>┃<span style=\"font-weight: bold\">             </span>┃<span style=\"font-weight: bold\"> Throughput (Megapixel </span>┃<span style=\"font-weight: bold\">           </span>┃\n",
       "┃<span style=\"font-weight: bold\">                       Name </span>┃<span style=\"font-weight: bold\"> First iteration (ms) </span>┃<span style=\"font-weight: bold\"> Mean (ms) </span>┃<span style=\"font-weight: bold\"> median (ms) </span>┃<span style=\"font-weight: bold\">                / sec) </span>┃<span style=\"font-weight: bold\"> fps (fps) </span>┃\n",
       "┡━━━━━━━━━━━━━━━━━━━━━━━━━━━━╇━━━━━━━━━━━━━━━━━━━━━━╇━━━━━━━━━━━╇━━━━━━━━━━━━━╇━━━━━━━━━━━━━━━━━━━━━━━╇━━━━━━━━━━━┩\n",
       "│<span style=\"color: #008080; text-decoration-color: #008080\">         load_image_skimage </span>│<span style=\"color: #008080; text-decoration-color: #008080\">               53.495 </span>│<span style=\"color: #800080; text-decoration-color: #800080\"> 52.511    </span>│<span style=\"color: #008000; text-decoration-color: #008000\">      52.511 </span>│<span style=\"color: #008000; text-decoration-color: #008000\">               476.088 </span>│<span style=\"color: #008000; text-decoration-color: #008000\">    19.044 </span>│\n",
       "│<span style=\"color: #008080; text-decoration-color: #008080\">             load_image_pil </span>│<span style=\"color: #008080; text-decoration-color: #008080\">              134.679 </span>│<span style=\"color: #800080; text-decoration-color: #800080\"> 131.148   </span>│<span style=\"color: #008000; text-decoration-color: #008000\">     131.148 </span>│<span style=\"color: #008000; text-decoration-color: #008000\">               190.625 </span>│<span style=\"color: #008000; text-decoration-color: #008000\">     7.625 </span>│\n",
       "│<span style=\"color: #008080; text-decoration-color: #008080\"> load_image_pil_accelerated </span>│<span style=\"color: #008080; text-decoration-color: #008080\">              111.583 </span>│<span style=\"color: #800080; text-decoration-color: #800080\"> 110.136   </span>│<span style=\"color: #008000; text-decoration-color: #008000\">     110.136 </span>│<span style=\"color: #008000; text-decoration-color: #008000\">               226.991 </span>│<span style=\"color: #008000; text-decoration-color: #008000\">     9.080 </span>│\n",
       "│<span style=\"color: #008080; text-decoration-color: #008080\">             load_image_cv2 </span>│<span style=\"color: #008080; text-decoration-color: #008080\">              194.853 </span>│<span style=\"color: #800080; text-decoration-color: #800080\"> 112.302   </span>│<span style=\"color: #008000; text-decoration-color: #008000\">     112.302 </span>│<span style=\"color: #008000; text-decoration-color: #008000\">               222.614 </span>│<span style=\"color: #008000; text-decoration-color: #008000\">     8.905 </span>│\n",
       "│<span style=\"color: #008080; text-decoration-color: #008080\">        load_image_rasterio </span>│<span style=\"color: #008080; text-decoration-color: #008080\">               82.367 </span>│<span style=\"color: #800080; text-decoration-color: #800080\"> 68.178    </span>│<span style=\"color: #008000; text-decoration-color: #008000\">      68.178 </span>│<span style=\"color: #008000; text-decoration-color: #008000\">               366.686 </span>│<span style=\"color: #008000; text-decoration-color: #008000\">    14.667 </span>│\n",
       "│<span style=\"color: #008080; text-decoration-color: #008080\">   load_image_pil_to_tensor </span>│<span style=\"color: #008080; text-decoration-color: #008080\">              297.467 </span>│<span style=\"color: #800080; text-decoration-color: #800080\"> 509.360   </span>│<span style=\"color: #008000; text-decoration-color: #008000\">     509.360 </span>│<span style=\"color: #008000; text-decoration-color: #008000\">                49.081 </span>│<span style=\"color: #008000; text-decoration-color: #008000\">     1.963 </span>│\n",
       "│<span style=\"color: #008080; text-decoration-color: #008080\">    load_image_cv_to_tensor </span>│<span style=\"color: #008080; text-decoration-color: #008080\">              242.972 </span>│<span style=\"color: #800080; text-decoration-color: #800080\"> 486.521   </span>│<span style=\"color: #008000; text-decoration-color: #008000\">     486.521 </span>│<span style=\"color: #008000; text-decoration-color: #008000\">                51.385 </span>│<span style=\"color: #008000; text-decoration-color: #008000\">     2.055 </span>│\n",
       "└────────────────────────────┴──────────────────────┴───────────┴─────────────┴───────────────────────┴───────────┘\n",
       "</pre>\n"
      ],
      "text/plain": [
       "\u001b[3m                               Statistics Table for image with num pixels = 25000000                               \u001b[0m\n",
       "┏━━━━━━━━━━━━━━━━━━━━━━━━━━━━┳━━━━━━━━━━━━━━━━━━━━━━┳━━━━━━━━━━━┳━━━━━━━━━━━━━┳━━━━━━━━━━━━━━━━━━━━━━━┳━━━━━━━━━━━┓\n",
       "┃\u001b[1m                            \u001b[0m┃\u001b[1m                      \u001b[0m┃\u001b[1m           \u001b[0m┃\u001b[1m             \u001b[0m┃\u001b[1m \u001b[0m\u001b[1mThroughput (Megapixel\u001b[0m\u001b[1m \u001b[0m┃\u001b[1m           \u001b[0m┃\n",
       "┃\u001b[1m \u001b[0m\u001b[1m                      Name\u001b[0m\u001b[1m \u001b[0m┃\u001b[1m \u001b[0m\u001b[1mFirst iteration (ms)\u001b[0m\u001b[1m \u001b[0m┃\u001b[1m \u001b[0m\u001b[1mMean (ms)\u001b[0m\u001b[1m \u001b[0m┃\u001b[1m \u001b[0m\u001b[1mmedian (ms)\u001b[0m\u001b[1m \u001b[0m┃\u001b[1m \u001b[0m\u001b[1m               / sec)\u001b[0m\u001b[1m \u001b[0m┃\u001b[1m \u001b[0m\u001b[1mfps (fps)\u001b[0m\u001b[1m \u001b[0m┃\n",
       "┡━━━━━━━━━━━━━━━━━━━━━━━━━━━━╇━━━━━━━━━━━━━━━━━━━━━━╇━━━━━━━━━━━╇━━━━━━━━━━━━━╇━━━━━━━━━━━━━━━━━━━━━━━╇━━━━━━━━━━━┩\n",
       "│\u001b[36m \u001b[0m\u001b[36m        load_image_skimage\u001b[0m\u001b[36m \u001b[0m│\u001b[36m \u001b[0m\u001b[36m              53.495\u001b[0m\u001b[36m \u001b[0m│\u001b[35m \u001b[0m\u001b[35m52.511   \u001b[0m\u001b[35m \u001b[0m│\u001b[32m \u001b[0m\u001b[32m     52.511\u001b[0m\u001b[32m \u001b[0m│\u001b[32m \u001b[0m\u001b[32m              476.088\u001b[0m\u001b[32m \u001b[0m│\u001b[32m \u001b[0m\u001b[32m   19.044\u001b[0m\u001b[32m \u001b[0m│\n",
       "│\u001b[36m \u001b[0m\u001b[36m            load_image_pil\u001b[0m\u001b[36m \u001b[0m│\u001b[36m \u001b[0m\u001b[36m             134.679\u001b[0m\u001b[36m \u001b[0m│\u001b[35m \u001b[0m\u001b[35m131.148  \u001b[0m\u001b[35m \u001b[0m│\u001b[32m \u001b[0m\u001b[32m    131.148\u001b[0m\u001b[32m \u001b[0m│\u001b[32m \u001b[0m\u001b[32m              190.625\u001b[0m\u001b[32m \u001b[0m│\u001b[32m \u001b[0m\u001b[32m    7.625\u001b[0m\u001b[32m \u001b[0m│\n",
       "│\u001b[36m \u001b[0m\u001b[36mload_image_pil_accelerated\u001b[0m\u001b[36m \u001b[0m│\u001b[36m \u001b[0m\u001b[36m             111.583\u001b[0m\u001b[36m \u001b[0m│\u001b[35m \u001b[0m\u001b[35m110.136  \u001b[0m\u001b[35m \u001b[0m│\u001b[32m \u001b[0m\u001b[32m    110.136\u001b[0m\u001b[32m \u001b[0m│\u001b[32m \u001b[0m\u001b[32m              226.991\u001b[0m\u001b[32m \u001b[0m│\u001b[32m \u001b[0m\u001b[32m    9.080\u001b[0m\u001b[32m \u001b[0m│\n",
       "│\u001b[36m \u001b[0m\u001b[36m            load_image_cv2\u001b[0m\u001b[36m \u001b[0m│\u001b[36m \u001b[0m\u001b[36m             194.853\u001b[0m\u001b[36m \u001b[0m│\u001b[35m \u001b[0m\u001b[35m112.302  \u001b[0m\u001b[35m \u001b[0m│\u001b[32m \u001b[0m\u001b[32m    112.302\u001b[0m\u001b[32m \u001b[0m│\u001b[32m \u001b[0m\u001b[32m              222.614\u001b[0m\u001b[32m \u001b[0m│\u001b[32m \u001b[0m\u001b[32m    8.905\u001b[0m\u001b[32m \u001b[0m│\n",
       "│\u001b[36m \u001b[0m\u001b[36m       load_image_rasterio\u001b[0m\u001b[36m \u001b[0m│\u001b[36m \u001b[0m\u001b[36m              82.367\u001b[0m\u001b[36m \u001b[0m│\u001b[35m \u001b[0m\u001b[35m68.178   \u001b[0m\u001b[35m \u001b[0m│\u001b[32m \u001b[0m\u001b[32m     68.178\u001b[0m\u001b[32m \u001b[0m│\u001b[32m \u001b[0m\u001b[32m              366.686\u001b[0m\u001b[32m \u001b[0m│\u001b[32m \u001b[0m\u001b[32m   14.667\u001b[0m\u001b[32m \u001b[0m│\n",
       "│\u001b[36m \u001b[0m\u001b[36m  load_image_pil_to_tensor\u001b[0m\u001b[36m \u001b[0m│\u001b[36m \u001b[0m\u001b[36m             297.467\u001b[0m\u001b[36m \u001b[0m│\u001b[35m \u001b[0m\u001b[35m509.360  \u001b[0m\u001b[35m \u001b[0m│\u001b[32m \u001b[0m\u001b[32m    509.360\u001b[0m\u001b[32m \u001b[0m│\u001b[32m \u001b[0m\u001b[32m               49.081\u001b[0m\u001b[32m \u001b[0m│\u001b[32m \u001b[0m\u001b[32m    1.963\u001b[0m\u001b[32m \u001b[0m│\n",
       "│\u001b[36m \u001b[0m\u001b[36m   load_image_cv_to_tensor\u001b[0m\u001b[36m \u001b[0m│\u001b[36m \u001b[0m\u001b[36m             242.972\u001b[0m\u001b[36m \u001b[0m│\u001b[35m \u001b[0m\u001b[35m486.521  \u001b[0m\u001b[35m \u001b[0m│\u001b[32m \u001b[0m\u001b[32m    486.521\u001b[0m\u001b[32m \u001b[0m│\u001b[32m \u001b[0m\u001b[32m               51.385\u001b[0m\u001b[32m \u001b[0m│\u001b[32m \u001b[0m\u001b[32m    2.055\u001b[0m\u001b[32m \u001b[0m│\n",
       "└────────────────────────────┴──────────────────────┴───────────┴─────────────┴───────────────────────┴───────────┘\n"
      ]
     },
     "metadata": {},
     "output_type": "display_data"
    },
    {
     "data": {
      "text/html": [
       "<pre style=\"white-space:pre;overflow-x:auto;line-height:normal;font-family:Menlo,'DejaVu Sans Mono',consolas,'Courier New',monospace\"><span style=\"color: #00ff00; text-decoration-color: #00ff00\">──────────── </span>Benchmark statistics : Image with shape = <span style=\"font-weight: bold\">(</span><span style=\"color: #008080; text-decoration-color: #008080; font-weight: bold\">10000</span>, <span style=\"color: #008080; text-decoration-color: #008080; font-weight: bold\">10000</span><span style=\"font-weight: bold\">)</span> and tif format | N° Runs = <span style=\"color: #008080; text-decoration-color: #008080; font-weight: bold\">10</span>  <span style=\"color: #00ff00; text-decoration-color: #00ff00\"> ─────────────</span>\n",
       "</pre>\n"
      ],
      "text/plain": [
       "\u001b[92m──────────── \u001b[0mBenchmark statistics : Image with shape = \u001b[1m(\u001b[0m\u001b[1;36m10000\u001b[0m, \u001b[1;36m10000\u001b[0m\u001b[1m)\u001b[0m and tif format | N° Runs = \u001b[1;36m10\u001b[0m  \u001b[92m ─────────────\u001b[0m\n"
      ]
     },
     "metadata": {},
     "output_type": "display_data"
    },
    {
     "name": "stdout",
     "output_type": "stream",
     "text": [
      "load_image_nvjpegl_cpu incompatible with tif\n",
      "load_image_nvjpegl_gpu incompatible with tif\n",
      "load_image_pytorch incompatible with tif\n"
     ]
    },
    {
     "data": {
      "text/html": [
       "<pre style=\"white-space:pre;overflow-x:auto;line-height:normal;font-family:Menlo,'DejaVu Sans Mono',consolas,'Courier New',monospace\"><span style=\"font-style: italic\">                              Statistics Table for image with num pixels = 100000000                               </span>\n",
       "┏━━━━━━━━━━━━━━━━━━━━━━━━━━━━┳━━━━━━━━━━━━━━━━━━━━━━┳━━━━━━━━━━━┳━━━━━━━━━━━━━┳━━━━━━━━━━━━━━━━━━━━━━━┳━━━━━━━━━━━┓\n",
       "┃<span style=\"font-weight: bold\">                            </span>┃<span style=\"font-weight: bold\">                      </span>┃<span style=\"font-weight: bold\">           </span>┃<span style=\"font-weight: bold\">             </span>┃<span style=\"font-weight: bold\"> Throughput (Megapixel </span>┃<span style=\"font-weight: bold\">           </span>┃\n",
       "┃<span style=\"font-weight: bold\">                       Name </span>┃<span style=\"font-weight: bold\"> First iteration (ms) </span>┃<span style=\"font-weight: bold\"> Mean (ms) </span>┃<span style=\"font-weight: bold\"> median (ms) </span>┃<span style=\"font-weight: bold\">                / sec) </span>┃<span style=\"font-weight: bold\"> fps (fps) </span>┃\n",
       "┡━━━━━━━━━━━━━━━━━━━━━━━━━━━━╇━━━━━━━━━━━━━━━━━━━━━━╇━━━━━━━━━━━╇━━━━━━━━━━━━━╇━━━━━━━━━━━━━━━━━━━━━━━╇━━━━━━━━━━━┩\n",
       "│<span style=\"color: #008080; text-decoration-color: #008080\">         load_image_skimage </span>│<span style=\"color: #008080; text-decoration-color: #008080\">              392.418 </span>│<span style=\"color: #800080; text-decoration-color: #800080\"> 208.412   </span>│<span style=\"color: #008000; text-decoration-color: #008000\">     208.412 </span>│<span style=\"color: #008000; text-decoration-color: #008000\">               479.818 </span>│<span style=\"color: #008000; text-decoration-color: #008000\">     4.798 </span>│\n",
       "│<span style=\"color: #008080; text-decoration-color: #008080\">             load_image_pil </span>│<span style=\"color: #008080; text-decoration-color: #008080\">              872.690 </span>│<span style=\"color: #800080; text-decoration-color: #800080\"> 643.321   </span>│<span style=\"color: #008000; text-decoration-color: #008000\">     643.321 </span>│<span style=\"color: #008000; text-decoration-color: #008000\">               155.443 </span>│<span style=\"color: #008000; text-decoration-color: #008000\">     1.554 </span>│\n",
       "│<span style=\"color: #008080; text-decoration-color: #008080\"> load_image_pil_accelerated </span>│<span style=\"color: #008080; text-decoration-color: #008080\">              545.869 </span>│<span style=\"color: #800080; text-decoration-color: #800080\"> 455.618   </span>│<span style=\"color: #008000; text-decoration-color: #008000\">     455.618 </span>│<span style=\"color: #008000; text-decoration-color: #008000\">               219.482 </span>│<span style=\"color: #008000; text-decoration-color: #008000\">     2.195 </span>│\n",
       "│<span style=\"color: #008080; text-decoration-color: #008080\">             load_image_cv2 </span>│<span style=\"color: #008080; text-decoration-color: #008080\">             1018.869 </span>│<span style=\"color: #800080; text-decoration-color: #800080\"> 583.890   </span>│<span style=\"color: #008000; text-decoration-color: #008000\">     583.890 </span>│<span style=\"color: #008000; text-decoration-color: #008000\">               171.265 </span>│<span style=\"color: #008000; text-decoration-color: #008000\">     1.713 </span>│\n",
       "│<span style=\"color: #008080; text-decoration-color: #008080\">        load_image_rasterio </span>│<span style=\"color: #008080; text-decoration-color: #008080\">              274.610 </span>│<span style=\"color: #800080; text-decoration-color: #800080\"> 237.452   </span>│<span style=\"color: #008000; text-decoration-color: #008000\">     237.452 </span>│<span style=\"color: #008000; text-decoration-color: #008000\">               421.137 </span>│<span style=\"color: #008000; text-decoration-color: #008000\">     4.211 </span>│\n",
       "│<span style=\"color: #008080; text-decoration-color: #008080\">   load_image_pil_to_tensor </span>│<span style=\"color: #008080; text-decoration-color: #008080\">             1014.686 </span>│<span style=\"color: #800080; text-decoration-color: #800080\"> 2178.634  </span>│<span style=\"color: #008000; text-decoration-color: #008000\">    2178.634 </span>│<span style=\"color: #008000; text-decoration-color: #008000\">                45.900 </span>│<span style=\"color: #008000; text-decoration-color: #008000\">     0.459 </span>│\n",
       "│<span style=\"color: #008080; text-decoration-color: #008080\">    load_image_cv_to_tensor </span>│<span style=\"color: #008080; text-decoration-color: #008080\">             1073.883 </span>│<span style=\"color: #800080; text-decoration-color: #800080\"> 2177.260  </span>│<span style=\"color: #008000; text-decoration-color: #008000\">    2177.260 </span>│<span style=\"color: #008000; text-decoration-color: #008000\">                45.929 </span>│<span style=\"color: #008000; text-decoration-color: #008000\">     0.459 </span>│\n",
       "└────────────────────────────┴──────────────────────┴───────────┴─────────────┴───────────────────────┴───────────┘\n",
       "</pre>\n"
      ],
      "text/plain": [
       "\u001b[3m                              Statistics Table for image with num pixels = 100000000                               \u001b[0m\n",
       "┏━━━━━━━━━━━━━━━━━━━━━━━━━━━━┳━━━━━━━━━━━━━━━━━━━━━━┳━━━━━━━━━━━┳━━━━━━━━━━━━━┳━━━━━━━━━━━━━━━━━━━━━━━┳━━━━━━━━━━━┓\n",
       "┃\u001b[1m                            \u001b[0m┃\u001b[1m                      \u001b[0m┃\u001b[1m           \u001b[0m┃\u001b[1m             \u001b[0m┃\u001b[1m \u001b[0m\u001b[1mThroughput (Megapixel\u001b[0m\u001b[1m \u001b[0m┃\u001b[1m           \u001b[0m┃\n",
       "┃\u001b[1m \u001b[0m\u001b[1m                      Name\u001b[0m\u001b[1m \u001b[0m┃\u001b[1m \u001b[0m\u001b[1mFirst iteration (ms)\u001b[0m\u001b[1m \u001b[0m┃\u001b[1m \u001b[0m\u001b[1mMean (ms)\u001b[0m\u001b[1m \u001b[0m┃\u001b[1m \u001b[0m\u001b[1mmedian (ms)\u001b[0m\u001b[1m \u001b[0m┃\u001b[1m \u001b[0m\u001b[1m               / sec)\u001b[0m\u001b[1m \u001b[0m┃\u001b[1m \u001b[0m\u001b[1mfps (fps)\u001b[0m\u001b[1m \u001b[0m┃\n",
       "┡━━━━━━━━━━━━━━━━━━━━━━━━━━━━╇━━━━━━━━━━━━━━━━━━━━━━╇━━━━━━━━━━━╇━━━━━━━━━━━━━╇━━━━━━━━━━━━━━━━━━━━━━━╇━━━━━━━━━━━┩\n",
       "│\u001b[36m \u001b[0m\u001b[36m        load_image_skimage\u001b[0m\u001b[36m \u001b[0m│\u001b[36m \u001b[0m\u001b[36m             392.418\u001b[0m\u001b[36m \u001b[0m│\u001b[35m \u001b[0m\u001b[35m208.412  \u001b[0m\u001b[35m \u001b[0m│\u001b[32m \u001b[0m\u001b[32m    208.412\u001b[0m\u001b[32m \u001b[0m│\u001b[32m \u001b[0m\u001b[32m              479.818\u001b[0m\u001b[32m \u001b[0m│\u001b[32m \u001b[0m\u001b[32m    4.798\u001b[0m\u001b[32m \u001b[0m│\n",
       "│\u001b[36m \u001b[0m\u001b[36m            load_image_pil\u001b[0m\u001b[36m \u001b[0m│\u001b[36m \u001b[0m\u001b[36m             872.690\u001b[0m\u001b[36m \u001b[0m│\u001b[35m \u001b[0m\u001b[35m643.321  \u001b[0m\u001b[35m \u001b[0m│\u001b[32m \u001b[0m\u001b[32m    643.321\u001b[0m\u001b[32m \u001b[0m│\u001b[32m \u001b[0m\u001b[32m              155.443\u001b[0m\u001b[32m \u001b[0m│\u001b[32m \u001b[0m\u001b[32m    1.554\u001b[0m\u001b[32m \u001b[0m│\n",
       "│\u001b[36m \u001b[0m\u001b[36mload_image_pil_accelerated\u001b[0m\u001b[36m \u001b[0m│\u001b[36m \u001b[0m\u001b[36m             545.869\u001b[0m\u001b[36m \u001b[0m│\u001b[35m \u001b[0m\u001b[35m455.618  \u001b[0m\u001b[35m \u001b[0m│\u001b[32m \u001b[0m\u001b[32m    455.618\u001b[0m\u001b[32m \u001b[0m│\u001b[32m \u001b[0m\u001b[32m              219.482\u001b[0m\u001b[32m \u001b[0m│\u001b[32m \u001b[0m\u001b[32m    2.195\u001b[0m\u001b[32m \u001b[0m│\n",
       "│\u001b[36m \u001b[0m\u001b[36m            load_image_cv2\u001b[0m\u001b[36m \u001b[0m│\u001b[36m \u001b[0m\u001b[36m            1018.869\u001b[0m\u001b[36m \u001b[0m│\u001b[35m \u001b[0m\u001b[35m583.890  \u001b[0m\u001b[35m \u001b[0m│\u001b[32m \u001b[0m\u001b[32m    583.890\u001b[0m\u001b[32m \u001b[0m│\u001b[32m \u001b[0m\u001b[32m              171.265\u001b[0m\u001b[32m \u001b[0m│\u001b[32m \u001b[0m\u001b[32m    1.713\u001b[0m\u001b[32m \u001b[0m│\n",
       "│\u001b[36m \u001b[0m\u001b[36m       load_image_rasterio\u001b[0m\u001b[36m \u001b[0m│\u001b[36m \u001b[0m\u001b[36m             274.610\u001b[0m\u001b[36m \u001b[0m│\u001b[35m \u001b[0m\u001b[35m237.452  \u001b[0m\u001b[35m \u001b[0m│\u001b[32m \u001b[0m\u001b[32m    237.452\u001b[0m\u001b[32m \u001b[0m│\u001b[32m \u001b[0m\u001b[32m              421.137\u001b[0m\u001b[32m \u001b[0m│\u001b[32m \u001b[0m\u001b[32m    4.211\u001b[0m\u001b[32m \u001b[0m│\n",
       "│\u001b[36m \u001b[0m\u001b[36m  load_image_pil_to_tensor\u001b[0m\u001b[36m \u001b[0m│\u001b[36m \u001b[0m\u001b[36m            1014.686\u001b[0m\u001b[36m \u001b[0m│\u001b[35m \u001b[0m\u001b[35m2178.634 \u001b[0m\u001b[35m \u001b[0m│\u001b[32m \u001b[0m\u001b[32m   2178.634\u001b[0m\u001b[32m \u001b[0m│\u001b[32m \u001b[0m\u001b[32m               45.900\u001b[0m\u001b[32m \u001b[0m│\u001b[32m \u001b[0m\u001b[32m    0.459\u001b[0m\u001b[32m \u001b[0m│\n",
       "│\u001b[36m \u001b[0m\u001b[36m   load_image_cv_to_tensor\u001b[0m\u001b[36m \u001b[0m│\u001b[36m \u001b[0m\u001b[36m            1073.883\u001b[0m\u001b[36m \u001b[0m│\u001b[35m \u001b[0m\u001b[35m2177.260 \u001b[0m\u001b[35m \u001b[0m│\u001b[32m \u001b[0m\u001b[32m   2177.260\u001b[0m\u001b[32m \u001b[0m│\u001b[32m \u001b[0m\u001b[32m               45.929\u001b[0m\u001b[32m \u001b[0m│\u001b[32m \u001b[0m\u001b[32m    0.459\u001b[0m\u001b[32m \u001b[0m│\n",
       "└────────────────────────────┴──────────────────────┴───────────┴─────────────┴───────────────────────┴───────────┘\n"
      ]
     },
     "metadata": {},
     "output_type": "display_data"
    }
   ],
   "source": [
    "image_format = \"tif\"\n",
    "df = benchmark_image_loading(methods,basesetup,sizes, image_format)"
   ]
  },
  {
   "cell_type": "code",
   "execution_count": null,
   "metadata": {},
   "outputs": [],
   "source": []
  }
 ],
 "metadata": {
  "kernelspec": {
   "display_name": ".venv",
   "language": "python",
   "name": "python3"
  },
  "language_info": {
   "codemirror_mode": {
    "name": "ipython",
    "version": 3
   },
   "file_extension": ".py",
   "mimetype": "text/x-python",
   "name": "python",
   "nbconvert_exporter": "python",
   "pygments_lexer": "ipython3",
   "version": "3.10.12"
  }
 },
 "nbformat": 4,
 "nbformat_minor": 2
}
