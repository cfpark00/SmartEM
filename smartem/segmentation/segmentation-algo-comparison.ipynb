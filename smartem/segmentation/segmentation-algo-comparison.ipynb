{
 "cells": [
  {
   "cell_type": "code",
   "execution_count": 13,
   "metadata": {},
   "outputs": [],
   "source": [
    "from smartem.segmentation import segmenter, utils\n",
    "from skimage import measure\n",
    "import skimage\n",
    "from smartem.offline.train_mb_error_detector.NNtools import UNet\n",
    "\n",
    "import h5py\n",
    "import matplotlib.pyplot as plt\n",
    "import torch\n",
    "import numpy as np\n",
    "import pyvoi\n",
    "import pandas as pd\n",
    "import seaborn as sns\n",
    "import segmentation_models_pytorch as smp\n",
    "from tqdm import tqdm"
   ]
  },
  {
   "cell_type": "code",
   "execution_count": 2,
   "metadata": {},
   "outputs": [
    {
     "data": {
      "text/plain": [
       "True"
      ]
     },
     "execution_count": 2,
     "metadata": {},
     "output_type": "execute_result"
    }
   ],
   "source": [
    "torch.cuda.is_available()"
   ]
  },
  {
   "cell_type": "code",
   "execution_count": 5,
   "metadata": {},
   "outputs": [],
   "source": [
    "hdf5_path = \"/storage2/projects/smartEM/em-vis/smartem-data-test.hdf5\"\n",
    "temp_dir = \"/storage2/projects/smartEM/em-vis/temp/\"\n",
    "\n",
    "device = torch.device(\"cuda:1\")\n",
    "\n",
    "em2mb_model = UNet.UNet(1, 2)\n",
    "em2mb_path = \"/storage2/projects/smartEM/EM2MB_networks/em2mb_best.pth\""
   ]
  },
  {
   "cell_type": "code",
   "execution_count": 11,
   "metadata": {},
   "outputs": [],
   "source": [
    "Iseg_label = segmenter.Segmenter(em2mb_path, segmenter_function = measure.label, device=device)\n",
    "Iseg_label.set_model(model_class=em2mb_model)"
   ]
  },
  {
   "cell_type": "code",
   "execution_count": 9,
   "metadata": {},
   "outputs": [],
   "source": [
    "Iseg_watershed = segmenter.Segmenter(em2mb_path, segmenter_function = skimage.segmentation.watershed, device=device)\n",
    "Iseg_watershed.set_model(model_class=em2mb_model)\n",
    "\n",
    "Iseg_custom_watershed = segmenter.Segmenter(em2mb_path, segmenter_function = utils.watershed, device=device)\n",
    "Iseg_custom_watershed.set_model(model_class=em2mb_model)"
   ]
  },
  {
   "cell_type": "code",
   "execution_count": 26,
   "metadata": {},
   "outputs": [
    {
     "name": "stderr",
     "output_type": "stream",
     "text": [
      "  0%|          | 0/18 [00:00<?, ?it/s]"
     ]
    },
    {
     "name": "stdout",
     "output_type": "stream",
     "text": [
      "Computing segs for 1200ns\n"
     ]
    },
    {
     "name": "stderr",
     "output_type": "stream",
     "text": [
      "  6%|▌         | 1/18 [00:02<00:46,  2.76s/it]"
     ]
    },
    {
     "name": "stdout",
     "output_type": "stream",
     "text": [
      "Computing segs for 1200ns\n"
     ]
    },
    {
     "name": "stderr",
     "output_type": "stream",
     "text": [
      " 11%|█         | 2/18 [00:05<00:41,  2.59s/it]"
     ]
    },
    {
     "name": "stdout",
     "output_type": "stream",
     "text": [
      "Computing segs for 1200ns\n"
     ]
    },
    {
     "name": "stderr",
     "output_type": "stream",
     "text": [
      " 17%|█▋        | 3/18 [00:07<00:39,  2.61s/it]"
     ]
    },
    {
     "name": "stdout",
     "output_type": "stream",
     "text": [
      "Computing segs for 1200ns\n"
     ]
    },
    {
     "name": "stderr",
     "output_type": "stream",
     "text": [
      " 22%|██▏       | 4/18 [00:10<00:35,  2.56s/it]"
     ]
    },
    {
     "name": "stdout",
     "output_type": "stream",
     "text": [
      "Computing segs for 1200ns\n"
     ]
    },
    {
     "name": "stderr",
     "output_type": "stream",
     "text": [
      " 28%|██▊       | 5/18 [00:12<00:33,  2.57s/it]"
     ]
    },
    {
     "name": "stdout",
     "output_type": "stream",
     "text": [
      "Computing segs for 1200ns\n"
     ]
    },
    {
     "name": "stderr",
     "output_type": "stream",
     "text": [
      " 33%|███▎      | 6/18 [00:15<00:31,  2.61s/it]"
     ]
    },
    {
     "name": "stdout",
     "output_type": "stream",
     "text": [
      "Computing segs for 1200ns\n"
     ]
    },
    {
     "name": "stderr",
     "output_type": "stream",
     "text": [
      " 39%|███▉      | 7/18 [00:18<00:28,  2.61s/it]"
     ]
    },
    {
     "name": "stdout",
     "output_type": "stream",
     "text": [
      "Computing segs for 1200ns\n"
     ]
    },
    {
     "name": "stderr",
     "output_type": "stream",
     "text": [
      " 44%|████▍     | 8/18 [00:20<00:26,  2.62s/it]"
     ]
    },
    {
     "name": "stdout",
     "output_type": "stream",
     "text": [
      "Computing segs for 1200ns\n"
     ]
    },
    {
     "name": "stderr",
     "output_type": "stream",
     "text": [
      " 50%|█████     | 9/18 [00:23<00:24,  2.67s/it]"
     ]
    },
    {
     "name": "stdout",
     "output_type": "stream",
     "text": [
      "Computing segs for 1200ns\n"
     ]
    },
    {
     "name": "stderr",
     "output_type": "stream",
     "text": [
      " 56%|█████▌    | 10/18 [00:26<00:21,  2.67s/it]"
     ]
    },
    {
     "name": "stdout",
     "output_type": "stream",
     "text": [
      "Computing segs for 1200ns\n"
     ]
    },
    {
     "name": "stderr",
     "output_type": "stream",
     "text": [
      " 61%|██████    | 11/18 [00:28<00:18,  2.63s/it]"
     ]
    },
    {
     "name": "stdout",
     "output_type": "stream",
     "text": [
      "Computing segs for 1200ns\n"
     ]
    },
    {
     "name": "stderr",
     "output_type": "stream",
     "text": [
      " 67%|██████▋   | 12/18 [00:31<00:15,  2.53s/it]"
     ]
    },
    {
     "name": "stdout",
     "output_type": "stream",
     "text": [
      "Computing segs for 1200ns\n"
     ]
    },
    {
     "name": "stderr",
     "output_type": "stream",
     "text": [
      " 72%|███████▏  | 13/18 [00:33<00:12,  2.55s/it]"
     ]
    },
    {
     "name": "stdout",
     "output_type": "stream",
     "text": [
      "Computing segs for 1200ns\n"
     ]
    },
    {
     "name": "stderr",
     "output_type": "stream",
     "text": [
      " 78%|███████▊  | 14/18 [00:36<00:10,  2.55s/it]"
     ]
    },
    {
     "name": "stdout",
     "output_type": "stream",
     "text": [
      "Computing segs for 1200ns\n"
     ]
    },
    {
     "name": "stderr",
     "output_type": "stream",
     "text": [
      " 83%|████████▎ | 15/18 [00:38<00:07,  2.56s/it]"
     ]
    },
    {
     "name": "stdout",
     "output_type": "stream",
     "text": [
      "Computing segs for 1200ns\n"
     ]
    },
    {
     "name": "stderr",
     "output_type": "stream",
     "text": [
      " 89%|████████▉ | 16/18 [00:41<00:05,  2.55s/it]"
     ]
    },
    {
     "name": "stdout",
     "output_type": "stream",
     "text": [
      "Computing segs for 1200ns\n"
     ]
    },
    {
     "name": "stderr",
     "output_type": "stream",
     "text": [
      " 94%|█████████▍| 17/18 [00:43<00:02,  2.53s/it]"
     ]
    },
    {
     "name": "stdout",
     "output_type": "stream",
     "text": [
      "Computing segs for 1200ns\n"
     ]
    },
    {
     "name": "stderr",
     "output_type": "stream",
     "text": [
      "100%|██████████| 18/18 [00:46<00:00,  2.58s/it]\n"
     ]
    }
   ],
   "source": [
    "data_dwts = []\n",
    "data_hdt_vois_label_label = []\n",
    "data_hdt_vois_watershed_watershed = []\n",
    "data_hdt_vois_label_watershed = []\n",
    "data_hdt_vois_watershed_label = []\n",
    "data_hdt_vois_custom_watershed = []\n",
    "# data_gt_vois = []\n",
    "\n",
    "with h5py.File(hdf5_path, \"r\") as f:\n",
    "    for reg in tqdm(f.keys()):\n",
    "        group = f[reg]\n",
    "\n",
    "        dwts = [int(dwt) for dwt in list(group.keys())]\n",
    "        dwts.sort()\n",
    "        slowest_dwt = dwts[-1]\n",
    "\n",
    "        mask = group[f\"{slowest_dwt}/mask\"][()]\n",
    "        gt_labels_label = measure.label(255 - mask)\n",
    "        gt_labels_watershed = skimage.segmentation.watershed(mask)\n",
    "\n",
    "        if gt_labels_label.shape[0] % 32 != 0:\n",
    "            gt_labels_label = gt_labels_label[:-(gt_labels_label.shape[0] % 32), :]\n",
    "        \n",
    "        if gt_labels_watershed.shape[0] % 32 != 0:\n",
    "            gt_labels_watershed = gt_labels_watershed[:-(gt_labels_watershed.shape[0] % 32), :]\n",
    "\n",
    "        print(\"Computing segs for 1200ns\")\n",
    "        # 1200ns\n",
    "        im = group[f\"{slowest_dwt}/im\"][()]\n",
    "        hdt_labels_label = Iseg_label.get_labels(im)\n",
    "        hdt_labels_watershed = Iseg_watershed.get_labels(im)\n",
    "        # hdt_labels_custom_watershed = Iseg_custom_watershed.get_labels(im)\n",
    "\n",
    "        gt_vi_label_label,_,_ = pyvoi.VI(gt_labels_label.flatten(), hdt_labels_label.flatten())\n",
    "        gt_vi_watershed_watershed,_,_ = pyvoi.VI(gt_labels_watershed.flatten(), hdt_labels_watershed.flatten())\n",
    "        gt_vi_label_watershed,_,_ = pyvoi.VI(gt_labels_label.flatten(), hdt_labels_watershed.flatten())\n",
    "        gt_vi_watershed_label,_,_ = pyvoi.VI(gt_labels_watershed.flatten(), hdt_labels_label.flatten())\n",
    "\n",
    "        data_hdt_vois_label_label.append(gt_vi_label_label.item())\n",
    "        data_hdt_vois_watershed_watershed.append(gt_vi_watershed_watershed.item())\n",
    "        data_hdt_vois_label_watershed.append(gt_vi_label_watershed.item())\n",
    "        data_hdt_vois_watershed_label.append(gt_vi_watershed_label.item())\n",
    "\n",
    "        # gt_vi_custom_watershed,_,_ = pyvoi.VI(gt_labels.flatten(), hdt_labels_custom_watershed.flatten())\n",
    "\n",
    "\n",
    "\n",
    "\n",
    "\n",
    "        # all dwts\n",
    "        # for dwt in tqdm(group.keys(), desc=reg):\n",
    "        #     im = group[f\"{dwt}/im\"][()]\n",
    "\n",
    "        #     qdt_labels_label = Iseg_label.get_labels(im)\n",
    "        #     qdt_labels_watershed = Iseg_watershed.get_labels(im)\n",
    "        #     qdt_labels_custom_watershed = Iseg_custom_watershed.get_labels(im)\n",
    "\n",
    "        #     voi_hdt_label,_,_ = pyvoi.VI(hdt_labels_label.flatten(), qdt_labels_label.flatten())\n",
    "        #     voi_hdt_watershed,_,_ = pyvoi.VI(hdt_labels_watershed.flatten(), qdt_labels_watershed.flatten())\n",
    "        #     voi_hdt_custom_watershed,_,_ = pyvoi.VI(hdt_labels_custom_watershed.flatten(), qdt_labels_custom_watershed.flatten())\n",
    "        #     data_hdt_vois_label.append(voi_hdt_label.item())\n",
    "        #     data_hdt_vois_watershed.append(voi_hdt_watershed.item())\n",
    "        #     data_hdt_vois_custom_watershed.append(voi_hdt_custom_watershed.item())\n",
    "        #     data_dwts.append(int(dwt))\n",
    "\n",
    "\n",
    "\n",
    "# data = {\"Dwell Time (ns)\": data_dwts, \"Variation of Information from GT (nats)\": data_gt_vois, \"Variation of Information from 1200ns (nats)\": data_hdt_vois}\n",
    "# df = pd.DataFrame(data=data)"
   ]
  },
  {
   "cell_type": "code",
   "execution_count": 29,
   "metadata": {},
   "outputs": [
    {
     "name": "stdout",
     "output_type": "stream",
     "text": [
      "18 18 18 18\n"
     ]
    }
   ],
   "source": [
    "print(len(data_hdt_vois_label_label), len(data_hdt_vois_watershed_watershed), len(data_hdt_vois_label_watershed), len(data_hdt_vois_watershed_label))\n"
   ]
  },
  {
   "cell_type": "code",
   "execution_count": 31,
   "metadata": {},
   "outputs": [
    {
     "name": "stdout",
     "output_type": "stream",
     "text": [
      "72\n"
     ]
    }
   ],
   "source": [
    "Methods = [\"GT:Label\\n-HDT:Label\" for _ in range(len(data_hdt_vois_label_label))] + \\\n",
    "          [\"GT:Watershed\\n-HDT:Watershed\" for _ in range(len(data_hdt_vois_watershed_watershed))] + \\\n",
    "          [\"GT:Label-\\nHDT:Watershed\" for _ in range(len(data_hdt_vois_label_watershed))] + \\\n",
    "          [\"GT:Watershed-\\nHDT:Label\" for _ in range(len(data_hdt_vois_watershed_label))]\n",
    "\n",
    "print(len(Methods))"
   ]
  },
  {
   "cell_type": "code",
   "execution_count": 35,
   "metadata": {},
   "outputs": [
    {
     "data": {
      "image/png": "[encoded data removed]",
      "text/plain": [
       "<Figure size 1000x500 with 1 Axes>"
      ]
     },
     "metadata": {},
     "output_type": "display_data"
    }
   ],
   "source": [
    "data = {\n",
    "    \"Method\": Methods,\n",
    "    \"Variation of Information\": data_hdt_vois_label_label + data_hdt_vois_watershed_watershed + data_hdt_vois_label_watershed + data_hdt_vois_watershed_label\n",
    "    \n",
    "}\n",
    "df = pd.DataFrame(data=data)\n",
    "\n",
    "plt.figure(figsize=(10, 5))\n",
    "sns.boxplot(x=\"Method\", y=\"Variation of Information\", data=df)\n",
    "# plt.xticks(rotation=45)\n",
    "plt.title(\"Variation of Information between GT and HDT\")\n",
    "plt.show()\n",
    "# plt.savefig(\"/storage2/projects/smartEM/EM2MB_networks/vi_boxplot.png\")"
   ]
  },
  {
   "cell_type": "code",
   "execution_count": 27,
   "metadata": {},
   "outputs": [
    {
     "name": "stdout",
     "output_type": "stream",
     "text": [
      "0.4107675552368164\n",
      "0.33695237504111397\n",
      "2.809331046210395\n",
      "2.8019118110338845\n"
     ]
    }
   ],
   "source": [
    "print(np.mean(data_hdt_vois_label_label))\n",
    "print(np.mean(data_hdt_vois_watershed_watershed))\n",
    "print(np.mean(data_hdt_vois_label_watershed))\n",
    "print(np.mean(data_hdt_vois_watershed_label))"
   ]
  }
 ],
 "metadata": {
  "kernelspec": {
   "display_name": "py_connectomics",
   "language": "python",
   "name": "python3"
  },
  "language_info": {
   "codemirror_mode": {
    "name": "ipython",
    "version": 3
   },
   "file_extension": ".py",
   "mimetype": "text/x-python",
   "name": "python",
   "nbconvert_exporter": "python",
   "pygments_lexer": "ipython3",
   "version": "3.10.14"
  }
 },
 "nbformat": 4,
 "nbformat_minor": 2
}
