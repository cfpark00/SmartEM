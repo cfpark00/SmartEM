{
 "cells": [
  {
   "cell_type": "code",
   "execution_count": 22,
   "metadata": {},
   "outputs": [],
   "source": [
    "import numpy as np\n",
    "import os\n",
    "import json\n",
    "from pathlib import Path\n",
    "import time\n",
    "\n",
    "from smartem.smartem import SmartEM\n",
    "from smartem.smartem_par import SmartEMPar\n",
    "from smartem.online import microscope as microscope_client\n",
    "from smartem.online import get_rescan_maps\n",
    "\n",
    "import pandas as pd\n",
    "import seaborn as sns\n",
    "from tqdm import tqdm\n",
    "import matplotlib.pyplot as plt"
   ]
  },
  {
   "cell_type": "code",
   "execution_count": 23,
   "metadata": {},
   "outputs": [],
   "source": [
    "repo_dir = Path(os.getcwd()).parents[1]\n",
    "save_dir = repo_dir / \"experiments/parallelization/temp\""
   ]
  },
  {
   "cell_type": "code",
   "execution_count": 10,
   "metadata": {},
   "outputs": [],
   "source": [
    "# initializing fake random microscope\n",
    "params = {\"W\": 1024, \"H\": 1024, \"dtype\": np.uint16, \"sleep\": True}\n",
    "microscope = microscope_client.FakeRandomMicroscope(params=params)\n",
    "\n",
    "# initializing get_rescan_map\n",
    "params = {\"type\": \"half\", \"fraction\": 0.5}\n",
    "get_rescan_map = get_rescan_maps.GetRescanMapTest(params=params)\n",
    "smart_em = SmartEM(microscope, get_rescan_map)"
   ]
  },
  {
   "cell_type": "code",
   "execution_count": 11,
   "metadata": {},
   "outputs": [],
   "source": [
    "# initializing fake random microscope\n",
    "params = {\"W\": 1024, \"H\": 1024, \"dtype\": np.uint16, \"sleep\": True}\n",
    "microscope = microscope_client.FakeRandomMicroscope(params=params)\n",
    "\n",
    "# initializing get_rescan_map\n",
    "params = {\"type\": \"half\", \"fraction\": 0.5}\n",
    "get_rescan_map = get_rescan_maps.GetRescanMapTest(params=params)\n",
    "smart_em_par = SmartEMPar(microscope, get_rescan_map)"
   ]
  },
  {
   "cell_type": "code",
   "execution_count": 12,
   "metadata": {},
   "outputs": [],
   "source": [
    "with open(\n",
    "    repo_dir / \"examples/default_smartem_params.json\",\n",
    "    \"r\",\n",
    ") as f:\n",
    "    params = json.load(f)\n",
    "    if \"resolution\" in params:\n",
    "        params[\"resolution\"] = tuple(params[\"resolution\"])\n",
    "    params[\"plot\"] = False\n",
    "\n",
    "# Don't acquire as many tiles as there will be sleeping involved\n",
    "with open(\n",
    "    repo_dir / \"examples/default_imaging_params_short.json\",\n",
    "    \"r\",\n",
    ") as f:\n",
    "    params_imaging = json.load(f)\n",
    "    params.update(params_imaging)\n",
    "\n",
    "params[\"verbose\"] = 0\n",
    "\n",
    "smart_em.initialize()\n",
    "smart_em_par.initialize()"
   ]
  },
  {
   "cell_type": "code",
   "execution_count": 13,
   "metadata": {},
   "outputs": [
    {
     "name": "stderr",
     "output_type": "stream",
     "text": [
      " 25%|██▌       | 1/4 [00:35<01:47, 35.80s/it]"
     ]
    },
    {
     "name": "stdout",
     "output_type": "stream",
     "text": [
      "14.890306234359741 vs 20.905004024505615: 28.771569635170717%\n"
     ]
    },
    {
     "name": "stderr",
     "output_type": "stream",
     "text": [
      " 50%|█████     | 2/4 [01:27<01:30, 45.19s/it]"
     ]
    },
    {
     "name": "stdout",
     "output_type": "stream",
     "text": [
      "22.88967204093933 vs 28.85985779762268: 20.686816264129828%\n"
     ]
    },
    {
     "name": "stderr",
     "output_type": "stream",
     "text": [
      " 75%|███████▌  | 3/4 [04:27<01:46, 106.66s/it]"
     ]
    },
    {
     "name": "stdout",
     "output_type": "stream",
     "text": [
      "86.90880799293518 vs 92.89797186851501: 6.447034047262858%\n"
     ]
    },
    {
     "name": "stderr",
     "output_type": "stream",
     "text": [
      "100%|██████████| 4/4 [10:07<00:00, 151.80s/it]"
     ]
    },
    {
     "name": "stdout",
     "output_type": "stream",
     "text": [
      "166.9186499118805 vs 172.90257501602173: 3.460865232103539%\n"
     ]
    },
    {
     "name": "stderr",
     "output_type": "stream",
     "text": [
      "\n"
     ]
    }
   ],
   "source": [
    "data_total_times = []\n",
    "data_task_times = []\n",
    "data_method = []\n",
    "\n",
    "smart_em.get_rescan_map.params[\"sleep_time\"] = 0.5 # 2048x1768 pixels w/ 0.14 s/Mpx\n",
    "smart_em_par.get_rescan_map.params[\"sleep_time\"] = 0.5\n",
    "\n",
    "params[\"sleep\"] = True\n",
    "\n",
    "for fast_dwt in tqdm([50e-9, 100e-9, 500e-9, 1000e-9]):\n",
    "    for rep in tqdm(range(1), leave=False):\n",
    "        params[\"fast_dwt\"] = fast_dwt\n",
    "\n",
    "        tic = time.time()\n",
    "        smart_em.acquire_many_grids(\n",
    "            coordinates=params[\"coordinates\"], params=params, save_dir=save_dir\n",
    "        )\n",
    "        toc_serial = time.time()\n",
    "        smart_em_par.acquire_many_grids(\n",
    "            coordinates=params[\"coordinates\"], params=params, save_dir=save_dir\n",
    "        )\n",
    "        toc_par = time.time()\n",
    "\n",
    "        par_time = toc_par - toc_serial\n",
    "        ser_time = toc_serial - tic\n",
    "        print(f\"{par_time} vs {ser_time}: {(ser_time-par_time)/ser_time*100}%\")\n",
    "\n",
    "        data_task_times.append(fast_dwt)\n",
    "        data_total_times.append(par_time)\n",
    "        data_method.append(\"Parallel\")\n",
    "        data_task_times.append(fast_dwt)\n",
    "        data_total_times.append(ser_time)\n",
    "        data_method.append(\"Serial\")\n",
    "\n",
    "data = {\"Fast Imaging Time (s)\": data_task_times, \"Total Time (s)\": data_total_times, \"Method\": data_method}\n",
    "df = pd.DataFrame(data)\n"
   ]
  },
  {
   "cell_type": "code",
   "execution_count": 21,
   "metadata": {},
   "outputs": [
    {
     "data": {
      "image/png": "[encoded data removed]",
      "text/plain": [
       "<Figure size 640x480 with 1 Axes>"
      ]
     },
     "metadata": {},
     "output_type": "display_data"
    }
   ],
   "source": [
    "sns.scatterplot(df, x=\"Fast Imaging Time (s)\", y=\"Total Time (s)\", hue=\"Method\")\n",
    "plt.xscale('log')\n",
    "plt.yscale('log')"
   ]
  },
  {
   "cell_type": "code",
   "execution_count": null,
   "metadata": {},
   "outputs": [],
   "source": []
  }
 ],
 "metadata": {
  "kernelspec": {
   "display_name": ".venv",
   "language": "python",
   "name": "python3"
  },
  "language_info": {
   "codemirror_mode": {
    "name": "ipython",
    "version": 3
   },
   "file_extension": ".py",
   "mimetype": "text/x-python",
   "name": "python",
   "nbconvert_exporter": "python",
   "pygments_lexer": "ipython3",
   "version": "3.9.5"
  }
 },
 "nbformat": 4,
 "nbformat_minor": 2
}
