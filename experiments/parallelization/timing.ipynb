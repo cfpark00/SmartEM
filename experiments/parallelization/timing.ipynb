{
 "cells": [
  {
   "cell_type": "code",
   "execution_count": 1,
   "metadata": {},
   "outputs": [
    {
     "name": "stderr",
     "output_type": "stream",
     "text": [
      "/var/folders/gy/jk_d3cx54vj18w9sm6x3sg_80000gn/T/ipykernel_38072/3773961829.py:18: DeprecationWarning: \n",
      "Pyarrow will become a required dependency of pandas in the next major release of pandas (pandas 3.0),\n",
      "(to allow more performant data types, such as the Arrow string type, and better interoperability with other libraries)\n",
      "but was not found to be installed on your system.\n",
      "If this would cause problems for you,\n",
      "please provide us feedback at https://github.com/pandas-dev/pandas/issues/54466\n",
      "        \n",
      "  import pandas as pd\n"
     ]
    }
   ],
   "source": [
    "import pytest\n",
    "import numpy as np\n",
    "import sys, os\n",
    "import json\n",
    "from pathlib import Path\n",
    "import time\n",
    "\n",
    "# sys.path.append(os.path.abspath(os.path.join('../..', 'examples')))\n",
    "# from smart_em_script import get_microscope, get_get_rescan_map\n",
    "import smartem\n",
    "from smartem.smartem import SmartEM\n",
    "from smartem.smartem_par import SmartEMPar\n",
    "from smartem.online import microscope as microscope_client\n",
    "from smartem.online import get_rescan_maps\n",
    "\n",
    "from smartem.smartem_par import par_test\n",
    "\n",
    "import pandas as pd\n",
    "import seaborn as sns\n",
    "from tqdm import tqdm\n",
    "import matplotlib.pyplot as plt"
   ]
  },
  {
   "cell_type": "code",
   "execution_count": 2,
   "metadata": {},
   "outputs": [],
   "source": [
    "repo_dir = Path(\"/Users/thomasathey/Documents/shavit-lab/smartem/SmartEM\")\n",
    "save_dir = \"/Users/thomasathey/Desktop/temp\""
   ]
  },
  {
   "cell_type": "code",
   "execution_count": 3,
   "metadata": {},
   "outputs": [],
   "source": [
    "\n",
    "# initializing fake random microscope\n",
    "params = {\"W\": 1024, \"H\": 1024, \"dtype\": np.uint16, \"sleep\": True}\n",
    "microscope = microscope_client.FakeRandomMicroscope(params=params)\n",
    "\n",
    "# initializing get_rescan_map\n",
    "params = {\"type\": \"half\", \"fraction\": 0.5}\n",
    "get_rescan_map = get_rescan_maps.GetRescanMapTest(params=params)\n",
    "smart_em = SmartEM(microscope, get_rescan_map)"
   ]
  },
  {
   "cell_type": "code",
   "execution_count": 4,
   "metadata": {},
   "outputs": [],
   "source": [
    "\n",
    "# initializing fake random microscope\n",
    "params = {\"W\": 1024, \"H\": 1024, \"dtype\": np.uint16, \"sleep\": True}\n",
    "microscope = microscope_client.FakeRandomMicroscope(params=params)\n",
    "\n",
    "# initializing get_rescan_map\n",
    "params = {\"type\": \"half\", \"fraction\": 0.5}\n",
    "get_rescan_map = get_rescan_maps.GetRescanMapTest(params=params)\n",
    "smart_em_par = SmartEMPar(microscope, get_rescan_map)"
   ]
  },
  {
   "cell_type": "code",
   "execution_count": 5,
   "metadata": {},
   "outputs": [],
   "source": [
    "\n",
    "with open(\n",
    "    repo_dir / \"examples/default_smartem_params.json\",\n",
    "    \"r\",\n",
    ") as f:\n",
    "    params = json.load(f)\n",
    "    if \"resolution\" in params:\n",
    "        params[\"resolution\"] = tuple(params[\"resolution\"])\n",
    "    params[\"plot\"] = False\n",
    "\n",
    "# Don't acquire as many tiles as there will be sleeping involved\n",
    "with open(\n",
    "    repo_dir / \"examples/default_imaging_params_short.json\",\n",
    "    \"r\",\n",
    ") as f:\n",
    "    params_imaging = json.load(f)\n",
    "    params.update(params_imaging)\n",
    "\n",
    "params[\"verbose\"] = 0\n",
    "\n",
    "smart_em.initialize()\n",
    "smart_em_par.initialize()"
   ]
  },
  {
   "cell_type": "code",
   "execution_count": 6,
   "metadata": {},
   "outputs": [
    {
     "name": "stderr",
     "output_type": "stream",
     "text": [
      "  0%|          | 0/4 [00:00<?, ?it/s]"
     ]
    }
   ],
   "source": [
    "data_total_times = []\n",
    "data_task_times = []\n",
    "data_method = []\n",
    "\n",
    "smart_em.get_rescan_map.params[\"sleep_time\"] = 0.5 # 2048x1768 pixels w/ 0.14 s/Mpx\n",
    "smart_em_par.get_rescan_map.params[\"sleep_time\"] = 0.5\n",
    "\n",
    "params[\"sleep\"] = True\n",
    "\n",
    "for fast_dwt in tqdm([50e-9, 100e-9, 500e-9, 1000e-9]):\n",
    "    for rep in tqdm(range(1), leave=False):\n",
    "        params[\"fast_dwt\"] = fast_dwt\n",
    "\n",
    "        tic = time.time()\n",
    "        smart_em.acquire_many_grids(\n",
    "            coordinates=params[\"coordinates\"], params=params, save_dir=save_dir\n",
    "        )\n",
    "        toc_serial = time.time()\n",
    "        smart_em_par.acquire_many_grids(\n",
    "            coordinates=params[\"coordinates\"], params=params, save_dir=save_dir\n",
    "        )\n",
    "        toc_par = time.time()\n",
    "\n",
    "        par_time = toc_par - toc_serial\n",
    "        ser_time = toc_serial - tic\n",
    "        print(f\"{par_time} vs {ser_time}: {(ser_time-par_time)/ser_time*100}%\")\n",
    "\n",
    "        data_task_times.append(fast_dwt*5e6)\n",
    "        data_total_times.append(par_time)\n",
    "        data_method.append(\"Parallel\")\n",
    "        data_task_times.append(fast_dwt*5e6)\n",
    "        data_total_times.append(ser_time)\n",
    "        data_method.append(\"Serial\")\n",
    "\n",
    "data = {\"Fast Imaging Time (s)\": data_task_times, \"Total Time (s)\": data_total_times, \"Method\": data_method}\n",
    "df = pd.DataFrame(data)\n"
   ]
  },
  {
   "cell_type": "code",
   "execution_count": null,
   "metadata": {},
   "outputs": [
    {
     "data": {
      "image/png": "[encoded data removed]",
      "text/plain": [
       "<Figure size 640x480 with 1 Axes>"
      ]
     },
     "metadata": {},
     "output_type": "display_data"
    }
   ],
   "source": [
    "sns.scatterplot(df, x=\"Fast Imaging Time (s)\", y=\"Total Time (s)\", hue=\"Method\")\n",
    "plt.xscale('log')\n",
    "plt.yscale('log')"
   ]
  },
  {
   "cell_type": "code",
   "execution_count": null,
   "metadata": {},
   "outputs": [],
   "source": []
  }
 ],
 "metadata": {
  "kernelspec": {
   "display_name": ".venv",
   "language": "python",
   "name": "python3"
  },
  "language_info": {
   "codemirror_mode": {
    "name": "ipython",
    "version": 3
   },
   "file_extension": ".py",
   "mimetype": "text/x-python",
   "name": "python",
   "nbconvert_exporter": "python",
   "pygments_lexer": "ipython3",
   "version": "3.9.5"
  }
 },
 "nbformat": 4,
 "nbformat_minor": 2
}
